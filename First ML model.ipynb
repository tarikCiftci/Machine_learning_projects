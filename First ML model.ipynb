{
 "cells": [
  {
   "cell_type": "markdown",
   "metadata": {},
   "source": [
    "# Simple Linear Regression. Minimal example"
   ]
  },
  {
   "cell_type": "markdown",
   "metadata": {},
   "source": [
    "# Using the same code as before, please solve the following exercises\n",
    "    6. Create a function f(x,z) = 13*xs + 7*zs - 12. Does the algorithm work in the same way?\n",
    "    \n",
    "    \n",
    "Useful tip: When you change something, don't forget to RERUN all cells. This can be done easily by clicking:\n",
    "Kernel -> Restart & Run All\n",
    "If you don't do that, your algorithm will keep the OLD values of all parameters.\n",
    "\n",
    "## Solution\n",
    "\n",
    "Find the line of code, where we declare the targets, and change it from:\n",
    "\n",
    "targets = 2*xs - 3*zs + 5 + noise\n",
    "\n",
    "to \n",
    "\n",
    "targets = 13*xs + 7*zs - 12 + noise\n",
    "\n",
    "Some takeaways:\n",
    "\n",
    "1. The solution is almost found, judging by the values of the loss and those of the weights and biases.\n",
    "2. I would say this algorithm is AS effective as that in the lecture. Still needs more iterations.\n",
    "3. All else equal, the values of the loss are higher, as the values of the targets are higher.\n",
    "4. The same algorithm and methodology solved a completely different problem. That's machine learning for you. \n",
    "\n",
    "See you in the next section!"
   ]
  },
  {
   "cell_type": "markdown",
   "metadata": {},
   "source": [
    "### Import the relevant libraries"
   ]
  },
  {
   "cell_type": "code",
   "execution_count": 1,
   "metadata": {},
   "outputs": [],
   "source": [
    "# We must always import the relevant libraries for our problem at hand. NumPy is a must for this example.\n",
    "import numpy as np\n",
    "\n",
    "# matplotlib and mpl_toolkits are not necessary. We employ them for the sole purpose of visualizing the results.  \n",
    "import matplotlib.pyplot as plt\n",
    "from mpl_toolkits.mplot3d import Axes3D"
   ]
  },
  {
   "cell_type": "markdown",
   "metadata": {},
   "source": [
    "### Generate random input data to train on"
   ]
  },
  {
   "cell_type": "code",
   "execution_count": 2,
   "metadata": {
    "scrolled": false
   },
   "outputs": [
    {
     "name": "stdout",
     "output_type": "stream",
     "text": [
      "(1000000, 2)\n"
     ]
    }
   ],
   "source": [
    "# First, we should declare a variable containing the size of the training set we want to generate.\n",
    "observations = 1000000\n",
    "\n",
    "# We will work with two variables as inputs. You can think about them as x1 and x2 in our previous examples.\n",
    "# We have picked x and z, since it is easier to differentiate them.\n",
    "# We generate them randomly, drawing from an uniform distribution. There are 3 arguments of this method (low, high, size).\n",
    "# The size of xs and zs is observations by 1. In this case: 1000 x 1.\n",
    "xs = np.random.uniform(low=-10, high=10, size=(observations,1))\n",
    "zs = np.random.uniform(-10, 10, (observations,1))\n",
    "\n",
    "# Combine the two dimensions of the input into one input matrix. \n",
    "# This is the X matrix from the linear model y = x*w + b.\n",
    "# column_stack is a Numpy method, which combines two vectors into a matrix. Alternatives are stack, dstack, hstack, etc.\n",
    "inputs = np.column_stack((xs,zs))\n",
    "\n",
    "# Check if the dimensions of the inputs are the same as the ones we defined in the linear model lectures. \n",
    "# They should be n x k, where n is the number of observations, and k is the number of variables, so 1000 x 2.\n",
    "print (inputs.shape)"
   ]
  },
  {
   "cell_type": "markdown",
   "metadata": {},
   "source": [
    "### Generate the targets we will aim at"
   ]
  },
  {
   "cell_type": "code",
   "execution_count": 3,
   "metadata": {},
   "outputs": [
    {
     "name": "stdout",
     "output_type": "stream",
     "text": [
      "(1000000, 1)\n"
     ]
    }
   ],
   "source": [
    "# We want to \"make up\" a function, use the ML methodology, and see if the algorithm has learned it.\n",
    "# We add a small random noise to the function i.e. f(x,z) = 2x - 3z + 5 + <small noise>\n",
    "noise = np.random.uniform(-1, 1, (observations,1))\n",
    "\n",
    "# Produce the targets according to the f(x,z) = 2x - 3z + 5 + noise definition.\n",
    "# In this way, we are basically saying: the weights should be 2 and -3, while the bias is 5.\n",
    "targets = 13*xs + 7*zs - 12 + noise\n",
    "\n",
    "# Check the shape of the targets just in case. It should be n x m, where m is the number of output variables, so 1000 x 1.\n",
    "print (targets.shape)"
   ]
  },
  {
   "cell_type": "markdown",
   "metadata": {},
   "source": [
    "### Plot the training data\n",
    "The point is to see that there is a strong trend that our model should learn to reproduce."
   ]
  },
  {
   "cell_type": "code",
   "execution_count": 4,
   "metadata": {},
   "outputs": [
    {
     "data": {
      "image/png": "[encoded data removed]",
      "text/plain": [
       "<Figure size 432x288 with 1 Axes>"
      ]
     },
     "metadata": {
      "needs_background": "light"
     },
     "output_type": "display_data"
    }
   ],
   "source": [
    "# In order to use the 3D plot, the objects should have a certain shape, so we reshape the targets.\n",
    "# The proper method to use is reshape and takes as arguments the dimensions in which we want to fit the object.\n",
    "targets = targets.reshape(observations,)\n",
    "\n",
    "# Plotting according to the conventional matplotlib.pyplot syntax\n",
    "\n",
    "# Declare the figure\n",
    "fig = plt.figure()\n",
    "\n",
    "# A method allowing us to create the 3D plot\n",
    "ax = fig.add_subplot(111, projection='3d')\n",
    "plt.rcParams['agg.path.chunksize'] = 10000\n",
    "\n",
    "\n",
    "# Choose the axes.\n",
    "ax.plot(xs.reshape(observations,), zs.reshape(observations,), targets.reshape(observations,))\n",
    "\n",
    "# Set labels\n",
    "ax.set_xlabel('xs')\n",
    "ax.set_ylabel('zs')\n",
    "ax.set_zlabel('Targets')\n",
    "\n",
    "# You can fiddle with the azim parameter to plot the data from different angles. Just change the value of azim=100\n",
    "# to azim = 0 ; azim = 200, or whatever. Check and see what happens.\n",
    "ax.view_init(azim=100)\n",
    "\n",
    "# So far we were just describing the plot. This method actually shows the plot. \n",
    "plt.show()\n",
    "\n",
    "# We reshape the targets back to the shape that they were in before plotting.\n",
    "# This reshaping is a side-effect of the 3D plot. Sorry for that.\n",
    "targets = targets.reshape(observations,1)"
   ]
  },
  {
   "cell_type": "markdown",
   "metadata": {},
   "source": [
    "### Initialize variables"
   ]
  },
  {
   "cell_type": "code",
   "execution_count": 5,
   "metadata": {},
   "outputs": [
    {
     "name": "stdout",
     "output_type": "stream",
     "text": [
      "[[ 0.07484314]\n",
      " [-0.03055687]]\n",
      "[-0.01157378]\n"
     ]
    }
   ],
   "source": [
    "# We will initialize the weights and biases randomly in some small initial range.\n",
    "# init_range is the variable that will measure that.\n",
    "# You can play around with the initial range, but we don't really encourage you to do so.\n",
    "# High initial ranges may prevent the machine learning algorithm from learning.\n",
    "init_range = 0.1\n",
    "\n",
    "# Weights are of size k x m, where k is the number of input variables and m is the number of output variables\n",
    "# In our case, the weights matrix is 2x1 since there are 2 inputs (x and z) and one output (y)\n",
    "weights = np.random.uniform(low=-init_range, high=init_range, size=(2, 1))\n",
    "\n",
    "# Biases are of size 1 since there is only 1 output. The bias is a scalar.\n",
    "biases = np.random.uniform(low=-init_range, high=init_range, size=1)\n",
    "\n",
    "#Print the weights to get a sense of how they were initialized.\n",
    "print (weights)\n",
    "print (biases)"
   ]
  },
  {
   "cell_type": "markdown",
   "metadata": {},
   "source": [
    "### Set a learning rate"
   ]
  },
  {
   "cell_type": "code",
   "execution_count": 6,
   "metadata": {},
   "outputs": [],
   "source": [
    "# Set some small learning rate (denoted eta in the lecture). \n",
    "# 0.02 is going to work quite well for our example. Once again, you can play around with it.\n",
    "# It is HIGHLY recommended that you play around with it.\n",
    "learning_rate = 0.02"
   ]
  },
  {
   "cell_type": "markdown",
   "metadata": {},
   "source": [
    "### Train the model"
   ]
  },
  {
   "cell_type": "code",
   "execution_count": 7,
   "metadata": {
    "scrolled": true
   },
   "outputs": [
    {
     "name": "stdout",
     "output_type": "stream",
     "text": [
      "3679.568263535053\n",
      "470.2685623688606\n",
      "111.03791432558087\n",
      "68.77741203404626\n",
      "61.8499945271233\n",
      "58.93922281714497\n",
      "56.55979429384429\n",
      "54.320850931225664\n",
      "52.17571269825522\n",
      "50.11609348555659\n",
      "48.138098490993045\n",
      "46.2384388973146\n",
      "44.41400635050919\n",
      "42.661821171239595\n",
      "40.97902229593502\n",
      "39.362862027782064\n",
      "37.810701486061184\n",
      "36.32000629022312\n",
      "34.888342420937704\n",
      "33.513372245719\n",
      "32.19285070200995\n",
      "30.92462163142492\n",
      "29.70661425915648\n",
      "28.536839812797258\n",
      "27.413388275056086\n",
      "26.334425265066265\n",
      "25.29818904319322\n",
      "24.302987634451867\n",
      "23.347196065835842\n",
      "22.4292537130483\n",
      "21.547661752301924\n",
      "20.70098071302691\n",
      "19.88782812749188\n",
      "19.10687627349918\n",
      "18.356850006469237\n",
      "17.636524677373828\n",
      "16.94472413311948\n",
      "16.280318796114873\n",
      "15.642223819887256\n",
      "15.029397317736356\n",
      "14.440838661533233\n",
      "13.875586847886387\n",
      "13.332718929007711\n",
      "12.811348505715577\n",
      "12.310624280115247\n",
      "11.829728665592484\n",
      "11.367876451851572\n",
      "10.924313522817428\n",
      "10.498315625308782\n",
      "10.089187186471573\n",
      "9.69626017804202\n",
      "9.318893025584439\n",
      "8.95646956092339\n",
      "8.608398016059192\n",
      "8.274110056924233\n",
      "7.953059855402595\n",
      "7.644723198097271\n",
      "7.34859663039033\n",
      "7.0641966343981295\n",
      "6.791058839479216\n",
      "6.5287372640063435\n",
      "6.276803587163822\n",
      "6.03484644958196\n",
      "5.802470781665953\n",
      "5.579297158523142\n",
      "5.364961180434888\n",
      "5.159112877861732\n",
      "4.96141614001026\n",
      "4.771548166028689\n",
      "4.589198937934948\n",
      "4.414070714416795\n",
      "4.2458775446773664\n",
      "4.0843448015323744\n",
      "3.9292087329965866\n",
      "3.78021603162745\n",
      "3.6371234209226064\n",
      "3.499697258096016\n",
      "3.3677131525840993\n",
      "3.240955599659069\n",
      "3.1192176285509072\n",
      "3.002300464503922\n",
      "2.8900132042156446\n",
      "2.7821725041283454\n",
      "2.678602281064203\n",
      "2.5791334247152378\n",
      "2.483603521518596\n",
      "2.391856589466391\n",
      "2.303742823416966\n",
      "2.2191183504918786\n",
      "2.137844995159037\n",
      "2.059790053618614\n",
      "1.984826077123125\n",
      "1.91283066387815\n",
      "1.843686259183628\n",
      "1.7772799634895902\n",
      "1.7135033480528672\n",
      "1.6522522778937259\n",
      "1.593426741763457\n",
      "1.5369306888451473\n",
      "1.4826718719211365\n"
     ]
    }
   ],
   "source": [
    "# We iterate over our training dataset 100 times. That works well with a learning rate of 0.02.\n",
    "# The proper number of iterations is something we will talk about later on, but generally\n",
    "# a lower learning rate would need more iterations, while a higher learning rate would need less iterations\n",
    "# keep in mind that a high learning rate may cause the loss to diverge to infinity, instead of converge to 0.\n",
    "for i in range (100):\n",
    "    \n",
    "    # This is the linear model: y = xw + b equation\n",
    "    outputs = np.dot(inputs,weights) + biases\n",
    "    # The deltas are the differences between the outputs and the targets\n",
    "    # Note that deltas here is a vector 1000 x 1\n",
    "    deltas = outputs - targets\n",
    "        \n",
    "    # We are considering the L2-norm loss, but divided by 2, so it is consistent with the lectures.\n",
    "    # Moreover, we further divide it by the number of observations.\n",
    "    # This is simple rescaling by a constant. We explained that this doesn't change the optimization logic,\n",
    "    # as any function holding the basic property of being lower for better results, and higher for worse results\n",
    "    # can be a loss function.\n",
    "    loss = np.sum(deltas ** 2) / 2 / observations\n",
    "    \n",
    "    # We print the loss function value at each step so we can observe whether it is decreasing as desired.\n",
    "    print (loss)\n",
    "    \n",
    "    # Another small trick is to scale the deltas the same way as the loss function\n",
    "    # In this way our learning rate is independent of the number of samples (observations).\n",
    "    # Again, this doesn't change anything in principle, it simply makes it easier to pick a single learning rate\n",
    "    # that can remain the same if we change the number of training samples (observations).\n",
    "    # You can try solving the problem without rescaling to see how that works for you.\n",
    "    deltas_scaled = deltas / observations\n",
    "    \n",
    "    # Finally, we must apply the gradient descent update rules from the relevant lecture.\n",
    "    # The weights are 2x1, learning rate is 1x1 (scalar), inputs are 1000x2, and deltas_scaled are 1000x1\n",
    "    # We must transpose the inputs so that we get an allowed operation.\n",
    "    weights = weights - learning_rate * np.dot(inputs.T,deltas_scaled)\n",
    "    biases = biases - learning_rate * np.sum(deltas_scaled)\n",
    "    \n",
    "    # The weights are updated in a linear algebraic way (a matrix minus another matrix)\n",
    "    # The biases, however, are just a single number here, so we must transform the deltas into a scalar.\n",
    "    # The two lines are both consistent with the gradient descent methodology. "
   ]
  },
  {
   "cell_type": "markdown",
   "metadata": {},
   "source": [
    "### Print weights and biases and see if we have worked correctly."
   ]
  },
  {
   "cell_type": "code",
   "execution_count": 8,
   "metadata": {},
   "outputs": [
    {
     "name": "stdout",
     "output_type": "stream",
     "text": [
      "[[13.00004857]\n",
      " [ 6.99959462]] [-10.40983718]\n"
     ]
    }
   ],
   "source": [
    "# We print the weights and the biases, so we can see if they have converged to what we wanted.\n",
    "# When declared the targets, following the f(x,z), we knew the weights should be 2 and -3, while the bias: 5.\n",
    "print (weights, biases)\n",
    "\n",
    "# Note that they may be convergING. So more iterations are needed."
   ]
  },
  {
   "cell_type": "markdown",
   "metadata": {},
   "source": [
    "### Plot last outputs vs targets\n",
    "Since they are the last ones at the end of the training, they represent the final model accuracy. <br/>\n",
    "The closer this plot is to a 45 degree line, the closer target and output values are."
   ]
  },
  {
   "cell_type": "code",
   "execution_count": 9,
   "metadata": {},
   "outputs": [
    {
     "data": {
      "image/png": "[encoded data removed]",
      "text/plain": [
       "<Figure size 432x288 with 1 Axes>"
      ]
     },
     "metadata": {
      "needs_background": "light"
     },
     "output_type": "display_data"
    }
   ],
   "source": [
    "# We print the outputs and the targets in order to see if they have a linear relationship.\n",
    "# Again, that's not needed. Moreover, in later lectures, that would not even be possible.\n",
    "plt.plot(outputs,targets)\n",
    "plt.xlabel('outputs')\n",
    "plt.ylabel('targets')\n",
    "plt.show()"
   ]
  }
 ],
 "metadata": {
  "anaconda-cloud": {},
  "kernelspec": {
   "display_name": "Python 3 (ipykernel)",
   "language": "python",
   "name": "python3"
  },
  "language_info": {
   "codemirror_mode": {
    "name": "ipython",
    "version": 3
   },
   "file_extension": ".py",
   "mimetype": "text/x-python",
   "name": "python",
   "nbconvert_exporter": "python",
   "pygments_lexer": "ipython3",
   "version": "3.9.7"
  }
 },
 "nbformat": 4,
 "nbformat_minor": 1
}
