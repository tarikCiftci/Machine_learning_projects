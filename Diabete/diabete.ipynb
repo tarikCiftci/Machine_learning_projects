{
 "cells": [
  {
   "cell_type": "code",
   "execution_count": 1,
   "id": "fc6037bc",
   "metadata": {},
   "outputs": [],
   "source": [
    "import numpy as np\n",
    "import matplotlib.pyplot as plt\n",
    "import pandas as pd"
   ]
  },
  {
   "cell_type": "code",
   "execution_count": 2,
   "id": "ce733ea5",
   "metadata": {},
   "outputs": [],
   "source": [
    "db = pd.read_csv('pima-indians-diabetes.csv', sep=\";\")"
   ]
  },
  {
   "cell_type": "code",
   "execution_count": 3,
   "id": "62f83f46",
   "metadata": {},
   "outputs": [
    {
     "name": "stdout",
     "output_type": "stream",
     "text": [
      "(768, 9)\n"
     ]
    }
   ],
   "source": [
    "print(db.shape)"
   ]
  },
  {
   "cell_type": "code",
   "execution_count": 4,
   "id": "b54cf7fe",
   "metadata": {},
   "outputs": [
    {
     "name": "stdout",
     "output_type": "stream",
     "text": [
      "Index(['grossesses', 'glucose', 'press_art', 'peau', 'insuline', 'IMC',\n",
      "       'fctDiabete', 'age', 'resultat'],\n",
      "      dtype='object')\n"
     ]
    }
   ],
   "source": [
    "print(db.columns)"
   ]
  },
  {
   "cell_type": "code",
   "execution_count": 5,
   "id": "c4825b41",
   "metadata": {},
   "outputs": [
    {
     "name": "stdout",
     "output_type": "stream",
     "text": [
      "grossesses      int64\n",
      "glucose         int64\n",
      "press_art       int64\n",
      "peau            int64\n",
      "insuline        int64\n",
      "IMC           float64\n",
      "fctDiabete    float64\n",
      "age             int64\n",
      "resultat       object\n",
      "dtype: object\n"
     ]
    }
   ],
   "source": [
    "print(db.dtypes)"
   ]
  },
  {
   "cell_type": "code",
   "execution_count": 6,
   "id": "546a75ed",
   "metadata": {},
   "outputs": [
    {
     "name": "stdout",
     "output_type": "stream",
     "text": [
      "Count of Features per Data Type:\n"
     ]
    },
    {
     "data": {
      "text/plain": [
       "int64      6\n",
       "float64    2\n",
       "object     1\n",
       "dtype: int64"
      ]
     },
     "execution_count": 6,
     "metadata": {},
     "output_type": "execute_result"
    }
   ],
   "source": [
    "print('Count of Features per Data Type:')\n",
    "db.dtypes.value_counts()"
   ]
  },
  {
   "cell_type": "code",
   "execution_count": 7,
   "id": "ab739f46",
   "metadata": {},
   "outputs": [
    {
     "name": "stdout",
     "output_type": "stream",
     "text": [
      "Number of Duplicates: 0\n"
     ]
    }
   ],
   "source": [
    "print('Number of Duplicates:', len(db[db.duplicated()]))"
   ]
  },
  {
   "cell_type": "code",
   "execution_count": 8,
   "id": "ae8c47d4",
   "metadata": {},
   "outputs": [
    {
     "name": "stdout",
     "output_type": "stream",
     "text": [
      "Number of Missing Values: 0\n"
     ]
    }
   ],
   "source": [
    "print('Number of Missing Values:', db.isnull().sum().sum())"
   ]
  },
  {
   "cell_type": "code",
   "execution_count": 9,
   "id": "2ec054b5",
   "metadata": {},
   "outputs": [
    {
     "data": {
      "text/html": [
       "<div>\n",
       "<style scoped>\n",
       "    .dataframe tbody tr th:only-of-type {\n",
       "        vertical-align: middle;\n",
       "    }\n",
       "\n",
       "    .dataframe tbody tr th {\n",
       "        vertical-align: top;\n",
       "    }\n",
       "\n",
       "    .dataframe thead th {\n",
       "        text-align: right;\n",
       "    }\n",
       "</style>\n",
       "<table border=\"1\" class=\"dataframe\">\n",
       "  <thead>\n",
       "    <tr style=\"text-align: right;\">\n",
       "      <th></th>\n",
       "      <th>grossesses</th>\n",
       "      <th>glucose</th>\n",
       "      <th>press_art</th>\n",
       "      <th>peau</th>\n",
       "      <th>insuline</th>\n",
       "      <th>IMC</th>\n",
       "      <th>fctDiabete</th>\n",
       "      <th>age</th>\n",
       "    </tr>\n",
       "  </thead>\n",
       "  <tbody>\n",
       "    <tr>\n",
       "      <th>count</th>\n",
       "      <td>768.000000</td>\n",
       "      <td>768.000000</td>\n",
       "      <td>768.000000</td>\n",
       "      <td>768.000000</td>\n",
       "      <td>768.000000</td>\n",
       "      <td>768.000000</td>\n",
       "      <td>768.000000</td>\n",
       "      <td>768.000000</td>\n",
       "    </tr>\n",
       "    <tr>\n",
       "      <th>mean</th>\n",
       "      <td>3.845052</td>\n",
       "      <td>120.894531</td>\n",
       "      <td>69.105469</td>\n",
       "      <td>20.536458</td>\n",
       "      <td>79.799479</td>\n",
       "      <td>31.992578</td>\n",
       "      <td>0.471876</td>\n",
       "      <td>33.240885</td>\n",
       "    </tr>\n",
       "    <tr>\n",
       "      <th>std</th>\n",
       "      <td>3.369578</td>\n",
       "      <td>31.972618</td>\n",
       "      <td>19.355807</td>\n",
       "      <td>15.952218</td>\n",
       "      <td>115.244002</td>\n",
       "      <td>7.884160</td>\n",
       "      <td>0.331329</td>\n",
       "      <td>11.760232</td>\n",
       "    </tr>\n",
       "    <tr>\n",
       "      <th>min</th>\n",
       "      <td>0.000000</td>\n",
       "      <td>0.000000</td>\n",
       "      <td>0.000000</td>\n",
       "      <td>0.000000</td>\n",
       "      <td>0.000000</td>\n",
       "      <td>0.000000</td>\n",
       "      <td>0.078000</td>\n",
       "      <td>21.000000</td>\n",
       "    </tr>\n",
       "    <tr>\n",
       "      <th>25%</th>\n",
       "      <td>1.000000</td>\n",
       "      <td>99.000000</td>\n",
       "      <td>62.000000</td>\n",
       "      <td>0.000000</td>\n",
       "      <td>0.000000</td>\n",
       "      <td>27.300000</td>\n",
       "      <td>0.243750</td>\n",
       "      <td>24.000000</td>\n",
       "    </tr>\n",
       "    <tr>\n",
       "      <th>50%</th>\n",
       "      <td>3.000000</td>\n",
       "      <td>117.000000</td>\n",
       "      <td>72.000000</td>\n",
       "      <td>23.000000</td>\n",
       "      <td>30.500000</td>\n",
       "      <td>32.000000</td>\n",
       "      <td>0.372500</td>\n",
       "      <td>29.000000</td>\n",
       "    </tr>\n",
       "    <tr>\n",
       "      <th>75%</th>\n",
       "      <td>6.000000</td>\n",
       "      <td>140.250000</td>\n",
       "      <td>80.000000</td>\n",
       "      <td>32.000000</td>\n",
       "      <td>127.250000</td>\n",
       "      <td>36.600000</td>\n",
       "      <td>0.626250</td>\n",
       "      <td>41.000000</td>\n",
       "    </tr>\n",
       "    <tr>\n",
       "      <th>max</th>\n",
       "      <td>17.000000</td>\n",
       "      <td>199.000000</td>\n",
       "      <td>122.000000</td>\n",
       "      <td>99.000000</td>\n",
       "      <td>846.000000</td>\n",
       "      <td>67.100000</td>\n",
       "      <td>2.420000</td>\n",
       "      <td>81.000000</td>\n",
       "    </tr>\n",
       "  </tbody>\n",
       "</table>\n",
       "</div>"
      ],
      "text/plain": [
       "       grossesses     glucose   press_art        peau    insuline         IMC  \\\n",
       "count  768.000000  768.000000  768.000000  768.000000  768.000000  768.000000   \n",
       "mean     3.845052  120.894531   69.105469   20.536458   79.799479   31.992578   \n",
       "std      3.369578   31.972618   19.355807   15.952218  115.244002    7.884160   \n",
       "min      0.000000    0.000000    0.000000    0.000000    0.000000    0.000000   \n",
       "25%      1.000000   99.000000   62.000000    0.000000    0.000000   27.300000   \n",
       "50%      3.000000  117.000000   72.000000   23.000000   30.500000   32.000000   \n",
       "75%      6.000000  140.250000   80.000000   32.000000  127.250000   36.600000   \n",
       "max     17.000000  199.000000  122.000000   99.000000  846.000000   67.100000   \n",
       "\n",
       "       fctDiabete         age  \n",
       "count  768.000000  768.000000  \n",
       "mean     0.471876   33.240885  \n",
       "std      0.331329   11.760232  \n",
       "min      0.078000   21.000000  \n",
       "25%      0.243750   24.000000  \n",
       "50%      0.372500   29.000000  \n",
       "75%      0.626250   41.000000  \n",
       "max      2.420000   81.000000  "
      ]
     },
     "execution_count": 9,
     "metadata": {},
     "output_type": "execute_result"
    }
   ],
   "source": [
    "db.describe()"
   ]
  },
  {
   "cell_type": "code",
   "execution_count": 10,
   "id": "fa67c5fa",
   "metadata": {},
   "outputs": [
    {
     "data": {
      "text/html": [
       "<div>\n",
       "<style scoped>\n",
       "    .dataframe tbody tr th:only-of-type {\n",
       "        vertical-align: middle;\n",
       "    }\n",
       "\n",
       "    .dataframe tbody tr th {\n",
       "        vertical-align: top;\n",
       "    }\n",
       "\n",
       "    .dataframe thead th {\n",
       "        text-align: right;\n",
       "    }\n",
       "</style>\n",
       "<table border=\"1\" class=\"dataframe\">\n",
       "  <thead>\n",
       "    <tr style=\"text-align: right;\">\n",
       "      <th></th>\n",
       "      <th>grossesses</th>\n",
       "      <th>glucose</th>\n",
       "      <th>press_art</th>\n",
       "      <th>peau</th>\n",
       "      <th>insuline</th>\n",
       "      <th>IMC</th>\n",
       "      <th>fctDiabete</th>\n",
       "      <th>age</th>\n",
       "      <th>resultat</th>\n",
       "    </tr>\n",
       "  </thead>\n",
       "  <tbody>\n",
       "    <tr>\n",
       "      <th>0</th>\n",
       "      <td>6</td>\n",
       "      <td>148</td>\n",
       "      <td>72</td>\n",
       "      <td>35</td>\n",
       "      <td>0</td>\n",
       "      <td>33.6</td>\n",
       "      <td>0.627</td>\n",
       "      <td>50</td>\n",
       "      <td>Malade</td>\n",
       "    </tr>\n",
       "    <tr>\n",
       "      <th>1</th>\n",
       "      <td>1</td>\n",
       "      <td>85</td>\n",
       "      <td>66</td>\n",
       "      <td>29</td>\n",
       "      <td>0</td>\n",
       "      <td>26.6</td>\n",
       "      <td>0.351</td>\n",
       "      <td>31</td>\n",
       "      <td>Non-malade</td>\n",
       "    </tr>\n",
       "    <tr>\n",
       "      <th>2</th>\n",
       "      <td>8</td>\n",
       "      <td>183</td>\n",
       "      <td>64</td>\n",
       "      <td>0</td>\n",
       "      <td>0</td>\n",
       "      <td>23.3</td>\n",
       "      <td>0.672</td>\n",
       "      <td>32</td>\n",
       "      <td>Malade</td>\n",
       "    </tr>\n",
       "    <tr>\n",
       "      <th>3</th>\n",
       "      <td>1</td>\n",
       "      <td>89</td>\n",
       "      <td>66</td>\n",
       "      <td>23</td>\n",
       "      <td>94</td>\n",
       "      <td>28.1</td>\n",
       "      <td>0.167</td>\n",
       "      <td>21</td>\n",
       "      <td>Non-malade</td>\n",
       "    </tr>\n",
       "    <tr>\n",
       "      <th>4</th>\n",
       "      <td>0</td>\n",
       "      <td>137</td>\n",
       "      <td>40</td>\n",
       "      <td>35</td>\n",
       "      <td>168</td>\n",
       "      <td>43.1</td>\n",
       "      <td>2.288</td>\n",
       "      <td>33</td>\n",
       "      <td>Malade</td>\n",
       "    </tr>\n",
       "  </tbody>\n",
       "</table>\n",
       "</div>"
      ],
      "text/plain": [
       "   grossesses  glucose  press_art  peau  insuline   IMC  fctDiabete  age  \\\n",
       "0           6      148         72    35         0  33.6       0.627   50   \n",
       "1           1       85         66    29         0  26.6       0.351   31   \n",
       "2           8      183         64     0         0  23.3       0.672   32   \n",
       "3           1       89         66    23        94  28.1       0.167   21   \n",
       "4           0      137         40    35       168  43.1       2.288   33   \n",
       "\n",
       "     resultat  \n",
       "0      Malade  \n",
       "1  Non-malade  \n",
       "2      Malade  \n",
       "3  Non-malade  \n",
       "4      Malade  "
      ]
     },
     "execution_count": 10,
     "metadata": {},
     "output_type": "execute_result"
    }
   ],
   "source": [
    "db.head()"
   ]
  },
  {
   "cell_type": "code",
   "execution_count": 38,
   "id": "fca306fd",
   "metadata": {},
   "outputs": [],
   "source": [
    "data = db.values # on fait la matrice\n",
    "x = data[: , :-1] # tout le reste\n",
    "y = data[:, -1] # malade ou non malade"
   ]
  },
  {
   "cell_type": "code",
   "execution_count": 12,
   "id": "26f4c3fc",
   "metadata": {},
   "outputs": [
    {
     "name": "stdout",
     "output_type": "stream",
     "text": [
      "[[6 148 72 35 0 33.6 0.627 50]\n",
      " [1 85 66 29 0 26.6 0.351 31]\n",
      " [8 183 64 0 0 23.3 0.672 32]\n",
      " [1 89 66 23 94 28.1 0.167 21]\n",
      " [0 137 40 35 168 43.1 2.288 33]\n",
      " [5 116 74 0 0 25.6 0.201 30]\n",
      " [3 78 50 32 88 31.0 0.248 26]\n",
      " [10 115 0 0 0 35.3 0.134 29]\n",
      " [2 197 70 45 543 30.5 0.158 53]\n",
      " [8 125 96 0 0 0.0 0.232 54]]\n"
     ]
    }
   ],
   "source": [
    "print(x[:10,:])"
   ]
  },
  {
   "cell_type": "code",
   "execution_count": 13,
   "id": "a348b708",
   "metadata": {},
   "outputs": [
    {
     "name": "stdout",
     "output_type": "stream",
     "text": [
      "['Malade' 'Non-malade' 'Malade' 'Non-malade' 'Malade' 'Non-malade'\n",
      " 'Malade' 'Non-malade' 'Malade' 'Malade' 'Non-malade' 'Malade'\n",
      " 'Non-malade' 'Malade' 'Malade' 'Malade' 'Malade' 'Malade' 'Non-malade'\n",
      " 'Malade' 'Non-malade' 'Non-malade' 'Malade' 'Malade' 'Malade' 'Malade'\n",
      " 'Malade' 'Non-malade' 'Non-malade' 'Non-malade' 'Non-malade' 'Malade'\n",
      " 'Non-malade' 'Non-malade' 'Non-malade' 'Non-malade' 'Non-malade' 'Malade'\n",
      " 'Malade' 'Malade' 'Non-malade' 'Non-malade' 'Non-malade' 'Malade'\n",
      " 'Non-malade' 'Malade' 'Non-malade' 'Non-malade' 'Malade' 'Non-malade'\n",
      " 'Non-malade' 'Non-malade' 'Non-malade' 'Malade' 'Non-malade' 'Non-malade'\n",
      " 'Malade' 'Non-malade' 'Non-malade' 'Non-malade' 'Non-malade' 'Malade'\n",
      " 'Non-malade' 'Non-malade' 'Malade' 'Non-malade' 'Malade' 'Non-malade'\n",
      " 'Non-malade' 'Non-malade' 'Malade' 'Non-malade' 'Malade' 'Non-malade'\n",
      " 'Non-malade' 'Non-malade' 'Non-malade' 'Non-malade' 'Malade' 'Non-malade'\n",
      " 'Non-malade' 'Non-malade' 'Non-malade' 'Non-malade' 'Malade' 'Non-malade'\n",
      " 'Non-malade' 'Non-malade' 'Malade' 'Non-malade' 'Non-malade' 'Non-malade'\n",
      " 'Non-malade' 'Malade' 'Non-malade' 'Non-malade' 'Non-malade' 'Non-malade'\n",
      " 'Non-malade' 'Malade' 'Malade' 'Non-malade' 'Non-malade' 'Non-malade'\n",
      " 'Non-malade' 'Non-malade' 'Non-malade' 'Non-malade' 'Non-malade' 'Malade'\n",
      " 'Malade' 'Malade' 'Non-malade' 'Non-malade' 'Malade' 'Malade' 'Malade'\n",
      " 'Non-malade' 'Non-malade' 'Non-malade' 'Malade' 'Non-malade' 'Non-malade'\n",
      " 'Non-malade' 'Malade' 'Malade' 'Non-malade' 'Non-malade' 'Malade'\n",
      " 'Malade' 'Malade' 'Malade' 'Malade' 'Non-malade' 'Non-malade'\n",
      " 'Non-malade' 'Non-malade' 'Non-malade' 'Non-malade' 'Non-malade'\n",
      " 'Non-malade' 'Non-malade' 'Non-malade' 'Malade' 'Non-malade' 'Non-malade'\n",
      " 'Non-malade' 'Non-malade' 'Non-malade' 'Non-malade' 'Non-malade'\n",
      " 'Non-malade' 'Malade' 'Non-malade' 'Malade' 'Malade' 'Non-malade'\n",
      " 'Non-malade' 'Non-malade' 'Malade' 'Non-malade' 'Non-malade' 'Non-malade'\n",
      " 'Non-malade' 'Malade' 'Malade' 'Non-malade' 'Non-malade' 'Non-malade'\n",
      " 'Non-malade' 'Malade' 'Malade' 'Non-malade' 'Non-malade' 'Non-malade'\n",
      " 'Malade' 'Non-malade' 'Malade' 'Non-malade' 'Malade' 'Non-malade'\n",
      " 'Non-malade' 'Non-malade' 'Non-malade' 'Non-malade' 'Malade' 'Malade'\n",
      " 'Malade' 'Malade' 'Malade' 'Non-malade' 'Non-malade' 'Malade' 'Malade'\n",
      " 'Non-malade' 'Malade' 'Non-malade' 'Malade' 'Malade' 'Malade'\n",
      " 'Non-malade' 'Non-malade' 'Non-malade' 'Non-malade' 'Non-malade'\n",
      " 'Non-malade' 'Malade' 'Malade' 'Non-malade' 'Malade' 'Non-malade'\n",
      " 'Non-malade' 'Non-malade' 'Malade' 'Malade' 'Malade' 'Malade'\n",
      " 'Non-malade' 'Malade' 'Malade' 'Malade' 'Malade' 'Non-malade'\n",
      " 'Non-malade' 'Non-malade' 'Non-malade' 'Non-malade' 'Malade' 'Non-malade'\n",
      " 'Non-malade' 'Malade' 'Malade' 'Non-malade' 'Non-malade' 'Non-malade'\n",
      " 'Malade' 'Malade' 'Malade' 'Malade' 'Non-malade' 'Non-malade'\n",
      " 'Non-malade' 'Malade' 'Malade' 'Non-malade' 'Malade' 'Non-malade'\n",
      " 'Non-malade' 'Non-malade' 'Non-malade' 'Non-malade' 'Non-malade'\n",
      " 'Non-malade' 'Non-malade' 'Malade' 'Malade' 'Non-malade' 'Non-malade'\n",
      " 'Non-malade' 'Malade' 'Non-malade' 'Malade' 'Non-malade' 'Non-malade'\n",
      " 'Malade' 'Non-malade' 'Malade' 'Non-malade' 'Non-malade' 'Malade'\n",
      " 'Malade' 'Non-malade' 'Non-malade' 'Non-malade' 'Non-malade' 'Non-malade'\n",
      " 'Malade' 'Non-malade' 'Non-malade' 'Non-malade' 'Malade' 'Non-malade'\n",
      " 'Non-malade' 'Malade' 'Malade' 'Non-malade' 'Non-malade' 'Malade'\n",
      " 'Non-malade' 'Non-malade' 'Non-malade' 'Malade' 'Malade' 'Malade'\n",
      " 'Non-malade' 'Non-malade' 'Malade' 'Non-malade' 'Malade' 'Non-malade'\n",
      " 'Malade' 'Malade' 'Non-malade' 'Malade' 'Non-malade' 'Non-malade'\n",
      " 'Malade' 'Non-malade' 'Malade' 'Malade' 'Non-malade' 'Non-malade'\n",
      " 'Malade' 'Non-malade' 'Malade' 'Non-malade' 'Non-malade' 'Malade'\n",
      " 'Non-malade' 'Malade' 'Non-malade' 'Malade' 'Malade' 'Malade'\n",
      " 'Non-malade' 'Non-malade' 'Malade' 'Non-malade' 'Malade' 'Non-malade'\n",
      " 'Non-malade' 'Non-malade' 'Malade' 'Non-malade' 'Non-malade' 'Non-malade'\n",
      " 'Non-malade' 'Malade' 'Malade' 'Malade' 'Non-malade' 'Non-malade'\n",
      " 'Non-malade' 'Non-malade' 'Non-malade' 'Non-malade' 'Non-malade'\n",
      " 'Non-malade' 'Non-malade' 'Malade' 'Non-malade' 'Non-malade' 'Non-malade'\n",
      " 'Non-malade' 'Non-malade' 'Malade' 'Malade' 'Malade' 'Non-malade'\n",
      " 'Malade' 'Malade' 'Non-malade' 'Non-malade' 'Malade' 'Non-malade'\n",
      " 'Non-malade' 'Malade' 'Non-malade' 'Non-malade' 'Malade' 'Malade'\n",
      " 'Non-malade' 'Non-malade' 'Non-malade' 'Non-malade' 'Malade' 'Non-malade'\n",
      " 'Non-malade' 'Malade' 'Non-malade' 'Non-malade' 'Non-malade' 'Non-malade'\n",
      " 'Non-malade' 'Non-malade' 'Non-malade' 'Malade' 'Malade' 'Malade'\n",
      " 'Non-malade' 'Non-malade' 'Malade' 'Non-malade' 'Non-malade' 'Malade'\n",
      " 'Non-malade' 'Non-malade' 'Malade' 'Non-malade' 'Malade' 'Malade'\n",
      " 'Non-malade' 'Malade' 'Non-malade' 'Malade' 'Non-malade' 'Malade'\n",
      " 'Non-malade' 'Malade' 'Malade' 'Non-malade' 'Non-malade' 'Non-malade'\n",
      " 'Non-malade' 'Malade' 'Malade' 'Non-malade' 'Malade' 'Non-malade'\n",
      " 'Malade' 'Non-malade' 'Non-malade' 'Non-malade' 'Non-malade' 'Malade'\n",
      " 'Malade' 'Non-malade' 'Malade' 'Non-malade' 'Malade' 'Non-malade'\n",
      " 'Non-malade' 'Non-malade' 'Non-malade' 'Non-malade' 'Malade' 'Non-malade'\n",
      " 'Non-malade' 'Non-malade' 'Non-malade' 'Malade' 'Non-malade' 'Non-malade'\n",
      " 'Malade' 'Malade' 'Malade' 'Non-malade' 'Non-malade' 'Malade'\n",
      " 'Non-malade' 'Non-malade' 'Malade' 'Non-malade' 'Non-malade' 'Non-malade'\n",
      " 'Malade' 'Non-malade' 'Non-malade' 'Malade' 'Non-malade' 'Non-malade'\n",
      " 'Non-malade' 'Non-malade' 'Non-malade' 'Non-malade' 'Non-malade'\n",
      " 'Non-malade' 'Non-malade' 'Malade' 'Non-malade' 'Non-malade' 'Non-malade'\n",
      " 'Non-malade' 'Non-malade' 'Non-malade' 'Non-malade' 'Malade' 'Non-malade'\n",
      " 'Non-malade' 'Non-malade' 'Malade' 'Non-malade' 'Non-malade' 'Non-malade'\n",
      " 'Malade' 'Malade' 'Non-malade' 'Non-malade' 'Non-malade' 'Non-malade'\n",
      " 'Non-malade' 'Non-malade' 'Non-malade' 'Malade' 'Non-malade' 'Non-malade'\n",
      " 'Non-malade' 'Non-malade' 'Malade' 'Non-malade' 'Non-malade' 'Non-malade'\n",
      " 'Malade' 'Non-malade' 'Non-malade' 'Non-malade' 'Malade' 'Non-malade'\n",
      " 'Non-malade' 'Non-malade' 'Malade' 'Non-malade' 'Non-malade' 'Non-malade'\n",
      " 'Non-malade' 'Malade' 'Malade' 'Non-malade' 'Non-malade' 'Non-malade'\n",
      " 'Non-malade' 'Non-malade' 'Non-malade' 'Malade' 'Non-malade' 'Non-malade'\n",
      " 'Non-malade' 'Non-malade' 'Non-malade' 'Non-malade' 'Non-malade'\n",
      " 'Non-malade' 'Non-malade' 'Non-malade' 'Non-malade' 'Malade' 'Non-malade'\n",
      " 'Non-malade' 'Non-malade' 'Malade' 'Malade' 'Malade' 'Malade'\n",
      " 'Non-malade' 'Non-malade' 'Malade' 'Malade' 'Non-malade' 'Non-malade'\n",
      " 'Non-malade' 'Non-malade' 'Non-malade' 'Non-malade' 'Non-malade'\n",
      " 'Non-malade' 'Non-malade' 'Non-malade' 'Non-malade' 'Non-malade'\n",
      " 'Non-malade' 'Malade' 'Malade' 'Non-malade' 'Non-malade' 'Non-malade'\n",
      " 'Non-malade' 'Non-malade' 'Non-malade' 'Non-malade' 'Malade' 'Non-malade'\n",
      " 'Non-malade' 'Non-malade' 'Non-malade' 'Non-malade' 'Non-malade'\n",
      " 'Non-malade' 'Malade' 'Non-malade' 'Malade' 'Malade' 'Non-malade'\n",
      " 'Non-malade' 'Non-malade' 'Malade' 'Non-malade' 'Malade' 'Non-malade'\n",
      " 'Malade' 'Non-malade' 'Malade' 'Non-malade' 'Malade' 'Non-malade'\n",
      " 'Non-malade' 'Malade' 'Non-malade' 'Non-malade' 'Malade' 'Non-malade'\n",
      " 'Non-malade' 'Non-malade' 'Non-malade' 'Malade' 'Malade' 'Non-malade'\n",
      " 'Malade' 'Non-malade' 'Non-malade' 'Non-malade' 'Non-malade' 'Malade'\n",
      " 'Malade' 'Non-malade' 'Malade' 'Non-malade' 'Non-malade' 'Non-malade'\n",
      " 'Malade' 'Malade' 'Non-malade' 'Non-malade' 'Non-malade' 'Non-malade'\n",
      " 'Non-malade' 'Non-malade' 'Non-malade' 'Non-malade' 'Non-malade'\n",
      " 'Non-malade' 'Malade' 'Non-malade' 'Non-malade' 'Non-malade' 'Non-malade'\n",
      " 'Malade' 'Non-malade' 'Non-malade' 'Malade' 'Non-malade' 'Non-malade'\n",
      " 'Non-malade' 'Malade' 'Non-malade' 'Non-malade' 'Non-malade' 'Malade'\n",
      " 'Malade' 'Malade' 'Non-malade' 'Non-malade' 'Non-malade' 'Non-malade'\n",
      " 'Non-malade' 'Non-malade' 'Malade' 'Non-malade' 'Non-malade' 'Non-malade'\n",
      " 'Malade' 'Non-malade' 'Malade' 'Malade' 'Malade' 'Malade' 'Non-malade'\n",
      " 'Malade' 'Malade' 'Non-malade' 'Non-malade' 'Non-malade' 'Non-malade'\n",
      " 'Non-malade' 'Non-malade' 'Non-malade' 'Malade' 'Malade' 'Non-malade'\n",
      " 'Malade' 'Non-malade' 'Non-malade' 'Malade' 'Non-malade' 'Malade'\n",
      " 'Non-malade' 'Non-malade' 'Non-malade' 'Non-malade' 'Non-malade' 'Malade'\n",
      " 'Non-malade' 'Malade' 'Non-malade' 'Malade' 'Non-malade' 'Malade'\n",
      " 'Malade' 'Non-malade' 'Non-malade' 'Non-malade' 'Non-malade' 'Malade'\n",
      " 'Malade' 'Non-malade' 'Non-malade' 'Non-malade' 'Malade' 'Non-malade'\n",
      " 'Malade' 'Malade' 'Non-malade' 'Non-malade' 'Malade' 'Non-malade'\n",
      " 'Non-malade' 'Malade' 'Malade' 'Non-malade' 'Non-malade' 'Malade'\n",
      " 'Non-malade' 'Non-malade' 'Malade' 'Non-malade' 'Non-malade' 'Non-malade'\n",
      " 'Non-malade' 'Non-malade' 'Non-malade' 'Non-malade' 'Malade' 'Malade'\n",
      " 'Malade' 'Non-malade' 'Non-malade' 'Non-malade' 'Non-malade' 'Non-malade'\n",
      " 'Non-malade' 'Malade' 'Malade' 'Non-malade' 'Non-malade' 'Malade'\n",
      " 'Non-malade' 'Non-malade' 'Malade' 'Non-malade' 'Malade' 'Malade'\n",
      " 'Malade' 'Non-malade' 'Non-malade' 'Malade' 'Malade' 'Malade'\n",
      " 'Non-malade' 'Malade' 'Non-malade' 'Malade' 'Non-malade' 'Malade'\n",
      " 'Non-malade' 'Non-malade' 'Non-malade' 'Non-malade' 'Malade' 'Non-malade']\n"
     ]
    }
   ],
   "source": [
    "print(y)"
   ]
  },
  {
   "cell_type": "code",
   "execution_count": 14,
   "id": "b68adce2",
   "metadata": {},
   "outputs": [],
   "source": [
    "from sklearn.impute import SimpleImputer"
   ]
  },
  {
   "cell_type": "code",
   "execution_count": 15,
   "id": "e89f52cb",
   "metadata": {},
   "outputs": [],
   "source": [
    "imputer = SimpleImputer(missing_values=0, strategy='mean') "
   ]
  },
  {
   "cell_type": "code",
   "execution_count": 16,
   "id": "23743e32",
   "metadata": {},
   "outputs": [
    {
     "data": {
      "text/plain": [
       "SimpleImputer(missing_values=0)"
      ]
     },
     "execution_count": 16,
     "metadata": {},
     "output_type": "execute_result"
    }
   ],
   "source": [
    "imputer.fit(x[:, 1:]) "
   ]
  },
  {
   "cell_type": "code",
   "execution_count": 17,
   "id": "f5b5750e",
   "metadata": {},
   "outputs": [],
   "source": [
    "x[:, 1:] = imputer.transform(x[:, 1:])"
   ]
  },
  {
   "cell_type": "code",
   "execution_count": 18,
   "id": "59ef3189",
   "metadata": {},
   "outputs": [
    {
     "name": "stdout",
     "output_type": "stream",
     "text": [
      "[[6 148.0 72.0 35.0 155.5482233502538 33.6 0.627 50.0]\n",
      " [1 85.0 66.0 29.0 155.5482233502538 26.6 0.351 31.0]\n",
      " [8 183.0 64.0 29.153419593345657 155.5482233502538 23.3 0.672 32.0]\n",
      " [1 89.0 66.0 23.0 94.0 28.1 0.167 21.0]\n",
      " [0 137.0 40.0 35.0 168.0 43.1 2.288 33.0]\n",
      " [5 116.0 74.0 29.153419593345657 155.5482233502538 25.6 0.201 30.0]\n",
      " [3 78.0 50.0 32.0 88.0 31.0 0.248 26.0]\n",
      " [10 115.0 72.40518417462484 29.153419593345657 155.5482233502538 35.3\n",
      "  0.134 29.0]\n",
      " [2 197.0 70.0 45.0 543.0 30.5 0.158 53.0]\n",
      " [8 125.0 96.0 29.153419593345657 155.5482233502538 32.457463672391015\n",
      "  0.232 54.0]]\n"
     ]
    }
   ],
   "source": [
    "print(x[0:10,:])"
   ]
  },
  {
   "cell_type": "code",
   "execution_count": 19,
   "id": "02be3928",
   "metadata": {},
   "outputs": [],
   "source": [
    "# from sklearn.compose import ColumnTransformer\n",
    "# from sklearn.preprocessing import OneHotEncoder\n",
    "# diab = ColumnTransformer(transformers=[('encoder', OneHotEncoder(), [0])], remainder='passthrough')\n",
    "# x = np.array(diab.fit_transform(x))"
   ]
  },
  {
   "cell_type": "code",
   "execution_count": 20,
   "id": "d4f840bc",
   "metadata": {},
   "outputs": [],
   "source": [
    "# print(\"OneHotEncoder\")"
   ]
  },
  {
   "cell_type": "code",
   "execution_count": 21,
   "id": "41b4758f",
   "metadata": {},
   "outputs": [
    {
     "name": "stdout",
     "output_type": "stream",
     "text": [
      "[[6 148.0 72.0 ... 33.6 0.627 50.0]\n",
      " [1 85.0 66.0 ... 26.6 0.351 31.0]\n",
      " [8 183.0 64.0 ... 23.3 0.672 32.0]\n",
      " ...\n",
      " [5 121.0 72.0 ... 26.2 0.245 30.0]\n",
      " [1 126.0 60.0 ... 30.1 0.349 47.0]\n",
      " [1 93.0 70.0 ... 30.4 0.315 23.0]]\n"
     ]
    }
   ],
   "source": [
    "print(x)"
   ]
  },
  {
   "cell_type": "code",
   "execution_count": 22,
   "id": "4cf667d8",
   "metadata": {},
   "outputs": [],
   "source": [
    "from sklearn.preprocessing import LabelEncoder\n",
    "le = LabelEncoder()\n",
    "y = le.fit_transform(y)"
   ]
  },
  {
   "cell_type": "code",
   "execution_count": 23,
   "id": "6019514e",
   "metadata": {},
   "outputs": [
    {
     "name": "stdout",
     "output_type": "stream",
     "text": [
      "[0 1 0 1 0 1 0 1 0 0 1 0 1 0 0 0 0 0 1 0 1 1 0 0 0 0 0 1 1 1 1 0 1 1 1 1 1\n",
      " 0 0 0 1 1 1 0 1 0 1 1 0 1 1 1 1 0 1 1 0 1 1 1 1 0 1 1 0 1 0 1 1 1 0 1 0 1\n",
      " 1 1 1 1 0 1 1 1 1 1 0 1 1 1 0 1 1 1 1 0 1 1 1 1 1 0 0 1 1 1 1 1 1 1 1 0 0\n",
      " 0 1 1 0 0 0 1 1 1 0 1 1 1 0 0 1 1 0 0 0 0 0 1 1 1 1 1 1 1 1 1 1 0 1 1 1 1\n",
      " 1 1 1 1 0 1 0 0 1 1 1 0 1 1 1 1 0 0 1 1 1 1 0 0 1 1 1 0 1 0 1 0 1 1 1 1 1\n",
      " 0 0 0 0 0 1 1 0 0 1 0 1 0 0 0 1 1 1 1 1 1 0 0 1 0 1 1 1 0 0 0 0 1 0 0 0 0\n",
      " 1 1 1 1 1 0 1 1 0 0 1 1 1 0 0 0 0 1 1 1 0 0 1 0 1 1 1 1 1 1 1 1 0 0 1 1 1\n",
      " 0 1 0 1 1 0 1 0 1 1 0 0 1 1 1 1 1 0 1 1 1 0 1 1 0 0 1 1 0 1 1 1 0 0 0 1 1\n",
      " 0 1 0 1 0 0 1 0 1 1 0 1 0 0 1 1 0 1 0 1 1 0 1 0 1 0 0 0 1 1 0 1 0 1 1 1 0\n",
      " 1 1 1 1 0 0 0 1 1 1 1 1 1 1 1 1 0 1 1 1 1 1 0 0 0 1 0 0 1 1 0 1 1 0 1 1 0\n",
      " 0 1 1 1 1 0 1 1 0 1 1 1 1 1 1 1 0 0 0 1 1 0 1 1 0 1 1 0 1 0 0 1 0 1 0 1 0\n",
      " 1 0 0 1 1 1 1 0 0 1 0 1 0 1 1 1 1 0 0 1 0 1 0 1 1 1 1 1 0 1 1 1 1 0 1 1 0\n",
      " 0 0 1 1 0 1 1 0 1 1 1 0 1 1 0 1 1 1 1 1 1 1 1 1 0 1 1 1 1 1 1 1 0 1 1 1 0\n",
      " 1 1 1 0 0 1 1 1 1 1 1 1 0 1 1 1 1 0 1 1 1 0 1 1 1 0 1 1 1 0 1 1 1 1 0 0 1\n",
      " 1 1 1 1 1 0 1 1 1 1 1 1 1 1 1 1 1 0 1 1 1 0 0 0 0 1 1 0 0 1 1 1 1 1 1 1 1\n",
      " 1 1 1 1 1 0 0 1 1 1 1 1 1 1 0 1 1 1 1 1 1 1 0 1 0 0 1 1 1 0 1 0 1 0 1 0 1\n",
      " 0 1 1 0 1 1 0 1 1 1 1 0 0 1 0 1 1 1 1 0 0 1 0 1 1 1 0 0 1 1 1 1 1 1 1 1 1\n",
      " 1 0 1 1 1 1 0 1 1 0 1 1 1 0 1 1 1 0 0 0 1 1 1 1 1 1 0 1 1 1 0 1 0 0 0 0 1\n",
      " 0 0 1 1 1 1 1 1 1 0 0 1 0 1 1 0 1 0 1 1 1 1 1 0 1 0 1 0 1 0 0 1 1 1 1 0 0\n",
      " 1 1 1 0 1 0 0 1 1 0 1 1 0 0 1 1 0 1 1 0 1 1 1 1 1 1 1 0 0 0 1 1 1 1 1 1 0\n",
      " 0 1 1 0 1 1 0 1 0 0 0 1 1 0 0 0 1 0 1 0 1 0 1 1 1 1 0 1]\n"
     ]
    }
   ],
   "source": [
    "print(y)"
   ]
  },
  {
   "cell_type": "code",
   "execution_count": 24,
   "id": "9486ab86",
   "metadata": {},
   "outputs": [],
   "source": [
    "from sklearn.model_selection import train_test_split\n",
    "x_train, x_test, y_train, y_test = train_test_split(x,y, test_size = 0.2, random_state = 1)"
   ]
  },
  {
   "cell_type": "code",
   "execution_count": 25,
   "id": "ab7cf808",
   "metadata": {},
   "outputs": [
    {
     "name": "stdout",
     "output_type": "stream",
     "text": [
      "[[9 145.0 80.0 ... 37.9 0.637 40.0]\n",
      " [10 129.0 62.0 ... 41.2 0.441 38.0]\n",
      " [7 102.0 74.0 ... 37.2 0.204 45.0]\n",
      " ...\n",
      " [13 126.0 90.0 ... 43.4 0.583 42.0]\n",
      " [4 171.0 72.0 ... 43.6 0.479 26.0]\n",
      " [9 102.0 76.0 ... 32.9 0.665 46.0]]\n"
     ]
    }
   ],
   "source": [
    "print(x_train)"
   ]
  },
  {
   "cell_type": "code",
   "execution_count": 26,
   "id": "47614c8e",
   "metadata": {},
   "outputs": [
    {
     "name": "stdout",
     "output_type": "stream",
     "text": [
      "[[7 136.0 74.0 ... 26.0 0.647 51.0]\n",
      " [1 151.0 60.0 ... 26.1 0.179 22.0]\n",
      " [6 109.0 60.0 ... 25.0 0.206 27.0]\n",
      " ...\n",
      " [8 188.0 78.0 ... 47.9 0.137 43.0]\n",
      " [5 136.0 82.0 ... 32.457463672391015 0.64 69.0]\n",
      " [4 90.0 72.40518417462484 ... 28.0 0.61 31.0]]\n"
     ]
    }
   ],
   "source": [
    "print(x_test)"
   ]
  },
  {
   "cell_type": "code",
   "execution_count": 27,
   "id": "e563ed62",
   "metadata": {},
   "outputs": [
    {
     "name": "stdout",
     "output_type": "stream",
     "text": [
      "[0 0 1 1 1 1 0 0 1 1 0 1 0 0 1 1 0 0 1 1 0 1 0 1 1 1 0 1 1 0 1 1 1 1 0 1 1\n",
      " 1 1 1 0 1 1 1 0 0 0 1 1 1 0 0 1 1 1 0 1 1 0 0 1 0 0 1 1 0 1 1 1 0 0 1 1 1\n",
      " 1 0 0 0 1 1 1 1 1 1 0 1 0 1 1 0 1 1 0 1 1 1 1 0 1 0 1 1 1 1 0 0 1 1 1 1 0\n",
      " 1 1 1 1 1 1 1 1 1 1 1 1 1 1 0 1 1 1 0 1 0 0 0 1 1 0 0 1 0 0 1 1 0 1 0 1 0\n",
      " 1 1 1 0 0 1 0 1 1 0 0 0 1 1 0 1 0 0 1 0 0 1 1 0 0 0 1 0 1 1 0 1 0 1 1 1 1\n",
      " 1 0 0 0 1 1 1 1 0 0 1 1 1 1 1 0 0 1 1 1 1 0 1 1 1 1 1 0 1 1 1 1 0 1 1 1 0\n",
      " 0 1 0 1 1 1 0 1 1 1 0 0 1 1 0 1 1 1 1 1 1 1 1 0 1 0 1 0 1 0 1 1 1 1 1 1 0\n",
      " 1 0 0 1 0 0 0 1 0 1 1 0 0 1 0 0 0 1 1 0 1 1 1 1 1 1 1 1 1 1 0 1 1 1 1 1 0\n",
      " 1 1 1 1 1 0 1 0 1 1 1 1 1 1 1 1 1 0 1 0 1 1 0 0 1 1 1 1 1 1 1 0 1 1 0 1 1\n",
      " 1 1 0 0 1 1 1 1 1 1 0 1 0 0 1 1 0 1 1 1 1 1 0 1 1 1 1 1 0 0 1 1 0 0 1 1 0\n",
      " 1 1 1 1 1 1 0 1 1 1 0 0 1 0 0 0 1 1 1 1 0 1 0 1 1 1 1 0 1 1 1 0 1 0 1 0 0\n",
      " 1 0 1 1 1 1 1 1 0 1 1 0 1 1 0 1 1 1 1 0 1 1 1 0 1 0 1 1 1 1 1 0 0 0 1 1 1\n",
      " 1 0 0 0 0 0 0 0 1 1 1 0 1 1 1 1 0 1 0 1 1 0 1 1 0 1 1 1 1 1 0 1 0 1 0 1 0\n",
      " 1 1 1 0 1 0 0 1 1 0 0 1 1 1 0 0 1 1 0 0 1 1 0 1 1 1 0 1 1 1 0 0 1 1 1 1 1\n",
      " 1 1 1 1 1 1 0 0 1 1 1 0 1 0 1 0 1 1 1 0 1 0 0 0 0 1 1 1 0 1 1 1 1 1 0 1 0\n",
      " 0 1 1 1 1 0 0 0 1 0 1 0 1 0 1 0 1 1 1 1 1 1 0 0 1 1 1 1 0 1 1 1 1 1 1 0 0\n",
      " 1 1 1 1 1 0 0 0 0 1 1 1 1 0 1 0 1 1 0 0 0 0]\n"
     ]
    }
   ],
   "source": [
    "print(y_train)"
   ]
  },
  {
   "cell_type": "code",
   "execution_count": 28,
   "id": "37271f6d",
   "metadata": {},
   "outputs": [
    {
     "name": "stdout",
     "output_type": "stream",
     "text": [
      "[1 1 1 1 1 1 1 1 1 1 1 1 0 0 1 0 0 1 1 1 0 0 0 0 1 1 1 0 1 0 0 1 1 0 1 0 1\n",
      " 1 1 1 1 1 1 0 1 1 0 0 1 0 1 1 0 1 0 1 0 1 1 1 1 1 0 1 0 1 0 0 1 0 0 1 1 1\n",
      " 0 0 0 1 1 0 0 1 0 0 1 1 0 1 1 1 1 1 1 1 0 1 1 1 0 1 1 1 0 1 1 1 0 1 0 1 0\n",
      " 1 1 1 0 1 1 0 1 0 1 0 0 1 1 1 1 0 1 1 0 1 0 1 1 1 1 1 0 1 0 1 1 0 0 0 1 1\n",
      " 0 1 1 0 1 1]\n"
     ]
    }
   ],
   "source": [
    "print(y_test)"
   ]
  },
  {
   "cell_type": "code",
   "execution_count": 29,
   "id": "d28173d5",
   "metadata": {},
   "outputs": [],
   "source": [
    "from sklearn.preprocessing import StandardScaler\n",
    "sc = StandardScaler()\n",
    "x_train = sc.fit_transform(x_train)\n",
    "x_test = sc.transform(x_test)"
   ]
  },
  {
   "cell_type": "code",
   "execution_count": 30,
   "id": "4f2e4bbc",
   "metadata": {},
   "outputs": [
    {
     "data": {
      "text/plain": [
       "(614, 8)"
      ]
     },
     "execution_count": 30,
     "metadata": {},
     "output_type": "execute_result"
    }
   ],
   "source": [
    "x_train.shape"
   ]
  },
  {
   "cell_type": "code",
   "execution_count": 31,
   "id": "518fe626",
   "metadata": {},
   "outputs": [
    {
     "name": "stdout",
     "output_type": "stream",
     "text": [
      "[[ 1.51659096  0.75964146  0.62216681 ...  0.83602667  0.52952571\n",
      "   0.56793202]\n",
      " [ 1.81201827  0.23457642 -0.82873535 ...  1.32024996 -0.06968859\n",
      "   0.39844951]\n",
      " [ 0.92573636 -0.65147082  0.13853276 ...  0.73331264 -0.79424873\n",
      "   0.99163829]\n",
      " ...\n",
      " [ 2.69830017  0.13612673  1.42822356 ...  1.64306548  0.36443605\n",
      "   0.73741453]\n",
      " [ 0.03945446  1.61287214 -0.0226786  ...  1.67241235  0.04648561\n",
      "  -0.61844554]\n",
      " [ 1.51659096 -0.65147082  0.29974411 ...  0.10235502  0.61512775\n",
      "   1.07637954]]\n"
     ]
    }
   ],
   "source": [
    "print(x_train)"
   ]
  },
  {
   "cell_type": "code",
   "execution_count": 32,
   "id": "9856b8a8",
   "metadata": {},
   "outputs": [
    {
     "name": "stdout",
     "output_type": "stream",
     "text": [
      "[[ 0.92573636  0.46429238  0.13853276 ... -0.91011185  0.56009786\n",
      "   1.50008581]\n",
      " [-0.84682744  0.95654085 -0.9899467  ... -0.89543842 -0.87067912\n",
      "  -0.95741055]\n",
      " [ 0.63030906 -0.42175487 -0.9899467  ... -1.05684618 -0.78813429\n",
      "  -0.53370428]\n",
      " ...\n",
      " [ 1.22116366  2.17075374  0.46095546 ...  2.30336997 -0.99908218\n",
      "   0.82215578]\n",
      " [ 0.33488176  0.46429238  0.78337816 ...  0.03741975  0.53869735\n",
      "   3.02542839]\n",
      " [ 0.03945446 -1.0452696   0.00998155 ... -0.61664319  0.44698088\n",
      "  -0.19473927]]\n"
     ]
    }
   ],
   "source": [
    "print(x_test)"
   ]
  },
  {
   "cell_type": "code",
   "execution_count": 33,
   "id": "c0218ca3",
   "metadata": {},
   "outputs": [],
   "source": [
    "from sklearn.linear_model import LogisticRegression"
   ]
  },
  {
   "cell_type": "code",
   "execution_count": 34,
   "id": "a5c51196",
   "metadata": {},
   "outputs": [
    {
     "data": {
      "text/plain": [
       "LogisticRegression(random_state=0)"
      ]
     },
     "execution_count": 34,
     "metadata": {},
     "output_type": "execute_result"
    }
   ],
   "source": [
    "lr = LogisticRegression(random_state=0)\n",
    "lr.fit(x_train, y_train)"
   ]
  },
  {
   "cell_type": "code",
   "execution_count": 35,
   "id": "abebab68",
   "metadata": {},
   "outputs": [
    {
     "name": "stdout",
     "output_type": "stream",
     "text": [
      "[0]\n"
     ]
    }
   ],
   "source": [
    "aux = sc.transform([[6,148,72,35,0,33.6,0.627,50]])\n",
    "\n",
    "print(lr.predict(aux))\n",
    "# print(sc.mean_)"
   ]
  },
  {
   "cell_type": "code",
   "execution_count": 36,
   "id": "2bd28508",
   "metadata": {},
   "outputs": [
    {
     "name": "stdout",
     "output_type": "stream",
     "text": [
      "[[1 1]\n",
      " [1 1]\n",
      " [1 1]\n",
      " [1 1]\n",
      " [1 1]\n",
      " [1 1]\n",
      " [1 1]\n",
      " [1 1]\n",
      " [1 1]\n",
      " [1 1]\n",
      " [1 1]\n",
      " [1 1]\n",
      " [0 0]\n",
      " [0 0]\n",
      " [1 1]\n",
      " [0 0]\n",
      " [1 0]\n",
      " [1 1]\n",
      " [1 1]\n",
      " [1 1]\n",
      " [1 0]\n",
      " [1 0]\n",
      " [0 0]\n",
      " [1 0]\n",
      " [1 1]\n",
      " [1 1]\n",
      " [1 1]\n",
      " [0 0]\n",
      " [1 1]\n",
      " [1 0]\n",
      " [1 0]\n",
      " [1 1]\n",
      " [1 1]\n",
      " [0 0]\n",
      " [1 1]\n",
      " [0 0]\n",
      " [1 1]\n",
      " [1 1]\n",
      " [1 1]\n",
      " [0 1]\n",
      " [1 1]\n",
      " [1 1]\n",
      " [1 1]\n",
      " [1 0]\n",
      " [1 1]\n",
      " [1 1]\n",
      " [0 0]\n",
      " [0 0]\n",
      " [1 1]\n",
      " [1 0]\n",
      " [1 1]\n",
      " [1 1]\n",
      " [0 0]\n",
      " [1 1]\n",
      " [0 0]\n",
      " [1 1]\n",
      " [1 0]\n",
      " [1 1]\n",
      " [0 1]\n",
      " [1 1]\n",
      " [0 1]\n",
      " [1 1]\n",
      " [0 0]\n",
      " [1 1]\n",
      " [1 0]\n",
      " [1 1]\n",
      " [1 0]\n",
      " [1 0]\n",
      " [0 1]\n",
      " [0 0]\n",
      " [0 0]\n",
      " [0 1]\n",
      " [0 1]\n",
      " [1 1]\n",
      " [0 0]\n",
      " [1 0]\n",
      " [0 0]\n",
      " [1 1]\n",
      " [1 1]\n",
      " [0 0]\n",
      " [0 0]\n",
      " [1 1]\n",
      " [1 0]\n",
      " [1 0]\n",
      " [1 1]\n",
      " [0 1]\n",
      " [0 0]\n",
      " [1 1]\n",
      " [1 1]\n",
      " [1 1]\n",
      " [1 1]\n",
      " [1 1]\n",
      " [1 1]\n",
      " [1 1]\n",
      " [0 0]\n",
      " [1 1]\n",
      " [1 1]\n",
      " [1 1]\n",
      " [0 0]\n",
      " [1 1]\n",
      " [1 1]\n",
      " [1 1]\n",
      " [0 0]\n",
      " [1 1]\n",
      " [1 1]\n",
      " [1 1]\n",
      " [0 0]\n",
      " [0 1]\n",
      " [1 0]\n",
      " [1 1]\n",
      " [1 0]\n",
      " [1 1]\n",
      " [1 1]\n",
      " [1 1]\n",
      " [0 0]\n",
      " [1 1]\n",
      " [1 1]\n",
      " [1 0]\n",
      " [1 1]\n",
      " [1 0]\n",
      " [1 1]\n",
      " [0 0]\n",
      " [1 0]\n",
      " [1 1]\n",
      " [1 1]\n",
      " [1 1]\n",
      " [1 1]\n",
      " [1 0]\n",
      " [0 1]\n",
      " [1 1]\n",
      " [0 0]\n",
      " [1 1]\n",
      " [1 0]\n",
      " [1 1]\n",
      " [1 1]\n",
      " [1 1]\n",
      " [1 1]\n",
      " [0 1]\n",
      " [1 0]\n",
      " [1 1]\n",
      " [0 0]\n",
      " [1 1]\n",
      " [1 1]\n",
      " [0 0]\n",
      " [0 0]\n",
      " [0 0]\n",
      " [1 1]\n",
      " [1 1]\n",
      " [1 0]\n",
      " [1 1]\n",
      " [1 1]\n",
      " [0 0]\n",
      " [0 1]\n",
      " [1 1]]\n"
     ]
    }
   ],
   "source": [
    "y_pred = lr.predict(x_test)\n",
    "print(np.concatenate((y_pred.reshape(len(y_pred), 1), y_test.reshape(len(y_test), 1)), 1))"
   ]
  },
  {
   "cell_type": "code",
   "execution_count": 37,
   "id": "3acf1254",
   "metadata": {},
   "outputs": [
    {
     "name": "stdout",
     "output_type": "stream",
     "text": [
      "[[31 24]\n",
      " [11 88]]\n"
     ]
    },
    {
     "data": {
      "text/plain": [
       "0.7727272727272727"
      ]
     },
     "execution_count": 37,
     "metadata": {},
     "output_type": "execute_result"
    }
   ],
   "source": [
    "from sklearn.metrics import confusion_matrix, accuracy_score\n",
    "cm = confusion_matrix(y_test, y_pred)\n",
    "print(cm)\n",
    "accuracy_score(y_test, y_pred)"
   ]
  },
  {
   "cell_type": "code",
   "execution_count": 40,
   "id": "a32dbfdb",
   "metadata": {},
   "outputs": [
    {
     "data": {
      "text/plain": [
       "0.7719869706840391"
      ]
     },
     "execution_count": 40,
     "metadata": {},
     "output_type": "execute_result"
    }
   ],
   "source": [
    "# lr.score(x_train, y_train)"
   ]
  },
  {
   "cell_type": "code",
   "execution_count": null,
   "id": "5577d21c",
   "metadata": {},
   "outputs": [],
   "source": []
  }
 ],
 "metadata": {
  "kernelspec": {
   "display_name": "Python 3",
   "language": "python",
   "name": "python3"
  },
  "language_info": {
   "codemirror_mode": {
    "name": "ipython",
    "version": 3
   },
   "file_extension": ".py",
   "mimetype": "text/x-python",
   "name": "python",
   "nbconvert_exporter": "python",
   "pygments_lexer": "ipython3",
   "version": "3.8.8"
  }
 },
 "nbformat": 4,
 "nbformat_minor": 5
}
