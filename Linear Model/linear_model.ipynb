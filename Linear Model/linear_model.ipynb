{
 "cells": [
  {
   "cell_type": "code",
   "execution_count": 1,
   "id": "b4ea6900",
   "metadata": {},
   "outputs": [],
   "source": [
    "# Import required packages\n",
    "import matplotlib\n",
    "import matplotlib.pyplot as plt\n",
    "import numpy as np\n",
    "import pandas as pd\n",
    "import sklearn\n",
    "import sklearn.linear_model"
   ]
  },
  {
   "cell_type": "code",
   "execution_count": 2,
   "id": "32994495",
   "metadata": {},
   "outputs": [
    {
     "name": "stdout",
     "output_type": "stream",
     "text": [
      "(3292, 17)\n",
      "(190, 7)\n",
      "  LOCATION    Country INDICATOR                           Indicator MEASURE  \\\n",
      "0      AUS  Australia   HO_BASE  Dwellings without basic facilities       L   \n",
      "1      AUT    Austria   HO_BASE  Dwellings without basic facilities       L   \n",
      "2      BEL    Belgium   HO_BASE  Dwellings without basic facilities       L   \n",
      "\n",
      "  Measure INEQUALITY Inequality Unit Code        Unit  PowerCode Code  \\\n",
      "0   Value        TOT      Total        PC  Percentage               0   \n",
      "1   Value        TOT      Total        PC  Percentage               0   \n",
      "2   Value        TOT      Total        PC  Percentage               0   \n",
      "\n",
      "  PowerCode  Reference Period Code  Reference Period  Value Flag Codes  \\\n",
      "0     units                    NaN               NaN    1.1          E   \n",
      "1     units                    NaN               NaN    1.0        NaN   \n",
      "2     units                    NaN               NaN    2.0        NaN   \n",
      "\n",
      "             Flags  \n",
      "0  Estimated value  \n",
      "1              NaN  \n",
      "2              NaN  \n",
      "       Country                                Subject Descriptor  \\\n",
      "0  Afghanistan  Gross domestic product per capita current prices   \n",
      "1      Albania  Gross domestic product per capita current prices   \n",
      "2      Algeria  Gross domestic product per capita current prices   \n",
      "\n",
      "          Units  Scale                      Country/Series-specific Notes  \\\n",
      "0  U.S. dollars  Units  See notes for:  Gross domestic product current...   \n",
      "1  U.S. dollars  Units  See notes for:  Gross domestic product current...   \n",
      "2  U.S. dollars  Units  See notes for:  Gross domestic product current...   \n",
      "\n",
      "       2015  Estimates Start After  \n",
      "0   599.994                 2013.0  \n",
      "1  3995.383                 2010.0  \n",
      "2  4318.135                 2014.0  \n"
     ]
    }
   ],
   "source": [
    "\n",
    "# Load the data and check the shape\n",
    "oecd_bli = pd.read_csv('Linear Model/oecd_bli_2015.csv', thousands=',')\n",
    "gdp_per_capita = pd.read_csv('Linear Model/gdp_per_capita.csv', encoding='latin1', na_values='n/a')\n",
    "\n",
    "print (oecd_bli.shape)\n",
    "print (gdp_per_capita.shape)\n",
    "print (oecd_bli.head(3))\n",
    "print (gdp_per_capita.head(3))"
   ]
  },
  {
   "cell_type": "code",
   "execution_count": 3,
   "id": "537f1d73",
   "metadata": {},
   "outputs": [
    {
     "name": "stdout",
     "output_type": "stream",
     "text": [
      "(3292, 17)\n",
      "(190, 7)\n",
      "  LOCATION    Country INDICATOR                           Indicator MEASURE  \\\n",
      "0      AUS  Australia   HO_BASE  Dwellings without basic facilities       L   \n",
      "1      AUT    Austria   HO_BASE  Dwellings without basic facilities       L   \n",
      "2      BEL    Belgium   HO_BASE  Dwellings without basic facilities       L   \n",
      "\n",
      "  Measure INEQUALITY Inequality Unit Code        Unit  PowerCode Code  \\\n",
      "0   Value        TOT      Total        PC  Percentage               0   \n",
      "1   Value        TOT      Total        PC  Percentage               0   \n",
      "2   Value        TOT      Total        PC  Percentage               0   \n",
      "\n",
      "  PowerCode  Reference Period Code  Reference Period  Value Flag Codes  \\\n",
      "0     units                    NaN               NaN    1.1          E   \n",
      "1     units                    NaN               NaN    1.0        NaN   \n",
      "2     units                    NaN               NaN    2.0        NaN   \n",
      "\n",
      "             Flags  \n",
      "0  Estimated value  \n",
      "1              NaN  \n",
      "2              NaN  \n",
      "       Country                                Subject Descriptor  \\\n",
      "0  Afghanistan  Gross domestic product per capita current prices   \n",
      "1      Albania  Gross domestic product per capita current prices   \n",
      "2      Algeria  Gross domestic product per capita current prices   \n",
      "\n",
      "          Units  Scale                      Country/Series-specific Notes  \\\n",
      "0  U.S. dollars  Units  See notes for:  Gross domestic product current...   \n",
      "1  U.S. dollars  Units  See notes for:  Gross domestic product current...   \n",
      "2  U.S. dollars  Units  See notes for:  Gross domestic product current...   \n",
      "\n",
      "       2015  Estimates Start After  \n",
      "0   599.994                 2013.0  \n",
      "1  3995.383                 2010.0  \n",
      "2  4318.135                 2014.0  \n"
     ]
    }
   ],
   "source": [
    "print (oecd_bli.shape)\n",
    "print (gdp_per_capita.shape)\n",
    "print (oecd_bli.head(3))\n",
    "print (gdp_per_capita.head(3))"
   ]
  },
  {
   "cell_type": "code",
   "execution_count": 4,
   "id": "25d2ee08",
   "metadata": {
    "scrolled": true
   },
   "outputs": [
    {
     "name": "stdout",
     "output_type": "stream",
     "text": [
      "    GDP per capita  Life satisfaction\n",
      "0        50961.865               82.1\n",
      "1        43724.031               81.0\n",
      "2        40106.632               80.5\n",
      "3         8669.998               73.7\n",
      "4        43331.961               81.5\n",
      "5        13340.905               78.9\n",
      "6        17256.918               78.2\n",
      "7        52114.165               80.1\n",
      "8        17288.083               76.5\n",
      "9        41973.988               80.7\n",
      "10       37675.006               82.1\n",
      "11       40996.511               81.0\n",
      "12       18064.288               80.7\n",
      "13       12239.894               75.2\n",
      "14       50854.583               83.0\n",
      "15       51350.744               81.0\n",
      "16       35343.336               81.8\n",
      "17       29866.581               82.3\n",
      "18       32485.545               83.2\n",
      "19       27195.197               81.3\n",
      "20      101994.093               81.5\n",
      "21        9009.280               74.6\n",
      "22       43603.115               81.2\n",
      "23       37044.891               81.5\n",
      "24       74822.106               81.5\n",
      "25       12495.334               76.9\n",
      "26       19121.592               80.5\n",
      "27        9054.914               70.2\n",
      "28       15991.736               76.2\n",
      "29       20732.482               80.2\n",
      "30       25864.721               82.5\n",
      "31       49866.266               81.8\n",
      "32       80675.308               82.8\n",
      "33        9437.372               74.6\n",
      "34       43770.688               81.0\n",
      "35       55805.204               78.7\n"
     ]
    }
   ],
   "source": [
    "# For simplicity and brevity's sake considering Life expectancy\n",
    "# as the only factor that determines happiness\n",
    "oecd_bli = oecd_bli[(oecd_bli['Inequality'] == 'Total') &\n",
    "                    (oecd_bli['Indicator'] == 'Life expectancy')]\n",
    "# Prepare the data\n",
    "combined_data = pd.merge(gdp_per_capita, oecd_bli, on=['Country'])\n",
    "\n",
    "gdp_value = combined_data[['2015']].copy()\n",
    "bli_value = combined_data[['Value']].copy()\n",
    "\n",
    "gdp_value.columns = ['GDP per capita']\n",
    "bli_value.columns = ['Life satisfaction']\n",
    "\n",
    "country_stats = pd.concat([gdp_value, bli_value], axis=1)\n",
    "\n",
    "print (country_stats)\n",
    "\n",
    "X = np.c_[country_stats['GDP per capita']]\n",
    "y = np.c_[country_stats['Life satisfaction']]"
   ]
  },
  {
   "cell_type": "code",
   "execution_count": 5,
   "id": "96335735",
   "metadata": {},
   "outputs": [
    {
     "data": {
      "image/png": "[encoded data removed]",
      "text/plain": [
       "<Figure size 432x288 with 1 Axes>"
      ]
     },
     "metadata": {
      "needs_background": "light"
     },
     "output_type": "display_data"
    }
   ],
   "source": [
    "# Visualize the data\n",
    "country_stats.plot(kind='scatter', x='GDP per capita', y='Life satisfaction')\n",
    "plt.show()"
   ]
  },
  {
   "cell_type": "code",
   "execution_count": 6,
   "id": "b281c721",
   "metadata": {},
   "outputs": [
    {
     "name": "stdout",
     "output_type": "stream",
     "text": [
      "[[85.61047957]]\n"
     ]
    }
   ],
   "source": [
    "# Select a linear model\n",
    "model = sklearn.linear_model.LinearRegression()\n",
    "\n",
    "# Train the model\n",
    "model.fit(X, y)\n",
    "\n",
    "# Make a prediction for Cyprus\n",
    "X_new = [[101994]]\n",
    "\n",
    "print (model.predict(X_new))"
   ]
  },
  {
   "cell_type": "code",
   "execution_count": 10,
   "id": "898d40ab",
   "metadata": {},
   "outputs": [],
   "source": [
    "import sklearn.linear_model\n",
    "model = sklearn.linear_model.LinearRegression()"
   ]
  },
  {
   "cell_type": "code",
   "execution_count": null,
   "id": "0acf9fc5",
   "metadata": {},
   "outputs": [],
   "source": []
  },
  {
   "cell_type": "code",
   "execution_count": null,
   "id": "f5aad6e7",
   "metadata": {},
   "outputs": [],
   "source": []
  }
 ],
 "metadata": {
  "kernelspec": {
   "display_name": "py3-TF2.0",
   "language": "python",
   "name": "py3-tf2.0"
  },
  "language_info": {
   "codemirror_mode": {
    "name": "ipython",
    "version": 3
   },
   "file_extension": ".py",
   "mimetype": "text/x-python",
   "name": "python",
   "nbconvert_exporter": "python",
   "pygments_lexer": "ipython3",
   "version": "3.9.7"
  }
 },
 "nbformat": 4,
 "nbformat_minor": 5
}
