{
  "nbformat": 4,
  "nbformat_minor": 0,
  "metadata": {
    "colab": {
      "name": "Devoir Tarik CIFTCI",
      "provenance": [],
      "collapsed_sections": [],
      "toc_visible": true
    },
    "kernelspec": {
      "display_name": "Python 3",
      "name": "python3"
    },
    "language_info": {
      "name": "python"
    }
  },
  "cells": [
    {
      "cell_type": "markdown",
      "metadata": {
        "id": "y6nRjSQyvpBU"
      },
      "source": [
        "# 911 calls "
      ]
    },
    {
      "cell_type": "markdown",
      "metadata": {
        "id": "tbYnyhS4vthk"
      },
      "source": [
        "The dataset contains the 911 calls received by th emergency center of Montgomery between December 2015 and July 2020. It contains 664k entries.\n",
        "\n",
        "Data source: https://www.kaggle.com/mchirico/montcoalert\n",
        "\n",
        "* `lat`:  Latitude\n",
        "* `lng`: Longitude\n",
        "* `desc`: Description of the emergency\n",
        "* `zip`: ZIP code\n",
        "* `title`: Title of the emergency\n",
        "* `timeStamp`: Date and time of the call\n",
        "* `twp`: Township\n",
        "* `addr`: General Address\n",
        "* `e`: Index column, always 1\n",
        "\n",
        "---\n",
        "\n",
        "🎯 We will analyze the fire calls\n"
      ]
    },
    {
      "cell_type": "markdown",
      "metadata": {
        "id": "B2qjChmavwXT"
      },
      "source": [
        "### Load data"
      ]
    },
    {
      "cell_type": "markdown",
      "metadata": {
        "id": "qUtbB7GC2xqs"
      },
      "source": [
        "**1.** Read the `911.csv` file as a dataframe and assign it to the variable `calls`\n",
        "\n",
        "**2.** Print out `calls`first element to get the columns names\n",
        "\n",
        "**3.** Print out the length of `calls`\n",
        "\n",
        "**4.** Display the first 5 rows of `calls`"
      ]
    },
    {
      "cell_type": "code",
      "metadata": {
        "id": "I2gQAco9Thtd"
      },
      "source": [
        "import numpy as np\n",
        "import pandas as pd\n",
        "import matplotlib.pyplot as plt\n",
        "import seaborn as sns"
      ],
      "execution_count": null,
      "outputs": []
    },
    {
      "cell_type": "code",
      "metadata": {
        "id": "6bwGxIDr5lX0"
      },
      "source": [
        "calls = pd.read_csv(\"/content/911.csv\") "
      ],
      "execution_count": null,
      "outputs": []
    },
    {
      "cell_type": "code",
      "metadata": {
        "id": "jJp0A5Uy5lcq",
        "colab": {
          "base_uri": "https://localhost:8080/"
        },
        "outputId": "521bdbaf-6e54-4b5a-a38e-cd607763f2aa"
      },
      "source": [
        "print(calls.columns)"
      ],
      "execution_count": null,
      "outputs": [
        {
          "output_type": "stream",
          "name": "stdout",
          "text": [
            "Index(['lat', 'lng', 'desc', 'zip', 'title', 'timeStamp', 'twp', 'addr', 'e'], dtype='object')\n"
          ]
        }
      ]
    },
    {
      "cell_type": "code",
      "metadata": {
        "id": "r7Z7a_ZL5lhc",
        "colab": {
          "base_uri": "https://localhost:8080/"
        },
        "outputId": "8e7f1449-d57b-4e84-a173-fe8f3666b60d"
      },
      "source": [
        "print(len(calls))"
      ],
      "execution_count": null,
      "outputs": [
        {
          "output_type": "stream",
          "name": "stdout",
          "text": [
            "663522\n"
          ]
        }
      ]
    },
    {
      "cell_type": "code",
      "metadata": {
        "id": "AKs8CWm4Tz4m",
        "colab": {
          "base_uri": "https://localhost:8080/",
          "height": 293
        },
        "outputId": "d649cde9-0caf-44d5-e7c3-20fdf4bffec1"
      },
      "source": [
        "calls.head(5)"
      ],
      "execution_count": null,
      "outputs": [
        {
          "output_type": "execute_result",
          "data": {
            "text/html": [
              "<div>\n",
              "<style scoped>\n",
              "    .dataframe tbody tr th:only-of-type {\n",
              "        vertical-align: middle;\n",
              "    }\n",
              "\n",
              "    .dataframe tbody tr th {\n",
              "        vertical-align: top;\n",
              "    }\n",
              "\n",
              "    .dataframe thead th {\n",
              "        text-align: right;\n",
              "    }\n",
              "</style>\n",
              "<table border=\"1\" class=\"dataframe\">\n",
              "  <thead>\n",
              "    <tr style=\"text-align: right;\">\n",
              "      <th></th>\n",
              "      <th>lat</th>\n",
              "      <th>lng</th>\n",
              "      <th>desc</th>\n",
              "      <th>zip</th>\n",
              "      <th>title</th>\n",
              "      <th>timeStamp</th>\n",
              "      <th>twp</th>\n",
              "      <th>addr</th>\n",
              "      <th>e</th>\n",
              "    </tr>\n",
              "  </thead>\n",
              "  <tbody>\n",
              "    <tr>\n",
              "      <th>0</th>\n",
              "      <td>40.297876</td>\n",
              "      <td>-75.581294</td>\n",
              "      <td>REINDEER CT &amp; DEAD END;  NEW HANOVER; Station ...</td>\n",
              "      <td>19525.0</td>\n",
              "      <td>EMS: BACK PAINS/INJURY</td>\n",
              "      <td>2015-12-10 17:10:52</td>\n",
              "      <td>NEW HANOVER</td>\n",
              "      <td>REINDEER CT &amp; DEAD END</td>\n",
              "      <td>1.0</td>\n",
              "    </tr>\n",
              "    <tr>\n",
              "      <th>1</th>\n",
              "      <td>40.258061</td>\n",
              "      <td>-75.264680</td>\n",
              "      <td>BRIAR PATH &amp; WHITEMARSH LN;  HATFIELD TOWNSHIP...</td>\n",
              "      <td>19446.0</td>\n",
              "      <td>EMS: DIABETIC EMERGENCY</td>\n",
              "      <td>2015-12-10 17:29:21</td>\n",
              "      <td>HATFIELD TOWNSHIP</td>\n",
              "      <td>BRIAR PATH &amp; WHITEMARSH LN</td>\n",
              "      <td>1.0</td>\n",
              "    </tr>\n",
              "    <tr>\n",
              "      <th>2</th>\n",
              "      <td>40.121182</td>\n",
              "      <td>-75.351975</td>\n",
              "      <td>HAWS AVE; NORRISTOWN; 2015-12-10 @ 14:39:21-St...</td>\n",
              "      <td>19401.0</td>\n",
              "      <td>Fire: GAS-ODOR/LEAK</td>\n",
              "      <td>2015-12-10 14:39:21</td>\n",
              "      <td>NORRISTOWN</td>\n",
              "      <td>HAWS AVE</td>\n",
              "      <td>1.0</td>\n",
              "    </tr>\n",
              "    <tr>\n",
              "      <th>3</th>\n",
              "      <td>40.116153</td>\n",
              "      <td>-75.343513</td>\n",
              "      <td>AIRY ST &amp; SWEDE ST;  NORRISTOWN; Station 308A;...</td>\n",
              "      <td>19401.0</td>\n",
              "      <td>EMS: CARDIAC EMERGENCY</td>\n",
              "      <td>2015-12-10 16:47:36</td>\n",
              "      <td>NORRISTOWN</td>\n",
              "      <td>AIRY ST &amp; SWEDE ST</td>\n",
              "      <td>1.0</td>\n",
              "    </tr>\n",
              "    <tr>\n",
              "      <th>4</th>\n",
              "      <td>40.251492</td>\n",
              "      <td>-75.603350</td>\n",
              "      <td>CHERRYWOOD CT &amp; DEAD END;  LOWER POTTSGROVE; S...</td>\n",
              "      <td>NaN</td>\n",
              "      <td>EMS: DIZZINESS</td>\n",
              "      <td>2015-12-10 16:56:52</td>\n",
              "      <td>LOWER POTTSGROVE</td>\n",
              "      <td>CHERRYWOOD CT &amp; DEAD END</td>\n",
              "      <td>1.0</td>\n",
              "    </tr>\n",
              "  </tbody>\n",
              "</table>\n",
              "</div>"
            ],
            "text/plain": [
              "         lat        lng  ...                        addr    e\n",
              "0  40.297876 -75.581294  ...      REINDEER CT & DEAD END  1.0\n",
              "1  40.258061 -75.264680  ...  BRIAR PATH & WHITEMARSH LN  1.0\n",
              "2  40.121182 -75.351975  ...                    HAWS AVE  1.0\n",
              "3  40.116153 -75.343513  ...          AIRY ST & SWEDE ST  1.0\n",
              "4  40.251492 -75.603350  ...    CHERRYWOOD CT & DEAD END  1.0\n",
              "\n",
              "[5 rows x 9 columns]"
            ]
          },
          "metadata": {},
          "execution_count": 15
        }
      ]
    },
    {
      "cell_type": "code",
      "metadata": {
        "colab": {
          "base_uri": "https://localhost:8080/"
        },
        "id": "gRzui7sBYycB",
        "outputId": "a85c9639-aeba-47ff-c08b-6d9674526863"
      },
      "source": [
        "calls.isnull().sum()"
      ],
      "execution_count": null,
      "outputs": [
        {
          "output_type": "execute_result",
          "data": {
            "text/plain": [
              "lat              0\n",
              "lng              0\n",
              "desc             0\n",
              "zip          80199\n",
              "title            0\n",
              "timeStamp        0\n",
              "twp            293\n",
              "addr             0\n",
              "e                0\n",
              "dtype: int64"
            ]
          },
          "metadata": {},
          "execution_count": 19
        }
      ]
    },
    {
      "cell_type": "code",
      "metadata": {
        "colab": {
          "base_uri": "https://localhost:8080/",
          "height": 412
        },
        "id": "SkI7hf68Y2hf",
        "outputId": "3b15364a-4969-43c7-be17-cff38e6187e0"
      },
      "source": [
        "calls.describe(include='all')"
      ],
      "execution_count": null,
      "outputs": [
        {
          "output_type": "execute_result",
          "data": {
            "text/html": [
              "<div>\n",
              "<style scoped>\n",
              "    .dataframe tbody tr th:only-of-type {\n",
              "        vertical-align: middle;\n",
              "    }\n",
              "\n",
              "    .dataframe tbody tr th {\n",
              "        vertical-align: top;\n",
              "    }\n",
              "\n",
              "    .dataframe thead th {\n",
              "        text-align: right;\n",
              "    }\n",
              "</style>\n",
              "<table border=\"1\" class=\"dataframe\">\n",
              "  <thead>\n",
              "    <tr style=\"text-align: right;\">\n",
              "      <th></th>\n",
              "      <th>lat</th>\n",
              "      <th>lng</th>\n",
              "      <th>desc</th>\n",
              "      <th>zip</th>\n",
              "      <th>title</th>\n",
              "      <th>timeStamp</th>\n",
              "      <th>twp</th>\n",
              "      <th>addr</th>\n",
              "      <th>e</th>\n",
              "    </tr>\n",
              "  </thead>\n",
              "  <tbody>\n",
              "    <tr>\n",
              "      <th>count</th>\n",
              "      <td>663522.000000</td>\n",
              "      <td>663522.000000</td>\n",
              "      <td>663522</td>\n",
              "      <td>583323.000000</td>\n",
              "      <td>663522</td>\n",
              "      <td>663522</td>\n",
              "      <td>663229</td>\n",
              "      <td>663522</td>\n",
              "      <td>663522.0</td>\n",
              "    </tr>\n",
              "    <tr>\n",
              "      <th>unique</th>\n",
              "      <td>NaN</td>\n",
              "      <td>NaN</td>\n",
              "      <td>663282</td>\n",
              "      <td>NaN</td>\n",
              "      <td>148</td>\n",
              "      <td>640754</td>\n",
              "      <td>68</td>\n",
              "      <td>41292</td>\n",
              "      <td>NaN</td>\n",
              "    </tr>\n",
              "    <tr>\n",
              "      <th>top</th>\n",
              "      <td>NaN</td>\n",
              "      <td>NaN</td>\n",
              "      <td>CITY AVE &amp; CARDINAL AVE;  LOWER MERION; Statio...</td>\n",
              "      <td>NaN</td>\n",
              "      <td>Traffic: VEHICLE ACCIDENT -</td>\n",
              "      <td>2018-10-06 19:26:38</td>\n",
              "      <td>LOWER MERION</td>\n",
              "      <td>SHANNONDELL DR &amp; SHANNONDELL BLVD</td>\n",
              "      <td>NaN</td>\n",
              "    </tr>\n",
              "    <tr>\n",
              "      <th>freq</th>\n",
              "      <td>NaN</td>\n",
              "      <td>NaN</td>\n",
              "      <td>5</td>\n",
              "      <td>NaN</td>\n",
              "      <td>148372</td>\n",
              "      <td>9</td>\n",
              "      <td>55490</td>\n",
              "      <td>7285</td>\n",
              "      <td>NaN</td>\n",
              "    </tr>\n",
              "    <tr>\n",
              "      <th>mean</th>\n",
              "      <td>40.158162</td>\n",
              "      <td>-75.300105</td>\n",
              "      <td>NaN</td>\n",
              "      <td>19236.055791</td>\n",
              "      <td>NaN</td>\n",
              "      <td>NaN</td>\n",
              "      <td>NaN</td>\n",
              "      <td>NaN</td>\n",
              "      <td>1.0</td>\n",
              "    </tr>\n",
              "    <tr>\n",
              "      <th>std</th>\n",
              "      <td>0.220641</td>\n",
              "      <td>1.672884</td>\n",
              "      <td>NaN</td>\n",
              "      <td>298.222637</td>\n",
              "      <td>NaN</td>\n",
              "      <td>NaN</td>\n",
              "      <td>NaN</td>\n",
              "      <td>NaN</td>\n",
              "      <td>0.0</td>\n",
              "    </tr>\n",
              "    <tr>\n",
              "      <th>min</th>\n",
              "      <td>0.000000</td>\n",
              "      <td>-119.698206</td>\n",
              "      <td>NaN</td>\n",
              "      <td>1104.000000</td>\n",
              "      <td>NaN</td>\n",
              "      <td>NaN</td>\n",
              "      <td>NaN</td>\n",
              "      <td>NaN</td>\n",
              "      <td>1.0</td>\n",
              "    </tr>\n",
              "    <tr>\n",
              "      <th>25%</th>\n",
              "      <td>40.100344</td>\n",
              "      <td>-75.392735</td>\n",
              "      <td>NaN</td>\n",
              "      <td>19038.000000</td>\n",
              "      <td>NaN</td>\n",
              "      <td>NaN</td>\n",
              "      <td>NaN</td>\n",
              "      <td>NaN</td>\n",
              "      <td>1.0</td>\n",
              "    </tr>\n",
              "    <tr>\n",
              "      <th>50%</th>\n",
              "      <td>40.143927</td>\n",
              "      <td>-75.305143</td>\n",
              "      <td>NaN</td>\n",
              "      <td>19401.000000</td>\n",
              "      <td>NaN</td>\n",
              "      <td>NaN</td>\n",
              "      <td>NaN</td>\n",
              "      <td>NaN</td>\n",
              "      <td>1.0</td>\n",
              "    </tr>\n",
              "    <tr>\n",
              "      <th>75%</th>\n",
              "      <td>40.229008</td>\n",
              "      <td>-75.211865</td>\n",
              "      <td>NaN</td>\n",
              "      <td>19446.000000</td>\n",
              "      <td>NaN</td>\n",
              "      <td>NaN</td>\n",
              "      <td>NaN</td>\n",
              "      <td>NaN</td>\n",
              "      <td>1.0</td>\n",
              "    </tr>\n",
              "    <tr>\n",
              "      <th>max</th>\n",
              "      <td>51.335390</td>\n",
              "      <td>87.854975</td>\n",
              "      <td>NaN</td>\n",
              "      <td>77316.000000</td>\n",
              "      <td>NaN</td>\n",
              "      <td>NaN</td>\n",
              "      <td>NaN</td>\n",
              "      <td>NaN</td>\n",
              "      <td>1.0</td>\n",
              "    </tr>\n",
              "  </tbody>\n",
              "</table>\n",
              "</div>"
            ],
            "text/plain": [
              "                  lat  ...         e\n",
              "count   663522.000000  ...  663522.0\n",
              "unique            NaN  ...       NaN\n",
              "top               NaN  ...       NaN\n",
              "freq              NaN  ...       NaN\n",
              "mean        40.158162  ...       1.0\n",
              "std          0.220641  ...       0.0\n",
              "min          0.000000  ...       1.0\n",
              "25%         40.100344  ...       1.0\n",
              "50%         40.143927  ...       1.0\n",
              "75%         40.229008  ...       1.0\n",
              "max         51.335390  ...       1.0\n",
              "\n",
              "[11 rows x 9 columns]"
            ]
          },
          "metadata": {},
          "execution_count": 20
        }
      ]
    },
    {
      "cell_type": "markdown",
      "metadata": {
        "id": "Mi3umAc24gTt"
      },
      "source": [
        "## Dataset modification"
      ]
    },
    {
      "cell_type": "markdown",
      "metadata": {
        "id": "Qn86axzA5qIr"
      },
      "source": [
        "### Extract Fire calls"
      ]
    },
    {
      "cell_type": "markdown",
      "metadata": {
        "id": "-L4rQLD54nW6"
      },
      "source": [
        "**1.** Create two dataframes `fire_calls`, `other_calls`\n",
        "\n",
        "* If the lowercase version of description starts with `'Fire'` then the row belogns to the `fire_calls`dataset. \n",
        "* Any description not starting by 'Fire' falls into  `other_calls`.\n",
        "\n",
        "**3.** Check the number of calls in `fire_calls` and in `other_calls` by printing their length."
      ]
    },
    {
      "cell_type": "code",
      "metadata": {
        "id": "FzsZThnL1wC3"
      },
      "source": [
        "fire_calls = calls[calls['title'].str.lower().str.startswith('fire')]\n",
        "other_calls = calls[calls['title'].str.lower().str.startswith('fire') == False]"
      ],
      "execution_count": null,
      "outputs": []
    },
    {
      "cell_type": "code",
      "metadata": {
        "id": "KEdfvLzZ7s0s",
        "colab": {
          "base_uri": "https://localhost:8080/"
        },
        "outputId": "6787fb41-3312-4d0c-ea0c-b4d580921165"
      },
      "source": [
        "len(fire_calls)"
      ],
      "execution_count": null,
      "outputs": [
        {
          "output_type": "execute_result",
          "data": {
            "text/plain": [
              "100622"
            ]
          },
          "metadata": {},
          "execution_count": 22
        }
      ]
    },
    {
      "cell_type": "code",
      "metadata": {
        "colab": {
          "base_uri": "https://localhost:8080/"
        },
        "id": "YEXu_mpIZAjO",
        "outputId": "778078db-439c-4d2d-cb9c-ac35e4428990"
      },
      "source": [
        "len(other_calls)"
      ],
      "execution_count": null,
      "outputs": [
        {
          "output_type": "execute_result",
          "data": {
            "text/plain": [
              "562900"
            ]
          },
          "metadata": {},
          "execution_count": 23
        }
      ]
    },
    {
      "cell_type": "markdown",
      "metadata": {
        "id": "jVCw8g7JBY39"
      },
      "source": [
        "## Number calls per months and hours"
      ]
    },
    {
      "cell_type": "markdown",
      "metadata": {
        "id": "uKKGkTtQBu-7"
      },
      "source": [
        "**Let's find if there is a prevalence of fires by month or hours**\n",
        "\n",
        "**1.** Import the `datetime` modula as `dt`\n",
        "\n",
        "**2.** Add a column to  `fire_calls` named `month` that will extract the month from the `timestamp`column.\n",
        "\n",
        "* From the `timeStamp`column (6th element) extract the month.\n",
        "*e.g: `'2015-12-10 16:47:36'`➡ `December`*\n",
        "* Use `strptime`and `strftime`methods\n",
        "\n",
        "\n",
        "**3.** Counts how many events happenned by month "
      ]
    },
    {
      "cell_type": "code",
      "metadata": {
        "id": "7ND8ai33CZFr"
      },
      "source": [
        "import datetime as dt"
      ],
      "execution_count": null,
      "outputs": []
    },
    {
      "cell_type": "code",
      "metadata": {
        "id": "opBs11hJkq5j"
      },
      "source": [
        "def month_dt(y):\n",
        "    date = dt.datetime.strptime(y,\"%Y-%m-%d %H:%M:%S\")\n",
        "    month = '{0:%B}'.format(date)\n",
        "    return month\n",
        "    \n",
        "list_month = []\n",
        "\n",
        "for element in calls['timeStamp']:\n",
        "    month = month_dt(element)\n",
        "    list_month.append(month)\n",
        "    \n",
        "ma_Series = pd.Series(list_month)"
      ],
      "execution_count": null,
      "outputs": []
    },
    {
      "cell_type": "code",
      "metadata": {
        "id": "Zg93KodLH5st"
      },
      "source": [
        "calls.insert(2,'month', ma_Series, allow_duplicates=False)"
      ],
      "execution_count": null,
      "outputs": []
    },
    {
      "cell_type": "code",
      "metadata": {
        "id": "kD7eZbghGF2G"
      },
      "source": [
        "fire_calls = calls[calls['title'].str.lower().str.startswith('fire')]"
      ],
      "execution_count": null,
      "outputs": []
    },
    {
      "cell_type": "code",
      "metadata": {
        "id": "2SgdqGaZIq0c",
        "colab": {
          "base_uri": "https://localhost:8080/",
          "height": 293
        },
        "outputId": "cf16e116-94a2-43ac-94a5-6f15db72afd0"
      },
      "source": [
        "calls.head()"
      ],
      "execution_count": null,
      "outputs": [
        {
          "output_type": "execute_result",
          "data": {
            "text/html": [
              "<div>\n",
              "<style scoped>\n",
              "    .dataframe tbody tr th:only-of-type {\n",
              "        vertical-align: middle;\n",
              "    }\n",
              "\n",
              "    .dataframe tbody tr th {\n",
              "        vertical-align: top;\n",
              "    }\n",
              "\n",
              "    .dataframe thead th {\n",
              "        text-align: right;\n",
              "    }\n",
              "</style>\n",
              "<table border=\"1\" class=\"dataframe\">\n",
              "  <thead>\n",
              "    <tr style=\"text-align: right;\">\n",
              "      <th></th>\n",
              "      <th>lat</th>\n",
              "      <th>lng</th>\n",
              "      <th>month</th>\n",
              "      <th>desc</th>\n",
              "      <th>zip</th>\n",
              "      <th>title</th>\n",
              "      <th>timeStamp</th>\n",
              "      <th>twp</th>\n",
              "      <th>addr</th>\n",
              "      <th>e</th>\n",
              "    </tr>\n",
              "  </thead>\n",
              "  <tbody>\n",
              "    <tr>\n",
              "      <th>0</th>\n",
              "      <td>40.297876</td>\n",
              "      <td>-75.581294</td>\n",
              "      <td>December</td>\n",
              "      <td>REINDEER CT &amp; DEAD END;  NEW HANOVER; Station ...</td>\n",
              "      <td>19525.0</td>\n",
              "      <td>EMS: BACK PAINS/INJURY</td>\n",
              "      <td>2015-12-10 17:10:52</td>\n",
              "      <td>NEW HANOVER</td>\n",
              "      <td>REINDEER CT &amp; DEAD END</td>\n",
              "      <td>1</td>\n",
              "    </tr>\n",
              "    <tr>\n",
              "      <th>1</th>\n",
              "      <td>40.258061</td>\n",
              "      <td>-75.264680</td>\n",
              "      <td>December</td>\n",
              "      <td>BRIAR PATH &amp; WHITEMARSH LN;  HATFIELD TOWNSHIP...</td>\n",
              "      <td>19446.0</td>\n",
              "      <td>EMS: DIABETIC EMERGENCY</td>\n",
              "      <td>2015-12-10 17:29:21</td>\n",
              "      <td>HATFIELD TOWNSHIP</td>\n",
              "      <td>BRIAR PATH &amp; WHITEMARSH LN</td>\n",
              "      <td>1</td>\n",
              "    </tr>\n",
              "    <tr>\n",
              "      <th>2</th>\n",
              "      <td>40.121182</td>\n",
              "      <td>-75.351975</td>\n",
              "      <td>December</td>\n",
              "      <td>HAWS AVE; NORRISTOWN; 2015-12-10 @ 14:39:21-St...</td>\n",
              "      <td>19401.0</td>\n",
              "      <td>Fire: GAS-ODOR/LEAK</td>\n",
              "      <td>2015-12-10 14:39:21</td>\n",
              "      <td>NORRISTOWN</td>\n",
              "      <td>HAWS AVE</td>\n",
              "      <td>1</td>\n",
              "    </tr>\n",
              "    <tr>\n",
              "      <th>3</th>\n",
              "      <td>40.116153</td>\n",
              "      <td>-75.343513</td>\n",
              "      <td>December</td>\n",
              "      <td>AIRY ST &amp; SWEDE ST;  NORRISTOWN; Station 308A;...</td>\n",
              "      <td>19401.0</td>\n",
              "      <td>EMS: CARDIAC EMERGENCY</td>\n",
              "      <td>2015-12-10 16:47:36</td>\n",
              "      <td>NORRISTOWN</td>\n",
              "      <td>AIRY ST &amp; SWEDE ST</td>\n",
              "      <td>1</td>\n",
              "    </tr>\n",
              "    <tr>\n",
              "      <th>4</th>\n",
              "      <td>40.251492</td>\n",
              "      <td>-75.603350</td>\n",
              "      <td>December</td>\n",
              "      <td>CHERRYWOOD CT &amp; DEAD END;  LOWER POTTSGROVE; S...</td>\n",
              "      <td>NaN</td>\n",
              "      <td>EMS: DIZZINESS</td>\n",
              "      <td>2015-12-10 16:56:52</td>\n",
              "      <td>LOWER POTTSGROVE</td>\n",
              "      <td>CHERRYWOOD CT &amp; DEAD END</td>\n",
              "      <td>1</td>\n",
              "    </tr>\n",
              "  </tbody>\n",
              "</table>\n",
              "</div>"
            ],
            "text/plain": [
              "         lat        lng  ...                        addr  e\n",
              "0  40.297876 -75.581294  ...      REINDEER CT & DEAD END  1\n",
              "1  40.258061 -75.264680  ...  BRIAR PATH & WHITEMARSH LN  1\n",
              "2  40.121182 -75.351975  ...                    HAWS AVE  1\n",
              "3  40.116153 -75.343513  ...          AIRY ST & SWEDE ST  1\n",
              "4  40.251492 -75.603350  ...    CHERRYWOOD CT & DEAD END  1\n",
              "\n",
              "[5 rows x 10 columns]"
            ]
          },
          "metadata": {},
          "execution_count": 28
        }
      ]
    },
    {
      "cell_type": "code",
      "metadata": {
        "id": "Pa1LjfUOGTls"
      },
      "source": [
        "my_list = calls['month'].value_counts()"
      ],
      "execution_count": null,
      "outputs": []
    },
    {
      "cell_type": "code",
      "metadata": {
        "id": "hvNaV9iPGUs2",
        "colab": {
          "base_uri": "https://localhost:8080/"
        },
        "outputId": "f68eb068-d34e-4e95-f217-1866b4966d4d"
      },
      "source": [
        "print(calls['month'].value_counts())"
      ],
      "execution_count": null,
      "outputs": [
        {
          "output_type": "stream",
          "name": "stdout",
          "text": [
            "January      62336\n",
            "June         60034\n",
            "March        60027\n",
            "July         59832\n",
            "December     57692\n",
            "May          57509\n",
            "February     55427\n",
            "April        53671\n",
            "October      51240\n",
            "November     50182\n",
            "August       48359\n",
            "September    47213\n",
            "Name: month, dtype: int64\n"
          ]
        }
      ]
    },
    {
      "cell_type": "code",
      "metadata": {
        "colab": {
          "base_uri": "https://localhost:8080/"
        },
        "id": "v8OcAQTqZcOE",
        "outputId": "a0e9cd6d-4ac7-4380-e1e0-7e905f61e776"
      },
      "source": [
        "for x in my_list:\n",
        "    print(\"There are \", x, \" events for the month.\") "
      ],
      "execution_count": null,
      "outputs": [
        {
          "output_type": "stream",
          "name": "stdout",
          "text": [
            "There are  62336  events for the month.\n",
            "There are  60034  events for the month.\n",
            "There are  60027  events for the month.\n",
            "There are  59832  events for the month.\n",
            "There are  57692  events for the month.\n",
            "There are  57509  events for the month.\n",
            "There are  55427  events for the month.\n",
            "There are  53671  events for the month.\n",
            "There are  51240  events for the month.\n",
            "There are  50182  events for the month.\n",
            "There are  48359  events for the month.\n",
            "There are  47213  events for the month.\n"
          ]
        }
      ]
    },
    {
      "cell_type": "code",
      "metadata": {
        "colab": {
          "base_uri": "https://localhost:8080/",
          "height": 624
        },
        "id": "F4yF6YIuZfvI",
        "outputId": "15570cb4-499f-4e93-e366-81b0a8ccdd0d"
      },
      "source": [
        "fig = plt.figure()\n",
        "ax = fig.add_axes([1,1,2,2])\n",
        "month = ['January', 'June', 'March', 'July', 'December', 'May', 'February', 'April', 'October', 'November', 'August', 'September']\n",
        "events = [62336,60034,60027,59832,57692, 57509, 55427, 53671, 51240, 50182, 48359, 47213]\n",
        "ax.bar(month,events)\n",
        "plt.show()"
      ],
      "execution_count": null,
      "outputs": [
        {
          "output_type": "display_data",
          "data": {
            "image/png": "[encoded data removed]",
            "text/plain": [
              "<Figure size 432x288 with 1 Axes>"
            ]
          },
          "metadata": {
            "needs_background": "light"
          }
        }
      ]
    },
    {
      "cell_type": "markdown",
      "metadata": {
        "id": "R9IPOFIkIRBr"
      },
      "source": [
        "**Conclusions** What are your conclusions?\n",
        "\n",
        "\n",
        "---\n",
        "\n"
      ]
    },
    {
      "cell_type": "markdown",
      "metadata": {
        "id": "deKbdy_kZkl1"
      },
      "source": [
        "We can see that there are more events in January, June, March and July. Its 4 months represent 75% of the events that occur most often during this period. On average, we have 55,293 events per month. Its events take place at the beginning of the year and just before the start of the summer holidays"
      ]
    },
    {
      "cell_type": "markdown",
      "metadata": {
        "id": "gBlsasHjIU5N"
      },
      "source": [
        "**4.** Create a column `hour` from the  `timestamp`column and add it to `fire_calls`\n",
        "\n",
        "**3.** Counts how many events happenned by hour \n",
        "\n"
      ]
    },
    {
      "cell_type": "code",
      "metadata": {
        "id": "d-kS66WMZz3o"
      },
      "source": [
        "import numpy as np\n",
        "import pandas as pd\n",
        "import matplotlib.pyplot as plt\n",
        "import seaborn as sns\n",
        "import datetime as dt"
      ],
      "execution_count": null,
      "outputs": []
    },
    {
      "cell_type": "code",
      "metadata": {
        "id": "CRLVUrYUZ0GC"
      },
      "source": [
        "def hour_dt(y):\n",
        "    date = dt.datetime.strptime(y, \"%Y-%m-%d %H:%M:%S\")\n",
        "    hour = '{0:%H}'.format(date)\n",
        "    return hour"
      ],
      "execution_count": null,
      "outputs": []
    },
    {
      "cell_type": "code",
      "metadata": {
        "id": "0O4wGX0eZ6yP"
      },
      "source": [
        "list_hour = []\n",
        "\n",
        "for element in calls['timeStamp']:\n",
        "    hour = hour_dt(element)\n",
        "    list_hour.append(hour)\n",
        "\n",
        "h_Series = pd.Series(list_hour)\n",
        "fire_calls.insert(2, 'hour', h_Series, allow_duplicates=False)"
      ],
      "execution_count": null,
      "outputs": []
    },
    {
      "cell_type": "code",
      "metadata": {
        "colab": {
          "base_uri": "https://localhost:8080/",
          "height": 293
        },
        "id": "WHANMhv-Z-_U",
        "outputId": "56250f8a-a8e6-4da5-afd0-98561609b327"
      },
      "source": [
        "fire_calls.head()"
      ],
      "execution_count": null,
      "outputs": [
        {
          "output_type": "execute_result",
          "data": {
            "text/html": [
              "<div>\n",
              "<style scoped>\n",
              "    .dataframe tbody tr th:only-of-type {\n",
              "        vertical-align: middle;\n",
              "    }\n",
              "\n",
              "    .dataframe tbody tr th {\n",
              "        vertical-align: top;\n",
              "    }\n",
              "\n",
              "    .dataframe thead th {\n",
              "        text-align: right;\n",
              "    }\n",
              "</style>\n",
              "<table border=\"1\" class=\"dataframe\">\n",
              "  <thead>\n",
              "    <tr style=\"text-align: right;\">\n",
              "      <th></th>\n",
              "      <th>lat</th>\n",
              "      <th>lng</th>\n",
              "      <th>hour</th>\n",
              "      <th>month</th>\n",
              "      <th>desc</th>\n",
              "      <th>zip</th>\n",
              "      <th>title</th>\n",
              "      <th>timeStamp</th>\n",
              "      <th>twp</th>\n",
              "      <th>addr</th>\n",
              "      <th>e</th>\n",
              "    </tr>\n",
              "  </thead>\n",
              "  <tbody>\n",
              "    <tr>\n",
              "      <th>2</th>\n",
              "      <td>40.121182</td>\n",
              "      <td>-75.351975</td>\n",
              "      <td>14</td>\n",
              "      <td>December</td>\n",
              "      <td>HAWS AVE; NORRISTOWN; 2015-12-10 @ 14:39:21-St...</td>\n",
              "      <td>19401.0</td>\n",
              "      <td>Fire: GAS-ODOR/LEAK</td>\n",
              "      <td>2015-12-10 14:39:21</td>\n",
              "      <td>NORRISTOWN</td>\n",
              "      <td>HAWS AVE</td>\n",
              "      <td>1</td>\n",
              "    </tr>\n",
              "    <tr>\n",
              "      <th>22</th>\n",
              "      <td>40.199006</td>\n",
              "      <td>-75.300058</td>\n",
              "      <td>17</td>\n",
              "      <td>December</td>\n",
              "      <td>LILAC CT &amp; PRIMROSE DR; UPPER GWYNEDD; 2015-12...</td>\n",
              "      <td>19446.0</td>\n",
              "      <td>Fire: APPLIANCE FIRE</td>\n",
              "      <td>2015-12-10 17:59:24</td>\n",
              "      <td>UPPER GWYNEDD</td>\n",
              "      <td>LILAC CT &amp; PRIMROSE DR</td>\n",
              "      <td>1</td>\n",
              "    </tr>\n",
              "    <tr>\n",
              "      <th>27</th>\n",
              "      <td>40.028903</td>\n",
              "      <td>-75.351822</td>\n",
              "      <td>18</td>\n",
              "      <td>December</td>\n",
              "      <td>EDENTON PL &amp; DURHAM DR; DELAWARE COUNTY; 2015-...</td>\n",
              "      <td>19085.0</td>\n",
              "      <td>Fire: CARBON MONOXIDE DETECTOR</td>\n",
              "      <td>2015-12-10 18:05:19</td>\n",
              "      <td>DELAWARE COUNTY</td>\n",
              "      <td>EDENTON PL &amp; DURHAM DR</td>\n",
              "      <td>1</td>\n",
              "    </tr>\n",
              "    <tr>\n",
              "      <th>39</th>\n",
              "      <td>40.104206</td>\n",
              "      <td>-75.367665</td>\n",
              "      <td>18</td>\n",
              "      <td>December</td>\n",
              "      <td>HAMPTON RD &amp; BELMONT RD; UPPER MERION; 2015-12...</td>\n",
              "      <td>19406.0</td>\n",
              "      <td>Fire: GAS-ODOR/LEAK</td>\n",
              "      <td>2015-12-10 18:32:25</td>\n",
              "      <td>UPPER MERION</td>\n",
              "      <td>HAMPTON RD &amp; BELMONT RD</td>\n",
              "      <td>1</td>\n",
              "    </tr>\n",
              "    <tr>\n",
              "      <th>45</th>\n",
              "      <td>40.224923</td>\n",
              "      <td>-75.528045</td>\n",
              "      <td>18</td>\n",
              "      <td>December</td>\n",
              "      <td>LINFIELD TRAPPE RD; LIMERICK; 2015-12-10 @ 18:...</td>\n",
              "      <td>19468.0</td>\n",
              "      <td>Fire: VEHICLE ACCIDENT</td>\n",
              "      <td>2015-12-10 18:50:23</td>\n",
              "      <td>LIMERICK</td>\n",
              "      <td>LINFIELD TRAPPE RD</td>\n",
              "      <td>1</td>\n",
              "    </tr>\n",
              "  </tbody>\n",
              "</table>\n",
              "</div>"
            ],
            "text/plain": [
              "          lat        lng hour  ...              twp                     addr  e\n",
              "2   40.121182 -75.351975   14  ...       NORRISTOWN                 HAWS AVE  1\n",
              "22  40.199006 -75.300058   17  ...    UPPER GWYNEDD   LILAC CT & PRIMROSE DR  1\n",
              "27  40.028903 -75.351822   18  ...  DELAWARE COUNTY   EDENTON PL & DURHAM DR  1\n",
              "39  40.104206 -75.367665   18  ...     UPPER MERION  HAMPTON RD & BELMONT RD  1\n",
              "45  40.224923 -75.528045   18  ...         LIMERICK       LINFIELD TRAPPE RD  1\n",
              "\n",
              "[5 rows x 11 columns]"
            ]
          },
          "metadata": {},
          "execution_count": 36
        }
      ]
    },
    {
      "cell_type": "code",
      "metadata": {
        "colab": {
          "base_uri": "https://localhost:8080/"
        },
        "id": "edlOhSdTani7",
        "outputId": "816fc2d3-d5eb-4be3-ea52-5273ab5150c0"
      },
      "source": [
        "my_h_list = fire_calls['hour'].value_counts()\n",
        "\n",
        "h_dict = {}\n",
        "total_events = 0\n",
        "\n",
        "for key in my_h_list.keys():\n",
        "    print(\"There are \", my_h_list.get(key=key), \" events at \", key, \"hour\")\n",
        "    h_dict[key] = my_h_list.get(key=key)\n",
        "    total_events += my_h_list.get(key=key)"
      ],
      "execution_count": null,
      "outputs": [
        {
          "output_type": "stream",
          "name": "stdout",
          "text": [
            "There are  6497  events at  17 hour\n",
            "There are  6381  events at  18 hour\n",
            "There are  6155  events at  16 hour\n",
            "There are  6021  events at  15 hour\n",
            "There are  5974  events at  13 hour\n",
            "There are  5956  events at  14 hour\n",
            "There are  5711  events at  19 hour\n",
            "There are  5705  events at  12 hour\n",
            "There are  5681  events at  11 hour\n",
            "There are  5467  events at  10 hour\n",
            "There are  5170  events at  09 hour\n",
            "There are  5079  events at  20 hour\n",
            "There are  4457  events at  08 hour\n",
            "There are  4251  events at  21 hour\n",
            "There are  3508  events at  07 hour\n",
            "There are  3348  events at  22 hour\n",
            "There are  2707  events at  23 hour\n",
            "There are  2421  events at  06 hour\n",
            "There are  2123  events at  00 hour\n",
            "There are  1839  events at  05 hour\n",
            "There are  1769  events at  01 hour\n",
            "There are  1539  events at  02 hour\n",
            "There are  1454  events at  03 hour\n",
            "There are  1409  events at  04 hour\n"
          ]
        }
      ]
    },
    {
      "cell_type": "markdown",
      "source": [
        ""
      ],
      "metadata": {
        "id": "hZrzFZygDQVH"
      }
    },
    {
      "cell_type": "markdown",
      "metadata": {
        "id": "xr_yAzTKavTD"
      },
      "source": [
        "For example, there are 6497 events for the 5 p.m. schedule"
      ]
    },
    {
      "cell_type": "markdown",
      "metadata": {
        "id": "HyBi8r8xwX9S"
      },
      "source": [
        "## Average calls per hour"
      ]
    },
    {
      "cell_type": "markdown",
      "metadata": {
        "id": "fDQJpAkAwaVq"
      },
      "source": [
        "We will use the `counts_by_hour`dictionary to **calculate the average number of calls per hour**\n",
        "\n",
        "Technique:\n",
        "```\n",
        "total_fruits = 10\n",
        "sample_dict = {\n",
        "                'apple': 1, \n",
        "                'banana': 3, \n",
        "                'orange': 6\n",
        "               }\n",
        "\n",
        "# Iterate over dictionaries\n",
        "\n",
        "for key, value in sample_dict.items():\n",
        "  sample_dict[key] = value / total_fruits\n",
        "\n",
        "Output\n",
        "sample_dict = {\n",
        "                'apple': 0.1, \n",
        "                'banana': 0.3, \n",
        "                'orange': 0.6\n",
        "               }\n",
        "\n",
        "```\n",
        "\n"
      ]
    },
    {
      "cell_type": "markdown",
      "metadata": {
        "id": "MZQ0raq42FYO"
      },
      "source": [
        "**Instructions**\n",
        "\n",
        "Use the example above to calculate the average number of calls per hours.\n",
        "\n",
        "The result should be a dictionary where the keys are the hours and the values the average number of calls. \n"
      ]
    },
    {
      "cell_type": "code",
      "metadata": {
        "id": "eZDoCCSV27Nk"
      },
      "source": [
        "for key, value in h_dict.items():\n",
        "    h_dict[key] = value / total_events"
      ],
      "execution_count": null,
      "outputs": []
    },
    {
      "cell_type": "code",
      "metadata": {
        "id": "2IAHKkQA27Xc",
        "colab": {
          "base_uri": "https://localhost:8080/"
        },
        "outputId": "3aa4bcb0-f435-4fb8-f8bb-b02f32070bee"
      },
      "source": [
        "print(\"Dictionary : \\n\", h_dict)"
      ],
      "execution_count": null,
      "outputs": [
        {
          "output_type": "stream",
          "name": "stdout",
          "text": [
            "Dictionary : \n",
            " {'17': 0.0645683846474926, '18': 0.06341555524636759, '16': 0.06116952555107233, '15': 0.0598378088290831, '13': 0.059370714157937626, '14': 0.05919182683707341, '19': 0.05675697163642146, '12': 0.05669734252946672, '11': 0.05645882610164775, '10': 0.05433205462026197, '09': 0.051380413826002266, '20': 0.05047603903718868, '08': 0.04429448828288048, '21': 0.04224722227743436, '07': 0.03486315119953887, '22': 0.03327304168074576, '23': 0.026902665421080878, '06': 0.0240603446562382, '00': 0.021098765677486038, '05': 0.01827632128162827, '01': 0.01758064836715629, '02': 0.015294865933891197, '03': 0.014450120252032359, '04': 0.014002901949871797}\n"
          ]
        }
      ]
    },
    {
      "cell_type": "code",
      "metadata": {
        "colab": {
          "base_uri": "https://localhost:8080/"
        },
        "id": "4KhvFXHTa5S-",
        "outputId": "ae7a9d80-df2f-451d-d0b7-2b045c7827cd"
      },
      "source": [
        "print(\"After mean : \\n\", h_dict)"
      ],
      "execution_count": null,
      "outputs": [
        {
          "output_type": "stream",
          "name": "stdout",
          "text": [
            "After mean : \n",
            " {'17': 0.0645683846474926, '18': 0.06341555524636759, '16': 0.06116952555107233, '15': 0.0598378088290831, '13': 0.059370714157937626, '14': 0.05919182683707341, '19': 0.05675697163642146, '12': 0.05669734252946672, '11': 0.05645882610164775, '10': 0.05433205462026197, '09': 0.051380413826002266, '20': 0.05047603903718868, '08': 0.04429448828288048, '21': 0.04224722227743436, '07': 0.03486315119953887, '22': 0.03327304168074576, '23': 0.026902665421080878, '06': 0.0240603446562382, '00': 0.021098765677486038, '05': 0.01827632128162827, '01': 0.01758064836715629, '02': 0.015294865933891197, '03': 0.014450120252032359, '04': 0.014002901949871797}\n"
          ]
        }
      ]
    },
    {
      "cell_type": "markdown",
      "metadata": {
        "id": "HlKW61PaB4ii"
      },
      "source": [
        "## Where do the fires happen? \n"
      ]
    },
    {
      "cell_type": "markdown",
      "metadata": {
        "id": "rFqmYussmYOp"
      },
      "source": [
        "**Instructions**\n",
        "\n",
        "Identify the top 3 Townships where the fire happenned. \n",
        "\n",
        "**1.** Create a dictionary where the keys are the Townships and the values the numbers of calls\n",
        "\n",
        "**2.** Convert that dictionary into `top_townships` a list of lists\n",
        "```\n",
        "sample_dict = {'apple': 1,  'banana': 8,  'orange': 6 }\n",
        "fruits = []\n",
        "for fruit in sample_dict:\n",
        "    fruits.append([fruit, 10*sample_dict[fruit]])\n",
        "\n",
        "Output\n",
        "[['apple', 10], ['banana', 80], ['orange', 60]]\n",
        "```\n",
        "\n",
        "**3.** Use the `sorted()` function to sort `top_townships` and assign it to  `sorted_townships`. Set the reverse argument to `True` and key argument to `lambda x:x[1]`. The  highest value in the second column appears first in the list.\n",
        "\n",
        "```\n",
        "sorted_fruits = sorted(fruits, key=lambda x:x[1], reverse = True)\n",
        "\n",
        "Output\n",
        "[['apple', 10], ['orange', 60], ['banana', 80]]\n",
        "```\n",
        "\n",
        "**4.** Select the first 3 elements of `sorted_townships`"
      ]
    },
    {
      "cell_type": "code",
      "metadata": {
        "id": "IvUeL6lM9itS"
      },
      "source": [
        "my_t_list = fire_calls['twp'].value_counts()\n",
        "\n",
        "t_dict = {}\n",
        "\n",
        "for key in my_t_list.keys():\n",
        "    # print(\"There are \", my_h_list.get(key=key), \" events for the\", key)\n",
        "    t_dict[key] = my_t_list.get(key=key)\n",
        "    #total_events += my_t_list.get(key=key)"
      ],
      "execution_count": null,
      "outputs": []
    },
    {
      "cell_type": "code",
      "metadata": {
        "id": "OosbcOJ59i0y"
      },
      "source": [
        "top_townships = []\n",
        "for twp in t_dict:\n",
        "    top_townships.append([twp, 10*t_dict[twp]])"
      ],
      "execution_count": null,
      "outputs": []
    },
    {
      "cell_type": "code",
      "metadata": {
        "id": "I5MHFUSH9i50"
      },
      "source": [
        "sorted_townships = sorted(top_townships, key=lambda x:x[1], reverse = True)"
      ],
      "execution_count": null,
      "outputs": []
    },
    {
      "cell_type": "code",
      "metadata": {
        "colab": {
          "base_uri": "https://localhost:8080/"
        },
        "id": "gRi3X9CAbHRk",
        "outputId": "4af5ec8a-aa5c-453a-d051-463870d9afed"
      },
      "source": [
        "for i in range(3):\n",
        "    print(sorted_townships[i])"
      ],
      "execution_count": null,
      "outputs": [
        {
          "output_type": "stream",
          "name": "stdout",
          "text": [
            "['LOWER MERION', 101540]\n",
            "['ABINGTON', 64590]\n",
            "['NORRISTOWN', 52480]\n"
          ]
        }
      ]
    },
    {
      "cell_type": "markdown",
      "metadata": {
        "id": "6Tnppf2aksm8"
      },
      "source": [
        "## What are the most frequent calls reasons"
      ]
    },
    {
      "cell_type": "markdown",
      "metadata": {
        "id": "GEied-5QkxL0"
      },
      "source": [
        "We focused on `'Fire'`first. Now let's go back to the `calls` list.\n",
        "\n",
        "We will go through the description column and **count how many calls concern each main categories** amoung:\n",
        "* EMS\n",
        "* Fire\n",
        "* Traffic\n",
        "\n",
        "**Instructions**\n",
        "\n",
        " **1.** Add a text cell below and describe the procedure you will follow\n",
        "\n",
        " **2.** Execute it\n"
      ]
    },
    {
      "cell_type": "code",
      "metadata": {
        "id": "ACUJPLYWlr6q",
        "colab": {
          "base_uri": "https://localhost:8080/"
        },
        "outputId": "8ab77c61-2409-4437-d7cb-28cdb2c56535"
      },
      "source": [
        "calls['Reason'] = calls['title'].apply(lambda title: title.split(':')[0])\n",
        "print(\"Reasons :\\n\",calls['Reason'].value_counts())"
      ],
      "execution_count": null,
      "outputs": [
        {
          "output_type": "stream",
          "name": "stdout",
          "text": [
            "Reasons :\n",
            " EMS        332692\n",
            "Traffic    230208\n",
            "Fire       100622\n",
            "Name: Reason, dtype: int64\n"
          ]
        }
      ]
    },
    {
      "cell_type": "code",
      "metadata": {
        "id": "7-3nMCF1mVJq",
        "colab": {
          "base_uri": "https://localhost:8080/",
          "height": 350
        },
        "outputId": "8c60705f-2af6-4db6-8a6d-3f84c11cb536"
      },
      "source": [
        "# sns.countplot(x='Reason',data=calls)\n",
        "\n",
        "fig, axes = plt.subplots(1,2, figsize=(15, 5))\n",
        "\n",
        "sns.countplot(x='Reason', data=calls, order=calls['Reason'].value_counts().index, ax=axes[0])\n",
        "axes[0].set_title('Common Reasons for 911 Calls', size=13)\n",
        "axes[0].set(xlabel='Reason', ylabel='Count')\n",
        "\n",
        "calls['Reason'].value_counts().plot.pie(autopct='%1.1f%%',ax=axes[1],shadow=True)\n",
        "axes[1].set(xlabel='', ylabel='')\n",
        "\n",
        "sns.despine(bottom=False, left=True)"
      ],
      "execution_count": null,
      "outputs": [
        {
          "output_type": "display_data",
          "data": {
            "image/png": "[encoded data removed]",
            "text/plain": [
              "<Figure size 1080x360 with 2 Axes>"
            ]
          },
          "metadata": {
            "needs_background": "light"
          }
        }
      ]
    },
    {
      "cell_type": "markdown",
      "metadata": {
        "id": "khwY8lRyc5w5"
      },
      "source": [
        "EMS represents 50.1% of the reasons for calls\n",
        "\n",
        "Traffic represents 34.7% of the reasons for calls\n",
        "\n",
        "Fire represents 15.2% of the reasons for calls"
      ]
    },
    {
      "cell_type": "code",
      "metadata": {
        "id": "DIWvIDywmVQW",
        "colab": {
          "base_uri": "https://localhost:8080/"
        },
        "outputId": "48f9390c-aae3-44f1-d022-5d81f3d14766"
      },
      "source": [
        "byMonth= calls.groupby('month').count()\n",
        "byMonth['Reason']"
      ],
      "execution_count": null,
      "outputs": [
        {
          "output_type": "execute_result",
          "data": {
            "text/plain": [
              "month\n",
              "April        53671\n",
              "August       48359\n",
              "December     57692\n",
              "February     55427\n",
              "January      62336\n",
              "July         59832\n",
              "June         60034\n",
              "March        60027\n",
              "May          57509\n",
              "November     50182\n",
              "October      51240\n",
              "September    47213\n",
              "Name: Reason, dtype: int64"
            ]
          },
          "metadata": {},
          "execution_count": 53
        }
      ]
    },
    {
      "cell_type": "code",
      "metadata": {
        "colab": {
          "base_uri": "https://localhost:8080/",
          "height": 297
        },
        "id": "N4diY-a2dvhL",
        "outputId": "8cd9d958-3d06-404a-ffe7-fdc42a1a65a4"
      },
      "source": [
        "byMonth['zip'].plot()"
      ],
      "execution_count": null,
      "outputs": [
        {
          "output_type": "execute_result",
          "data": {
            "text/plain": [
              "<matplotlib.axes._subplots.AxesSubplot at 0x7f4018cbf750>"
            ]
          },
          "metadata": {},
          "execution_count": 54
        },
        {
          "output_type": "display_data",
          "data": {
            "image/png": "[encoded data removed]",
            "text/plain": [
              "<Figure size 432x288 with 1 Axes>"
            ]
          },
          "metadata": {
            "needs_background": "light"
          }
        }
      ]
    },
    {
      "cell_type": "markdown",
      "metadata": {
        "id": "lvxB7dUadxaP"
      },
      "source": [
        "We can see that the month of January was the month with the most emergency calls.\n"
      ]
    },
    {
      "cell_type": "markdown",
      "metadata": {
        "id": "9mNmtQrMdmh3"
      },
      "source": [
        "For example, in the month of April, there were 53,671 calls for all emergency reasons"
      ]
    },
    {
      "cell_type": "markdown",
      "metadata": {
        "id": "ZVhmEPbicwTQ"
      },
      "source": [
        ""
      ]
    },
    {
      "cell_type": "markdown",
      "metadata": {
        "id": "PiW4HQ1z7RX6"
      },
      "source": [
        "# Self-discovery"
      ]
    },
    {
      "cell_type": "markdown",
      "metadata": {
        "id": "Cz4Y6T1Q7U7V"
      },
      "source": [
        "It's up to you now : propose **a new angle to analyse the 911 calls data**. \n",
        "1. Define your business goals (ie : what information are you looking for)\n",
        "2. Identify and prep the data (process any data transformation required)\n",
        "3. Write the appropriate code and comment it\n",
        "4. Draw your conclusions"
      ]
    },
    {
      "cell_type": "markdown",
      "metadata": {
        "id": "RD3-eQ48fy8k"
      },
      "source": [
        "To go further, we need to know the top 10 emergency calls. Then we could determine the most common emergency titles are fire alarm, vehicle accident and fire investigation. After that, we must specify over which period there are the most emergency calls and on which days. And finally we can indicate at what time there are the most emergency calls."
      ]
    },
    {
      "cell_type": "code",
      "metadata": {
        "id": "f6vUa1mp7b97"
      },
      "source": [
        ""
      ],
      "execution_count": null,
      "outputs": []
    },
    {
      "cell_type": "markdown",
      "metadata": {
        "id": "kM6GLuoKeSju"
      },
      "source": [
        "## The top 10 emergency calls from all the categories.\n",
        "\n",
        "Vehicle accidents are the number one reason people call 911.\n",
        "\n",
        "Disabled vehicle and fire alarm are in second and third place."
      ]
    },
    {
      "cell_type": "code",
      "metadata": {
        "id": "-KzrMI1n7zJm",
        "colab": {
          "base_uri": "https://localhost:8080/",
          "height": 369
        },
        "outputId": "8ef2c128-c6b3-420e-d879-092e6ccefc5e"
      },
      "source": [
        "fig, axes = plt.subplots(figsize=(10, 5))\n",
        "sns.countplot(y='title', data=calls, order=calls['title'].value_counts().index, palette='prism')\n",
        "sns.despine(bottom=False, left=True)\n",
        "axes.set_ylim([9, 0])\n",
        "axes.set_title('Overall 911 Emergency Calls', size=15)\n",
        "axes.set(xlabel='Number of 911 Calls', ylabel='')\n",
        "plt.tight_layout()"
      ],
      "execution_count": null,
      "outputs": [
        {
          "output_type": "display_data",
          "data": {
            "image/png": "[encoded data removed]",
            "text/plain": [
              "<Figure size 720x360 with 1 Axes>"
            ]
          },
          "metadata": {
            "needs_background": "light"
          }
        }
      ]
    },
    {
      "cell_type": "code",
      "metadata": {
        "id": "PAcY6EQW7zNP"
      },
      "source": [
        ""
      ],
      "execution_count": null,
      "outputs": []
    },
    {
      "cell_type": "markdown",
      "metadata": {
        "id": "PvNCndoUehbx"
      },
      "source": [
        "## The most common emergency titles are fire alarm, vehicle accident and fire investigation.\n"
      ]
    },
    {
      "cell_type": "code",
      "metadata": {
        "id": "VX-k4qyQ7zW_",
        "colab": {
          "base_uri": "https://localhost:8080/",
          "height": 370
        },
        "outputId": "2c2da36a-d964-4e5e-da78-333ce5720a0d"
      },
      "source": [
        "calls[calls['Reason']=='Fire'].groupby('title').count()['lat'].sort_values(ascending=True).tail(10).plot(kind='barh', figsize=(10, 5), color='darkred')\n",
        "plt.xlabel('Number of 911 Calls')\n",
        "plt.ylabel('')\n",
        "plt.title('Fire 911 Emergency Calls', fontsize=15)"
      ],
      "execution_count": null,
      "outputs": [
        {
          "output_type": "execute_result",
          "data": {
            "text/plain": [
              "Text(0.5, 1.0, 'Fire 911 Emergency Calls')"
            ]
          },
          "metadata": {},
          "execution_count": 56
        },
        {
          "output_type": "display_data",
          "data": {
            "image/png": "[encoded data removed]",
            "text/plain": [
              "<Figure size 720x360 with 1 Axes>"
            ]
          },
          "metadata": {
            "needs_background": "light"
          }
        }
      ]
    },
    {
      "cell_type": "markdown",
      "metadata": {
        "id": "roWtVTvlhcNi"
      },
      "source": [
        "The most common emergency titles are fire alarm, vehicle accident and fire investigation."
      ]
    },
    {
      "cell_type": "markdown",
      "metadata": {
        "id": "H8__prx5j3XR"
      },
      "source": [
        "We are going to use pd.to_datetime to convert the timeStamp column from string to DateTime object. Then we use .apply() to create 3 new columns called Hour, Day of week."
      ]
    },
    {
      "cell_type": "code",
      "metadata": {
        "id": "Qg2dijrdel1H"
      },
      "source": [
        "calls['timeStamp'] = pd.to_datetime(calls['timeStamp'])\n",
        "\n",
        "calls['Hour'] = calls['timeStamp'].apply(lambda time: time.hour)\n",
        "calls['Day of Week'] = calls['timeStamp'].apply(lambda time: time.dayofweek)"
      ],
      "execution_count": null,
      "outputs": []
    },
    {
      "cell_type": "markdown",
      "metadata": {
        "id": "JH3SvkjhkjEw"
      },
      "source": [
        "Notice how the Day of Week is an integer 0-6. Let's map the actual string names to the day of the week:"
      ]
    },
    {
      "cell_type": "code",
      "metadata": {
        "id": "xfqlTpMfep24"
      },
      "source": [
        "dmap = {0:'Mon',1:'Tue',2:'Wed',3:'Thu',4:'Fri',5:'Sat',6:'Sun'}\n",
        "\n",
        "calls['Day of Week'] = calls['Day of Week'].map(dmap)"
      ],
      "execution_count": null,
      "outputs": []
    },
    {
      "cell_type": "markdown",
      "metadata": {
        "id": "1OkJOm30kpm1"
      },
      "source": [
        "## Weekly and monthly calls\n",
        "It looks like friday is the day with more calls during the week.\n",
        "Regarding the monthly calls, looks like during the first semester there are more calls."
      ]
    },
    {
      "cell_type": "code",
      "metadata": {
        "colab": {
          "base_uri": "https://localhost:8080/",
          "height": 352
        },
        "id": "fC5XckG5es4s",
        "outputId": "9505b100-f0dd-4d81-8cd6-7b77d9b73a4a"
      },
      "source": [
        "fig, axes = plt.subplots(1,2, figsize=(15,5))\n",
        "\n",
        "sns.countplot(x='Day of Week', data=calls, palette='viridis', ax=axes[0])\n",
        "axes[0].set_title('Weekly Calls', size=15)\n",
        "\n",
        "sns.countplot(x='month', data=calls, hue='Reason', palette='viridis', ax=axes[1])\n",
        "axes[1].set_title('Monthly Calls', size=15)\n",
        "plt.legend(bbox_to_anchor=(1.05, 1), loc=2, borderaxespad=0)\n",
        "\n",
        "sns.despine(bottom=False, left=True)"
      ],
      "execution_count": null,
      "outputs": [
        {
          "output_type": "display_data",
          "data": {
            "image/png": "[encoded data removed]",
            "text/plain": [
              "<Figure size 1080x360 with 2 Axes>"
            ]
          },
          "metadata": {
            "needs_background": "light"
          }
        }
      ]
    },
    {
      "cell_type": "markdown",
      "metadata": {
        "id": "0A8FHbAvlY1Z"
      },
      "source": [
        "\n",
        "Now on to creating heatmaps with seaborn and our data. We'll first need to restructure the dataframe so that the columns become the Hours and the Index becomes the Day of the Week. \n",
        "In the heatmap we can see that during 14:00 and 17:00 hours there are more calls.\n",
        "Friday and Wednesday have more calls.\n",
        "Apparently during Sunday the calls drop."
      ]
    },
    {
      "cell_type": "code",
      "metadata": {
        "id": "jQz6gBOCevF8"
      },
      "source": [
        "dayHour = calls.groupby(by=['Day of Week', 'Hour']).count()['Reason'].unstack()"
      ],
      "execution_count": null,
      "outputs": []
    },
    {
      "cell_type": "code",
      "metadata": {
        "colab": {
          "base_uri": "https://localhost:8080/",
          "height": 406
        },
        "id": "U8kEZVYYey0R",
        "outputId": "f47e7572-ee8f-402c-c11e-17733939fd5f"
      },
      "source": [
        "plt.figure(figsize=(12,6))\n",
        "sns.heatmap(dayHour, cmap='viridis', linewidths=0.05)"
      ],
      "execution_count": null,
      "outputs": [
        {
          "output_type": "execute_result",
          "data": {
            "text/plain": [
              "<matplotlib.axes._subplots.AxesSubplot at 0x7f4018d7ef50>"
            ]
          },
          "metadata": {},
          "execution_count": 61
        },
        {
          "output_type": "display_data",
          "data": {
            "image/png": "[encoded data removed]",
            "text/plain": [
              "<Figure size 864x432 with 2 Axes>"
            ]
          },
          "metadata": {
            "needs_background": "light"
          }
        }
      ]
    },
    {
      "cell_type": "code",
      "metadata": {
        "id": "8ohE5KQYe07l"
      },
      "source": [
        ""
      ],
      "execution_count": null,
      "outputs": []
    }
  ]
}