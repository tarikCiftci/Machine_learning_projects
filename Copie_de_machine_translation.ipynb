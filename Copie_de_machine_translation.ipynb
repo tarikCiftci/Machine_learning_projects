{
  "cells": [
    {
      "cell_type": "markdown",
      "metadata": {
        "id": "view-in-github",
        "colab_type": "text"
      },
      "source": [
        "<a href=\"https://colab.research.google.com/github/tarikCiftci/Machine_learning_projects/blob/main/Copie_de_machine_translation.ipynb\" target=\"_parent\"><img src=\"https://colab.research.google.com/assets/colab-badge.svg\" alt=\"Open In Colab\"/></a>"
      ]
    },
    {
      "cell_type": "markdown",
      "metadata": {
        "collapsed": true,
        "id": "xTkT0JYWB-lq"
      },
      "source": [
        "\n",
        "## Machine Translation Project\n",
        "\n",
        "### Introduction\n",
        "In this project, you will build a deep neural network that functions as part of an end-to-end machine translation pipeline. Your completed pipeline will accept English text as input and return the French translation.\n",
        "\n",
        "- **Preprocess** - You'll convert text to sequence of integers. Since neural networks understand only numbers\n",
        "- **Models** Create models which accepts a sequence of integers as input and returns a probability distribution over possible translations. After learning about the basic recurrent neural networks that are often used for language applications, you will engage in your own investigations, to design your own model!\n",
        "- **Prediction** Run the model on English text."
      ]
    },
    {
      "cell_type": "code",
      "execution_count": null,
      "metadata": {
        "id": "_IHqcM5DB-lw"
      },
      "outputs": [],
      "source": [
        "#%load_ext autoreload\n",
        "#%aimport helper, tests\n",
        "#%autoreload 1"
      ]
    },
    {
      "cell_type": "markdown",
      "source": [
        "### a list of functions for tests"
      ],
      "metadata": {
        "id": "QoRs1D2cHM7G"
      }
    },
    {
      "cell_type": "code",
      "source": [
        "import numpy as np\n",
        "from keras.losses import sparse_categorical_crossentropy\n",
        "from keras.models import Sequential\n",
        "from keras.preprocessing.text import Tokenizer\n",
        "from tensorflow.keras.utils import to_categorical\n",
        "\n",
        "\n",
        "def _test_model(model, input_shape, output_sequence_length, french_vocab_size):\n",
        "    if isinstance(model, Sequential):\n",
        "        model = model.model\n",
        "\n",
        "    assert model.input_shape == (None, *input_shape[1:]),\\\n",
        "        'Wrong input shape. Found input shape {} using parameter input_shape={}'.format(model.input_shape, input_shape)\n",
        "\n",
        "    assert model.output_shape == (None, output_sequence_length, french_vocab_size),\\\n",
        "        'Wrong output shape. Found output shape {} using parameters output_sequence_length={} and french_vocab_size={}'\\\n",
        "            .format(model.output_shape, output_sequence_length, french_vocab_size)\n",
        "\n",
        "    assert len(model.loss_functions) > 0,\\\n",
        "        'No loss function set.  Apply the `compile` function to the model.'\n",
        "\n",
        "    assert sparse_categorical_crossentropy in model.loss_functions,\\\n",
        "        'Not using `sparse_categorical_crossentropy` function for loss.'\n",
        "\n",
        "\n",
        "def test_tokenize(tokenize):\n",
        "    sentences = [\n",
        "        'The quick brown fox jumps over the lazy dog .',\n",
        "        'By Jove , my quick study of lexicography won a prize .',\n",
        "        'This is a short sentence .']\n",
        "    tokenized_sentences, tokenizer = tokenize(sentences)\n",
        "    assert tokenized_sentences == tokenizer.texts_to_sequences(sentences),\\\n",
        "        'Tokenizer returned and doesn\\'t generate the same sentences as the tokenized sentences returned. '\n",
        "\n",
        "\n",
        "def test_pad(pad):\n",
        "    tokens = [\n",
        "        [i for i in range(4)],\n",
        "        [i for i in range(6)],\n",
        "        [i for i in range(3)]]\n",
        "    padded_tokens = pad(tokens)\n",
        "    padding_id = padded_tokens[0][-1]\n",
        "    true_padded_tokens = np.array([\n",
        "        [i for i in range(4)] + [padding_id]*2,\n",
        "        [i for i in range(6)],\n",
        "        [i for i in range(3)] + [padding_id]*3])\n",
        "    assert isinstance(padded_tokens, np.ndarray),\\\n",
        "        'Pad returned the wrong type.  Found {} type, expected numpy array type.'\n",
        "    assert np.all(padded_tokens == true_padded_tokens), 'Pad returned the wrong results.'\n",
        "\n",
        "    padded_tokens_using_length = pad(tokens, 9)\n",
        "    assert np.all(padded_tokens_using_length == np.concatenate((true_padded_tokens, np.full((3, 3), padding_id)), axis=1)),\\\n",
        "        'Using length argument return incorrect results'\n",
        "\n",
        "\n",
        "def test_simple_model(simple_model):\n",
        "    input_shape = (137861, 21, 1)\n",
        "    output_sequence_length = 21\n",
        "    english_vocab_size = 199\n",
        "    french_vocab_size = 344\n",
        "\n",
        "    model = simple_model(input_shape, output_sequence_length, english_vocab_size, french_vocab_size)\n",
        "    _test_model(model, input_shape, output_sequence_length, french_vocab_size)\n",
        "\n",
        "\n",
        "def test_embed_model(embed_model):\n",
        "    input_shape = (137861, 21)\n",
        "    output_sequence_length = 21\n",
        "    english_vocab_size = 199\n",
        "    french_vocab_size = 344\n",
        "\n",
        "    model = embed_model(input_shape, output_sequence_length, english_vocab_size, french_vocab_size)\n",
        "    _test_model(model, input_shape, output_sequence_length, french_vocab_size)\n",
        "\n",
        "\n",
        "def test_encdec_model(encdec_model):\n",
        "    input_shape = (137861, 15, 1)\n",
        "    output_sequence_length = 21\n",
        "    english_vocab_size = 199\n",
        "    french_vocab_size = 344\n",
        "\n",
        "    model = encdec_model(input_shape, output_sequence_length, english_vocab_size, french_vocab_size)\n",
        "    _test_model(model, input_shape, output_sequence_length, french_vocab_size)\n",
        "\n",
        "\n",
        "def test_bd_model(bd_model):\n",
        "    input_shape = (137861, 21, 1)\n",
        "    output_sequence_length = 21\n",
        "    english_vocab_size = 199\n",
        "    french_vocab_size = 344\n",
        "\n",
        "    model = bd_model(input_shape, output_sequence_length, english_vocab_size, french_vocab_size)\n",
        "    _test_model(model, input_shape, output_sequence_length, french_vocab_size)\n",
        "\n",
        "\n",
        "def test_model_final(model_final):\n",
        "    input_shape = (137861, 15)\n",
        "    output_sequence_length = 21\n",
        "    english_vocab_size = 199\n",
        "    french_vocab_size = 344\n",
        "\n",
        "    model = model_final(input_shape, output_sequence_length, english_vocab_size, french_vocab_size)\n",
        "    _test_model(model, input_shape, output_sequence_length, french_vocab_size)\n",
        "\n",
        "import os\n",
        "def load_data(path):\n",
        "    \"\"\"\n",
        "    Load dataset\n",
        "    \"\"\"\n",
        "    input_file = os.path.join(path)\n",
        "    with open(input_file, \"r\") as f:\n",
        "        data = f.read()\n",
        "\n",
        "    return data.split('\\n')"
      ],
      "metadata": {
        "id": "36S_sOMRHR7A"
      },
      "execution_count": null,
      "outputs": []
    },
    {
      "cell_type": "code",
      "execution_count": null,
      "metadata": {
        "id": "Hgp3s7_ZB-l1"
      },
      "outputs": [],
      "source": [
        "import collections\n",
        "\n",
        "#import helper\n",
        "import numpy as np\n",
        "#import project_tests as tests\n",
        "\n",
        "from keras.preprocessing.text import Tokenizer\n",
        "from keras.preprocessing.sequence import pad_sequences\n",
        "from keras.models import Model, Sequential\n",
        "from keras.layers import GRU, Input, Dense, TimeDistributed, Activation, RepeatVector, Bidirectional, Dropout, LSTM\n",
        "from keras.layers.embeddings import Embedding\n",
        "from tensorflow.keras.optimizers import Adam\n",
        "from keras.losses import sparse_categorical_crossentropy"
      ]
    },
    {
      "cell_type": "markdown",
      "metadata": {
        "id": "jUPne34VB-l2"
      },
      "source": [
        "### Verify access to the GPU\n",
        "The following test applies only if you expect to be using a GPU, e.g., while running in a Udacity Workspace or using an AWS instance with GPU support. Run the next cell, and verify that the device_type is \"GPU\".\n",
        "- If the device is not GPU & you are running from a Udacity Workspace, then save your workspace with the icon at the top, then click \"enable\" at the bottom of the workspace.\n",
        "- If the device is not GPU & you are running from an AWS instance, then refer to the cloud computing instructions in the classroom to verify your setup steps."
      ]
    },
    {
      "cell_type": "code",
      "execution_count": null,
      "metadata": {
        "id": "vw3iFei-B-l2",
        "outputId": "8eece677-7fae-462b-c7fc-f28a89dcb435",
        "colab": {
          "base_uri": "https://localhost:8080/"
        }
      },
      "outputs": [
        {
          "output_type": "stream",
          "name": "stdout",
          "text": [
            "[name: \"/device:CPU:0\"\n",
            "device_type: \"CPU\"\n",
            "memory_limit: 268435456\n",
            "locality {\n",
            "}\n",
            "incarnation: 10042676941113403756\n",
            "xla_global_id: -1\n",
            ", name: \"/device:GPU:0\"\n",
            "device_type: \"GPU\"\n",
            "memory_limit: 14465892352\n",
            "locality {\n",
            "  bus_id: 1\n",
            "  links {\n",
            "  }\n",
            "}\n",
            "incarnation: 12080496016620161794\n",
            "physical_device_desc: \"device: 0, name: Tesla T4, pci bus id: 0000:00:04.0, compute capability: 7.5\"\n",
            "xla_global_id: 416903419\n",
            "]\n"
          ]
        }
      ],
      "source": [
        "from tensorflow.python.client import device_lib\n",
        "print(device_lib.list_local_devices())"
      ]
    },
    {
      "cell_type": "markdown",
      "metadata": {
        "id": "q7Q7YATYB-l3"
      },
      "source": [
        "## Dataset\n",
        "We begin by investigating the dataset that will be used to train and evaluate your pipeline.  The most common datasets used for machine translation are from [WMT](http://www.statmt.org/).  However, that will take a long time to train a neural network on.  We'll be using a dataset we created for this project that contains a small vocabulary.  You'll be able to train your model in a reasonable time with this dataset.\n",
        "### Load Data\n",
        "The data is located in `data/small_vocab_en` and `data/small_vocab_fr`. The `small_vocab_en` file contains English sentences with their French translations in the `small_vocab_fr` file. Load the English and French data from these files from running the cell below."
      ]
    },
    {
      "cell_type": "code",
      "source": [
        "from google.colab import drive\n",
        "drive.mount('/content/drive')"
      ],
      "metadata": {
        "colab": {
          "base_uri": "https://localhost:8080/"
        },
        "id": "Xv5GN-F2JVWd",
        "outputId": "cd3812a5-3e2b-463e-fe53-8e787946b5d2"
      },
      "execution_count": null,
      "outputs": [
        {
          "output_type": "stream",
          "name": "stdout",
          "text": [
            "Mounted at /content/drive\n"
          ]
        }
      ]
    },
    {
      "cell_type": "code",
      "execution_count": null,
      "metadata": {
        "id": "8Pg7N3XzB-l3",
        "outputId": "0a578198-cdc0-4853-c3bd-84ee9d81dd59",
        "colab": {
          "base_uri": "https://localhost:8080/"
        }
      },
      "outputs": [
        {
          "output_type": "stream",
          "name": "stdout",
          "text": [
            "Dataset Loaded\n"
          ]
        }
      ],
      "source": [
        "path=  '/content/drive/MyDrive'\n",
        "# Load English data\n",
        "english_sentences = load_data(path+'/small_vocab_en.txt')\n",
        "# Load French data\n",
        "french_sentences = load_data(path+'/small_vocab_fr.txt')\n",
        "\n",
        "print('Dataset Loaded')"
      ]
    },
    {
      "cell_type": "markdown",
      "metadata": {
        "id": "6OB-HcEnB-l4"
      },
      "source": [
        "### Files\n",
        "Each line in `small_vocab_en` contains an English sentence with the respective translation in each line of `small_vocab_fr`.  View the first two lines from each file."
      ]
    },
    {
      "cell_type": "code",
      "execution_count": null,
      "metadata": {
        "id": "f83ShEYrB-l4",
        "outputId": "2040934b-4752-48c0-bfc6-549b3050ef56",
        "colab": {
          "base_uri": "https://localhost:8080/"
        }
      },
      "outputs": [
        {
          "output_type": "stream",
          "name": "stdout",
          "text": [
            "English sample 1:  new jersey is sometimes quiet during autumn , and it is snowy in april .\n",
            "French sample 1:  new jersey est parfois calme pendant l' automne , et il est neigeux en avril .\n",
            "\n",
            "English sample 2:  the united states is usually chilly during july , and it is usually freezing in november .\n",
            "French sample 2:  les états-unis est généralement froid en juillet , et il gèle habituellement en novembre .\n",
            "\n",
            "English sample 3:  california is usually quiet during march , and it is usually hot in june .\n",
            "French sample 3:  california est généralement calme en mars , et il est généralement chaud en juin .\n",
            "\n",
            "English sample 4:  the united states is sometimes mild during june , and it is cold in september .\n",
            "French sample 4:  les états-unis est parfois légère en juin , et il fait froid en septembre .\n",
            "\n",
            "English sample 5:  your least liked fruit is the grape , but my least liked is the apple .\n",
            "French sample 5:  votre moins aimé fruit est le raisin , mais mon moins aimé est la pomme .\n",
            "\n"
          ]
        }
      ],
      "source": [
        "# let's print the first five sentences of each file\n",
        "\n",
        "for sample_i in range(5):\n",
        "    print('English sample {}:  {}'.format(sample_i + 1, english_sentences[sample_i]))\n",
        "    print('French sample {}:  {}\\n'.format(sample_i + 1, french_sentences[sample_i]))"
      ]
    },
    {
      "cell_type": "markdown",
      "metadata": {
        "id": "hcoQwn0nB-l5"
      },
      "source": [
        "From looking at the sentences, you can see they have been preprocessed already.  The puncuations have been delimited using spaces. All the text have been converted to lowercase.  This should save you some time, but the text requires more preprocessing.\n",
        "### Vocabulary\n",
        "The complexity of the problem is determined by the complexity of the vocabulary.  A more complex vocabulary is a more complex problem.  Let's look at the complexity of the dataset we'll be working with."
      ]
    },
    {
      "cell_type": "code",
      "execution_count": null,
      "metadata": {
        "id": "U_BZ1ephB-l6",
        "outputId": "c433335e-6c3d-4a8b-d549-9ed10dbd1065",
        "colab": {
          "base_uri": "https://localhost:8080/"
        }
      },
      "outputs": [
        {
          "output_type": "stream",
          "name": "stdout",
          "text": [
            "1823250 English words.\n",
            "227 unique English words.\n",
            "10 Most common words in the English dataset:\n",
            "\"is\" \",\" \".\" \"in\" \"it\" \"during\" \"the\" \"but\" \"and\" \"sometimes\"\n",
            "\n",
            "1961295 French words.\n",
            "355 unique French words.\n",
            "10 Most common words in the French dataset:\n",
            "\"est\" \".\" \",\" \"en\" \"il\" \"les\" \"mais\" \"et\" \"la\" \"parfois\"\n"
          ]
        }
      ],
      "source": [
        "english_words_counter = collections.Counter([word for sentence in english_sentences for word in sentence.split()])\n",
        "french_words_counter = collections.Counter([word for sentence in french_sentences for word in sentence.split()])\n",
        "\n",
        "print('{} English words.'.format(len([word for sentence in english_sentences for word in sentence.split()])))\n",
        "print('{} unique English words.'.format(len(english_words_counter)))\n",
        "print('10 Most common words in the English dataset:')\n",
        "print('\"' + '\" \"'.join(list(zip(*english_words_counter.most_common(10)))[0]) + '\"')\n",
        "print()\n",
        "print('{} French words.'.format(len([word for sentence in french_sentences for word in sentence.split()])))\n",
        "print('{} unique French words.'.format(len(french_words_counter)))\n",
        "print('10 Most common words in the French dataset:')\n",
        "print('\"' + '\" \"'.join(list(zip(*french_words_counter.most_common(10)))[0]) + '\"')"
      ]
    },
    {
      "cell_type": "markdown",
      "metadata": {
        "id": "dxRI8_8tB-l6"
      },
      "source": [
        "For comparison, _Alice's Adventures in Wonderland_ contains 2,766 unique words of a total of 15,500 words.\n",
        "## Preprocess\n",
        "For neural networks, we won't use text data as input to your model. Instead, you'll convert the text into sequences of integers using the following preprocess methods:\n",
        "1. Tokenize the words into ids\n",
        "2. Add padding to make all the sequences the same length.\n",
        "\n",
        "Time to start preprocessing the data...\n",
        "### Tokenize\n",
        "For a neural network to predict on text data, it first has to be turned into data it can understand. Text data like \"dog\" is a sequence of ASCII character encodings.  Since a neural network is a series of multiplication and addition operations, the input data needs to be number(s).\n",
        "\n",
        "We can turn each character into a number or **each word into a number**.  These are called character and word ids, respectively.  Character ids are used for **character level models** that generate text predictions for each character.  **A word level model** uses word ids that generate text predictions for each word.  Word level models tend to learn better, since they are lower in complexity, so we'll use those.\n",
        "\n",
        "Turn each sentence into a sequence of words ids using Keras's [`Tokenizer`](https://keras.io/preprocessing/text/#tokenizer) function. Use this function to tokenize `english_sentences` and `french_sentences` in the cell below.\n",
        "\n",
        "Running the cell will run `tokenize` on sample data and show output for debugging."
      ]
    },
    {
      "cell_type": "code",
      "execution_count": null,
      "metadata": {
        "id": "6f--YdbCB-l7",
        "outputId": "aeccde50-8260-441a-e950-d8cac5baa7b3",
        "colab": {
          "base_uri": "https://localhost:8080/"
        }
      },
      "outputs": [
        {
          "output_type": "stream",
          "name": "stdout",
          "text": [
            "{'the': 1, 'quick': 2, 'a': 3, 'brown': 4, 'fox': 5, 'jumps': 6, 'over': 7, 'lazy': 8, 'dog': 9, 'by': 10, 'jove': 11, 'my': 12, 'study': 13, 'of': 14, 'lexicography': 15, 'won': 16, 'prize': 17, 'this': 18, 'is': 19, 'short': 20, 'sentence': 21}\n",
            "\n",
            "Sequence 1 in x\n",
            "  Input:  The quick brown fox jumps over the lazy dog .\n",
            "  Output: [1, 2, 4, 5, 6, 7, 1, 8, 9]\n",
            "Sequence 2 in x\n",
            "  Input:  By Jove , my quick study of lexicography won a prize .\n",
            "  Output: [10, 11, 12, 2, 13, 14, 15, 16, 3, 17]\n",
            "Sequence 3 in x\n",
            "  Input:  This is a short sentence .\n",
            "  Output: [18, 19, 3, 20, 21]\n"
          ]
        }
      ],
      "source": [
        "def tokenize(x):\n",
        "    \"\"\"\n",
        "    Tokenize x\n",
        "    :param x: List of sentences/strings to be tokenized\n",
        "    :return: Tuple of (tokenized x data, tokenizer used to tokenize x)\n",
        "    \"\"\"\n",
        "    # TODO: Implement\n",
        "    tokenizer = Tokenizer()\n",
        "    tokenizer.fit_on_texts(x)\n",
        "    return tokenizer.texts_to_sequences(x), tokenizer\n",
        "\n",
        "#test_tokenize(tokenize)\n",
        "\n",
        "# Tokenize Example output\n",
        "text_sentences = [\n",
        "    'The quick brown fox jumps over the lazy dog .',\n",
        "    'By Jove , my quick study of lexicography won a prize .',\n",
        "    'This is a short sentence .']\n",
        "text_tokenized, text_tokenizer = tokenize(text_sentences)\n",
        "print(text_tokenizer.word_index)\n",
        "print()\n",
        "for sample_i, (sent, token_sent) in enumerate(zip(text_sentences, text_tokenized)):\n",
        "    print('Sequence {} in x'.format(sample_i + 1))\n",
        "    print('  Input:  {}'.format(sent))\n",
        "    print('  Output: {}'.format(token_sent))"
      ]
    },
    {
      "cell_type": "markdown",
      "metadata": {
        "id": "1lp4gWCyB-l7"
      },
      "source": [
        "### Padding \n",
        "When batching the sequence of word ids together, each sequence needs to be the same length.  Since sentences are dynamic in length, we can add padding to the end of the sequences to make them the same length.\n",
        "\n",
        "Make sure all the English sequences have the same length and all the French sequences have the same length by adding padding to the **end** of each sequence using Keras's [`pad_sequences`](https://keras.io/preprocessing/sequence/#pad_sequences) function."
      ]
    },
    {
      "cell_type": "code",
      "execution_count": null,
      "metadata": {
        "id": "NDfJeCXBB-l8",
        "outputId": "d001777e-504d-4750-ff12-5b77f424831e",
        "colab": {
          "base_uri": "https://localhost:8080/"
        }
      },
      "outputs": [
        {
          "output_type": "stream",
          "name": "stdout",
          "text": [
            "Sequence 1 in x\n",
            "  Input:  [1 2 4 5 6 7 1 8 9]\n",
            "  Output: [1 2 4 5 6 7 1 8 9 0]\n",
            "Sequence 2 in x\n",
            "  Input:  [10 11 12  2 13 14 15 16  3 17]\n",
            "  Output: [10 11 12  2 13 14 15 16  3 17]\n",
            "Sequence 3 in x\n",
            "  Input:  [18 19  3 20 21]\n",
            "  Output: [18 19  3 20 21  0  0  0  0  0]\n"
          ]
        }
      ],
      "source": [
        "def pad(x, length=None):\n",
        "    \"\"\"\n",
        "    Pad x\n",
        "    :param x: List of sequences.\n",
        "    :param length: Length to pad the sequence to.  If None, use length of longest sequence in x.\n",
        "    :return: Padded numpy array of sequences\n",
        "    \"\"\"\n",
        "    return pad_sequences(x, maxlen=length, padding='post')\n",
        "\n",
        "#test_pad(pad)\n",
        "\n",
        "# Pad Tokenized output\n",
        "test_pad = pad(text_tokenized)\n",
        "for sample_i, (token_sent, pad_sent) in enumerate(zip(text_tokenized, test_pad)):\n",
        "    print('Sequence {} in x'.format(sample_i + 1))\n",
        "    print('  Input:  {}'.format(np.array(token_sent)))\n",
        "    print('  Output: {}'.format(pad_sent))"
      ]
    },
    {
      "cell_type": "markdown",
      "metadata": {
        "id": "rDivSub_B-l8"
      },
      "source": [
        "### Preprocess Pipeline\n",
        "Your focus for this project is to build neural network architecture, so we won't ask you to create a preprocess pipeline.  Instead, we've provided you with the implementation of the `preprocess` function."
      ]
    },
    {
      "cell_type": "code",
      "execution_count": null,
      "metadata": {
        "id": "VGY-NFf-B-l8",
        "outputId": "9cb13abf-0a7c-4903-f46f-d50643eaeccd",
        "colab": {
          "base_uri": "https://localhost:8080/"
        }
      },
      "outputs": [
        {
          "output_type": "stream",
          "name": "stdout",
          "text": [
            "shape before:  (137861, 21)\n",
            "shape after:  (137861, 21, 1)\n",
            "Data Preprocessed\n",
            "Max English sentence length: 15\n",
            "Max French sentence length: 21\n",
            "English vocabulary size: 199\n",
            "French vocabulary size: 344\n"
          ]
        }
      ],
      "source": [
        "def preprocess(x, y):\n",
        "    \"\"\"\n",
        "    Preprocess x and y\n",
        "    :param x: Feature List of sentences\n",
        "    :param y: Label List of sentences\n",
        "    :return: Tuple of (Preprocessed x, Preprocessed y, x tokenizer, y tokenizer)\n",
        "    \"\"\"\n",
        "    preprocess_x, x_tk = tokenize(x)\n",
        "    preprocess_y, y_tk = tokenize(y)\n",
        "\n",
        "    preprocess_x = pad(preprocess_x)\n",
        "    preprocess_y = pad(preprocess_y)\n",
        "    \n",
        "    print(\"shape before: \",preprocess_y.shape)\n",
        "\n",
        "    # Keras's sparse_categorical_crossentropy function requires the labels to be in 3 dimensions\n",
        "    preprocess_y = preprocess_y.reshape(*preprocess_y.shape, 1)\n",
        "    print(\"shape after: \",preprocess_y.shape)\n",
        "    return preprocess_x, preprocess_y, x_tk, y_tk\n",
        "\n",
        "preproc_english_sentences, preproc_french_sentences, english_tokenizer, french_tokenizer =\\\n",
        "    preprocess(english_sentences, french_sentences)\n",
        "    \n",
        "max_english_sequence_length = preproc_english_sentences.shape[1]\n",
        "max_french_sequence_length = preproc_french_sentences.shape[1]\n",
        "english_vocab_size = len(english_tokenizer.word_index)\n",
        "french_vocab_size = len(french_tokenizer.word_index)\n",
        "\n",
        "print('Data Preprocessed')\n",
        "print(\"Max English sentence length:\", max_english_sequence_length)\n",
        "print(\"Max French sentence length:\", max_french_sequence_length)\n",
        "print(\"English vocabulary size:\", english_vocab_size)\n",
        "print(\"French vocabulary size:\", french_vocab_size)\n",
        "\n",
        "\n"
      ]
    },
    {
      "cell_type": "code",
      "source": [
        "english_sentences[:1][0]"
      ],
      "metadata": {
        "colab": {
          "base_uri": "https://localhost:8080/",
          "height": 35
        },
        "id": "mk8NLCmqNalM",
        "outputId": "58a80cbd-b3c9-4562-9283-8580bae521c0"
      },
      "execution_count": null,
      "outputs": [
        {
          "output_type": "execute_result",
          "data": {
            "text/plain": [
              "'new jersey is sometimes quiet during autumn , and it is snowy in april .'"
            ],
            "application/vnd.google.colaboratory.intrinsic+json": {
              "type": "string"
            }
          },
          "metadata": {},
          "execution_count": 15
        }
      ]
    },
    {
      "cell_type": "markdown",
      "metadata": {
        "id": "_sMlwl7BB-l9"
      },
      "source": [
        "## Models\n",
        "In this section, you will experiment with various neural network architectures.\n",
        "You will begin by training four relatively simple architectures.\n",
        "- Model 1 is a simple RNN\n",
        "- Model 2 is a RNN with Embedding\n",
        "- Model 3 is a Bidirectional RNN\n",
        "- Model 4 is an optional Encoder-Decoder RNN\n",
        "\n",
        "After experimenting with the four simple architectures, you will construct a deeper architecture that is designed to outperform all four models.\n",
        "### Ids Back to Text\n",
        "The neural network will be translating the input to words ids, which isn't the final form we want. Our output is the French translation.  The function `logits_to_text` will bridge the gab between the logits from the neural network to the French translation.  You'll be using this function to better understand the output of the neural network."
      ]
    },
    {
      "cell_type": "code",
      "execution_count": null,
      "metadata": {
        "id": "y1Mc4KAoB-l9",
        "outputId": "0728272d-0c34-46b7-b59c-b2a6a5f8fda3",
        "colab": {
          "base_uri": "https://localhost:8080/"
        }
      },
      "outputs": [
        {
          "output_type": "stream",
          "name": "stdout",
          "text": [
            "`logits_to_text` function loaded.\n"
          ]
        }
      ],
      "source": [
        "def logits_to_text(logits, tokenizer):\n",
        "    \"\"\"\n",
        "    Turn logits from a neural network into text using the tokenizer\n",
        "    :param logits: Logits from a neural network\n",
        "    :param tokenizer: Keras Tokenizer fit on the labels\n",
        "    :return: String that represents the text of the logits\n",
        "    \"\"\"\n",
        "    index_to_words = {id: word for word, id in tokenizer.word_index.items()}\n",
        "    index_to_words[0] = '<PAD>'\n",
        "\n",
        "    return ' '.join([index_to_words[prediction] for prediction in np.argmax(logits, 1)])\n",
        "\n",
        "\n",
        "\n",
        "print('`logits_to_text` function loaded.')\n",
        "\n",
        "#tt = [[8, 17, 0, 7, 8,6,7,0,9,10,11,12,7,0,15,16,0,0,0,0,0 ]]\n",
        "#logits_to_text(tt,english_tokenizer)"
      ]
    },
    {
      "cell_type": "markdown",
      "metadata": {
        "id": "j7p0r2c1B-l9"
      },
      "source": [
        "### Model 1: RNN (IMPLEMENTATION)\n",
        "![RNN](https://github.com/tommytracey/AIND-Capstone/blob/master/images/rnn.png?raw=1)\n",
        "A basic RNN model is a good baseline for sequence data.  In this model, you'll build a RNN that translates English to French."
      ]
    },
    {
      "cell_type": "code",
      "execution_count": null,
      "metadata": {
        "id": "tfJ_eKL-B-l-",
        "outputId": "d371ceca-04ce-44f1-9a29-3b9c5f6cb439",
        "colab": {
          "base_uri": "https://localhost:8080/"
        }
      },
      "outputs": [
        {
          "output_type": "stream",
          "name": "stdout",
          "text": [
            "input shape:  (137861, 21, 1)\n",
            "Model: \"sequential_4\"\n",
            "_________________________________________________________________\n",
            " Layer (type)                Output Shape              Param #   \n",
            "=================================================================\n",
            " lstm_2 (LSTM)               (None, 21, 256)           264192    \n",
            "                                                                 \n",
            " time_distributed_8 (TimeDis  (None, 21, 1024)         263168    \n",
            " tributed)                                                       \n",
            "                                                                 \n",
            " dropout_4 (Dropout)         (None, 21, 1024)          0         \n",
            "                                                                 \n",
            " time_distributed_9 (TimeDis  (None, 21, 344)          352600    \n",
            " tributed)                                                       \n",
            "                                                                 \n",
            "=================================================================\n",
            "Total params: 879,960\n",
            "Trainable params: 879,960\n",
            "Non-trainable params: 0\n",
            "_________________________________________________________________\n",
            "None\n"
          ]
        }
      ],
      "source": [
        "def simple_model(input_shape, output_sequence_length, english_vocab_size, french_vocab_size):\n",
        "    \"\"\"\n",
        "    Build and train a basic RNN on x and y\n",
        "    :param input_shape: Tuple of input shape\n",
        "    :param output_sequence_length: Length of output sequence\n",
        "    :param english_vocab_size: Number of unique English words in the dataset\n",
        "    :param french_vocab_size: Number of unique French words in the dataset\n",
        "    :return: Keras model built, but not trained\n",
        "    \"\"\"\n",
        "    # Hyperparameters\n",
        "    learning_rate = 0.003\n",
        "    \n",
        "    # TODO: Build the layers\n",
        "    model = Sequential()\n",
        "    model.add(LSTM(256, input_shape=input_shape[1:], return_sequences=True))\n",
        "    model.add(TimeDistributed(Dense(1024, activation='relu')))\n",
        "    model.add(Dropout(0.5))\n",
        "    model.add(TimeDistributed(Dense(french_vocab_size, activation='softmax'))) \n",
        "\n",
        "    # Compile model\n",
        "    model.compile(loss=sparse_categorical_crossentropy,\n",
        "                  optimizer=Adam(learning_rate),\n",
        "                  metrics=['accuracy'])\n",
        "    return model\n",
        "\n",
        "#test_simple_model(simple_model)\n",
        "\n",
        "# Reshaping the input to work with a basic RNN\n",
        "tmp_x = pad(preproc_english_sentences, max_french_sequence_length)\n",
        "tmp_x = tmp_x.reshape((-1, preproc_french_sentences.shape[-2], 1))\n",
        "\n",
        "print(\"input shape: \",tmp_x.shape)\n",
        "\n",
        "\n",
        "# Train the neural network\n",
        "simple_rnn_model = simple_model(\n",
        "    tmp_x.shape,\n",
        "    max_french_sequence_length,\n",
        "    english_vocab_size,\n",
        "    french_vocab_size)\n",
        "\n",
        "print(simple_rnn_model.summary())\n"
      ]
    },
    {
      "cell_type": "code",
      "source": [
        "tmp_x[:1][0]"
      ],
      "metadata": {
        "id": "Pl0L9JkhHmDU",
        "colab": {
          "base_uri": "https://localhost:8080/"
        },
        "outputId": "73f9c53d-9623-4c3b-cf12-cba793569b0d"
      },
      "execution_count": null,
      "outputs": [
        {
          "output_type": "execute_result",
          "data": {
            "text/plain": [
              "array([[17],\n",
              "       [23],\n",
              "       [ 1],\n",
              "       [ 8],\n",
              "       [67],\n",
              "       [ 4],\n",
              "       [39],\n",
              "       [ 7],\n",
              "       [ 3],\n",
              "       [ 1],\n",
              "       [55],\n",
              "       [ 2],\n",
              "       [44],\n",
              "       [ 0],\n",
              "       [ 0],\n",
              "       [ 0],\n",
              "       [ 0],\n",
              "       [ 0],\n",
              "       [ 0],\n",
              "       [ 0],\n",
              "       [ 0]], dtype=int32)"
            ]
          },
          "metadata": {},
          "execution_count": 18
        }
      ]
    },
    {
      "cell_type": "code",
      "source": [
        "#training\n",
        "simple_rnn_model.fit(tmp_x, preproc_french_sentences, batch_size=1024, epochs=15, validation_split=0.2)\n",
        "\n",
        "# Print prediction(s)\n",
        "print(logits_to_text(simple_rnn_model.predict(tmp_x[:1])[0], french_tokenizer))"
      ],
      "metadata": {
        "colab": {
          "base_uri": "https://localhost:8080/"
        },
        "id": "fs__OK7s_k_G",
        "outputId": "01e9ca2f-31ed-44fa-99e1-01214ca3cf85"
      },
      "execution_count": null,
      "outputs": [
        {
          "output_type": "stream",
          "name": "stdout",
          "text": [
            "Epoch 1/15\n",
            "108/108 [==============================] - 12s 57ms/step - loss: 1.9862 - accuracy: 0.5333 - val_loss: nan - val_accuracy: 0.6257\n",
            "Epoch 2/15\n",
            "108/108 [==============================] - 6s 53ms/step - loss: 1.2468 - accuracy: 0.6373 - val_loss: nan - val_accuracy: 0.6644\n",
            "Epoch 3/15\n",
            "108/108 [==============================] - 6s 55ms/step - loss: 1.0978 - accuracy: 0.6666 - val_loss: nan - val_accuracy: 0.6887\n",
            "Epoch 4/15\n",
            "108/108 [==============================] - 6s 54ms/step - loss: 1.0100 - accuracy: 0.6825 - val_loss: nan - val_accuracy: 0.7024\n",
            "Epoch 5/15\n",
            "108/108 [==============================] - 6s 55ms/step - loss: 0.9494 - accuracy: 0.6933 - val_loss: nan - val_accuracy: 0.7137\n",
            "Epoch 6/15\n",
            "108/108 [==============================] - 6s 54ms/step - loss: 0.9073 - accuracy: 0.7007 - val_loss: nan - val_accuracy: 0.7102\n",
            "Epoch 7/15\n",
            "108/108 [==============================] - 6s 55ms/step - loss: 0.8760 - accuracy: 0.7074 - val_loss: nan - val_accuracy: 0.7272\n",
            "Epoch 8/15\n",
            "108/108 [==============================] - 6s 55ms/step - loss: 0.8446 - accuracy: 0.7145 - val_loss: nan - val_accuracy: 0.7310\n",
            "Epoch 9/15\n",
            "108/108 [==============================] - 6s 55ms/step - loss: 0.8231 - accuracy: 0.7201 - val_loss: nan - val_accuracy: 0.7349\n",
            "Epoch 10/15\n",
            "108/108 [==============================] - 6s 55ms/step - loss: 0.8019 - accuracy: 0.7256 - val_loss: nan - val_accuracy: 0.7616\n",
            "Epoch 11/15\n",
            "108/108 [==============================] - 6s 55ms/step - loss: 0.7553 - accuracy: 0.7422 - val_loss: nan - val_accuracy: 0.7558\n",
            "Epoch 12/15\n",
            "108/108 [==============================] - 6s 55ms/step - loss: 0.7619 - accuracy: 0.7400 - val_loss: nan - val_accuracy: 0.7515\n",
            "Epoch 13/15\n",
            "108/108 [==============================] - 6s 56ms/step - loss: 0.7310 - accuracy: 0.7514 - val_loss: nan - val_accuracy: 0.7285\n",
            "Epoch 14/15\n",
            "108/108 [==============================] - 6s 55ms/step - loss: 0.6984 - accuracy: 0.7641 - val_loss: nan - val_accuracy: 0.7783\n",
            "Epoch 15/15\n",
            "108/108 [==============================] - 6s 56ms/step - loss: 0.6787 - accuracy: 0.7710 - val_loss: nan - val_accuracy: 0.7794\n",
            "new jersey est parfois chaud en mois de il est neigeux est en <PAD> <PAD> <PAD> <PAD> <PAD> <PAD> <PAD> <PAD>\n"
          ]
        }
      ]
    },
    {
      "cell_type": "code",
      "source": [
        "p=simple_rnn_model.predict(tmp_x[:2])[0]\n",
        "t = tmp_x[1,:]\n",
        "print(p.shape)\n",
        "print(t.shape)\n",
        "print(logits_to_text(p, french_tokenizer))"
      ],
      "metadata": {
        "colab": {
          "base_uri": "https://localhost:8080/"
        },
        "id": "Nf05A0pwIHto",
        "outputId": "5cb77762-4071-480a-8665-5157f64b6c6f"
      },
      "execution_count": null,
      "outputs": [
        {
          "output_type": "stream",
          "name": "stdout",
          "text": [
            "(21, 344)\n",
            "(21, 1)\n",
            "new jersey est parfois chaud en mois de il est neigeux est en <PAD> <PAD> <PAD> <PAD> <PAD> <PAD> <PAD> <PAD>\n"
          ]
        }
      ]
    },
    {
      "cell_type": "code",
      "execution_count": null,
      "metadata": {
        "id": "ggBRjEZrB-l-",
        "outputId": "c5d75452-51ab-4568-b502-49e07f855d59",
        "colab": {
          "base_uri": "https://localhost:8080/"
        }
      },
      "outputs": [
        {
          "output_type": "stream",
          "name": "stdout",
          "text": [
            "Prediction:\n",
            "new jersey est parfois chaud en mois de il est neigeux est en <PAD> <PAD> <PAD> <PAD> <PAD> <PAD> <PAD> <PAD>\n",
            "\n",
            "Correct Translation:\n",
            "[\"new jersey est parfois calme pendant l' automne , et il est neigeux en avril .\"]\n",
            "\n",
            "Original text:\n",
            "['new jersey is sometimes quiet during autumn , and it is snowy in april .']\n"
          ]
        }
      ],
      "source": [
        "# Print prediction(s)\n",
        "print(\"Prediction:\")\n",
        "print(logits_to_text(simple_rnn_model.predict(tmp_x[:1])[0], french_tokenizer))\n",
        "\n",
        "print(\"\\nCorrect Translation:\")\n",
        "print(french_sentences[:1])\n",
        "\n",
        "print(\"\\nOriginal text:\")\n",
        "print(english_sentences[:1])"
      ]
    },
    {
      "cell_type": "markdown",
      "metadata": {
        "id": "qkkfeq4FB-l-"
      },
      "source": [
        "### Model 2: Embedding (IMPLEMENTATION)\n",
        "![RNN](https://github.com/tommytracey/AIND-Capstone/blob/master/images/embedding.png?raw=1)\n",
        "You've turned the words into ids, but there's a better representation of a word.  This is called word embeddings.  An embedding is a vector representation of the word that is close to similar words in n-dimensional space, where the n represents the size of the embedding vectors.\n",
        "\n",
        "In this model, you'll create a RNN model using embedding."
      ]
    },
    {
      "cell_type": "code",
      "execution_count": null,
      "metadata": {
        "id": "uEbYEipJB-l_",
        "outputId": "3947566b-ca57-415c-b758-9330b94d540b",
        "colab": {
          "base_uri": "https://localhost:8080/"
        }
      },
      "outputs": [
        {
          "output_type": "stream",
          "name": "stdout",
          "text": [
            "(137861, 21)\n",
            "Model: \"sequential_1\"\n",
            "_________________________________________________________________\n",
            " Layer (type)                Output Shape              Param #   \n",
            "=================================================================\n",
            " embedding (Embedding)       (None, 21, 256)           51200     \n",
            "                                                                 \n",
            " lstm_1 (LSTM)               (None, 21, 256)           525312    \n",
            "                                                                 \n",
            " time_distributed_2 (TimeDis  (None, 21, 1024)         263168    \n",
            " tributed)                                                       \n",
            "                                                                 \n",
            " dropout_1 (Dropout)         (None, 21, 1024)          0         \n",
            "                                                                 \n",
            " time_distributed_3 (TimeDis  (None, 21, 345)          353625    \n",
            " tributed)                                                       \n",
            "                                                                 \n",
            "=================================================================\n",
            "Total params: 1,193,305\n",
            "Trainable params: 1,193,305\n",
            "Non-trainable params: 0\n",
            "_________________________________________________________________\n"
          ]
        }
      ],
      "source": [
        "def embed_model(input_shape, output_sequence_length, english_vocab_size, french_vocab_size):\n",
        "    \"\"\"\n",
        "    Build and train a RNN model using word embedding on x and y\n",
        "    :param input_shape: Tuple of input shape\n",
        "    :param output_sequence_length: Length of output sequence\n",
        "    :param english_vocab_size: Number of unique English words in the dataset\n",
        "    :param french_vocab_size: Number of unique French words in the dataset\n",
        "    :return: Keras model built, but not trained\n",
        "    \"\"\"\n",
        "    # TODO: Implement\n",
        "\n",
        "    # Hyperparameters\n",
        "    learning_rate = 0.005\n",
        "    \n",
        "    # TODO: Build the layers\n",
        "    model = Sequential()\n",
        "    model.add(Embedding(english_vocab_size, 256, input_length=input_shape[1], input_shape=input_shape[1:]))\n",
        "    model.add(LSTM(256, return_sequences=True))    \n",
        "    model.add(TimeDistributed(Dense(1024, activation='relu')))\n",
        "    model.add(Dropout(0.5))\n",
        "    model.add(TimeDistributed(Dense(french_vocab_size, activation='softmax'))) \n",
        "\n",
        "    # Compile model\n",
        "    model.compile(loss=sparse_categorical_crossentropy,\n",
        "                  optimizer=Adam(learning_rate),\n",
        "                  metrics=['accuracy'])\n",
        "    return model\n",
        "\n",
        "#test_embed_model(embed_model)\n",
        "\n",
        "# Reshape the input\n",
        "tmp_x = pad(preproc_english_sentences, preproc_french_sentences.shape[1])\n",
        "tmp_x = tmp_x.reshape((-1, preproc_french_sentences.shape[-2]))\n",
        "print(tmp_x.shape)\n",
        "# Train the neural network\n",
        "embed_rnn_model = embed_model(\n",
        "    tmp_x.shape,\n",
        "    preproc_french_sentences.shape[1],\n",
        "    len(english_tokenizer.word_index)+1,\n",
        "    len(french_tokenizer.word_index)+1)\n",
        "\n",
        "embed_rnn_model.summary()\n",
        "\n"
      ]
    },
    {
      "cell_type": "code",
      "source": [
        "embed_rnn_model.fit(tmp_x, preproc_french_sentences, batch_size=1024, epochs=10, validation_split=0.2)\n",
        "\n",
        "# Print prediction(s)\n",
        "print(logits_to_text(embed_rnn_model.predict(tmp_x[:1])[0], french_tokenizer))"
      ],
      "metadata": {
        "id": "Vsm02uOal32v",
        "colab": {
          "base_uri": "https://localhost:8080/"
        },
        "outputId": "02f590b1-d952-426b-a719-44d90338fb3b"
      },
      "execution_count": null,
      "outputs": [
        {
          "output_type": "stream",
          "name": "stdout",
          "text": [
            "Epoch 1/10\n",
            "108/108 [==============================] - 9s 69ms/step - loss: 1.5681 - accuracy: 0.6423 - val_loss: 0.5584 - val_accuracy: 0.8282\n",
            "Epoch 2/10\n",
            "108/108 [==============================] - 7s 66ms/step - loss: 0.4527 - accuracy: 0.8557 - val_loss: 0.3220 - val_accuracy: 0.8928\n",
            "Epoch 3/10\n",
            "108/108 [==============================] - 7s 66ms/step - loss: 0.3111 - accuracy: 0.8972 - val_loss: 0.2491 - val_accuracy: 0.9157\n",
            "Epoch 4/10\n",
            "108/108 [==============================] - 7s 67ms/step - loss: 0.2566 - accuracy: 0.9139 - val_loss: 0.2235 - val_accuracy: 0.9237\n",
            "Epoch 5/10\n",
            "108/108 [==============================] - 7s 66ms/step - loss: 0.2288 - accuracy: 0.9222 - val_loss: 0.2107 - val_accuracy: 0.9275\n",
            "Epoch 6/10\n",
            "108/108 [==============================] - 7s 66ms/step - loss: 0.2117 - accuracy: 0.9271 - val_loss: 0.1957 - val_accuracy: 0.9320\n",
            "Epoch 7/10\n",
            "108/108 [==============================] - 7s 66ms/step - loss: 0.1991 - accuracy: 0.9308 - val_loss: 0.1919 - val_accuracy: 0.9337\n",
            "Epoch 8/10\n",
            "108/108 [==============================] - 7s 66ms/step - loss: 0.1904 - accuracy: 0.9332 - val_loss: 0.1863 - val_accuracy: 0.9340\n",
            "Epoch 9/10\n",
            "108/108 [==============================] - 7s 67ms/step - loss: 0.1842 - accuracy: 0.9346 - val_loss: 0.1819 - val_accuracy: 0.9361\n",
            "Epoch 10/10\n",
            "108/108 [==============================] - 7s 65ms/step - loss: 0.1788 - accuracy: 0.9360 - val_loss: 0.1769 - val_accuracy: 0.9374\n",
            "new jersey est parfois calme en l' automne et il est neigeux en avril <PAD> <PAD> <PAD> <PAD> <PAD> <PAD> <PAD>\n"
          ]
        }
      ]
    },
    {
      "cell_type": "code",
      "execution_count": null,
      "metadata": {
        "id": "AacRZtc4B-l_",
        "outputId": "f4b053db-f0b9-44f2-c3f9-7e76cb76a21e",
        "colab": {
          "base_uri": "https://localhost:8080/"
        }
      },
      "outputs": [
        {
          "output_type": "stream",
          "name": "stdout",
          "text": [
            "Prediction:\n",
            "new jersey est parfois calme en l' automne et il est neigeux en avril <PAD> <PAD> <PAD> <PAD> <PAD> <PAD> <PAD>\n",
            "\n",
            "Correct Translation:\n",
            "[\"new jersey est parfois calme pendant l' automne , et il est neigeux en avril .\"]\n",
            "\n",
            "Original text:\n",
            "['new jersey is sometimes quiet during autumn , and it is snowy in april .']\n"
          ]
        }
      ],
      "source": [
        "# Print prediction(s)\n",
        "print(\"Prediction:\")\n",
        "print(logits_to_text(embed_rnn_model.predict(tmp_x[:1])[0], french_tokenizer))\n",
        "\n",
        "print(\"\\nCorrect Translation:\")\n",
        "print(french_sentences[:1])\n",
        "\n",
        "print(\"\\nOriginal text:\")\n",
        "print(english_sentences[:1])"
      ]
    },
    {
      "cell_type": "markdown",
      "metadata": {
        "id": "m_BmBUyKB-mB"
      },
      "source": [
        "### Model 5: Custom (IMPLEMENTATION)\n",
        "Use everything you learned from the previous models to create a model that incorporates embedding and a bidirectional rnn into one model."
      ]
    },
    {
      "cell_type": "code",
      "execution_count": null,
      "metadata": {
        "id": "DXpHWjELB-mB"
      },
      "outputs": [],
      "source": [
        "def model_final(input_shape, output_sequence_length, english_vocab_size, french_vocab_size):\n",
        "    \"\"\"\n",
        "    Build and train a model that incorporates embedding, encoder-decoder, and bidirectional RNN on x and y\n",
        "    :param input_shape: Tuple of input shape\n",
        "    :param output_sequence_length: Length of output sequence\n",
        "    :param english_vocab_size: Number of unique English words in the dataset\n",
        "    :param french_vocab_size: Number of unique French words in the dataset\n",
        "    :return: Keras model built, but not trained\n",
        "    \"\"\"\n",
        "    # TODO: Implement\n",
        "\n",
        "    # Hyperparameters\n",
        "    learning_rate = 0.003\n",
        "    \n",
        "    # Build the layers    \n",
        "    model = Sequential()\n",
        "    # Embedding\n",
        "    model.add(Embedding(english_vocab_size, 128, input_length=input_shape[1],\n",
        "                         input_shape=input_shape[1:]))\n",
        "    # Encoder\n",
        "    model.add(Bidirectional(GRU(128)))\n",
        "    model.add(RepeatVector(output_sequence_length))\n",
        "    # Decoder\n",
        "    model.add(Bidirectional(GRU(128, return_sequences=True)))\n",
        "    model.add(TimeDistributed(Dense(512, activation='relu')))\n",
        "    model.add(Dropout(0.5))\n",
        "    model.add(TimeDistributed(Dense(french_vocab_size, activation='softmax')))\n",
        "    model.compile(loss=sparse_categorical_crossentropy,\n",
        "                  optimizer=Adam(learning_rate),\n",
        "                  metrics=['accuracy'])\n",
        "    return model\n",
        "\n",
        "test_model_final(model_final)\n",
        "\n",
        "print('Final Model Loaded')"
      ]
    },
    {
      "cell_type": "markdown",
      "metadata": {
        "id": "2RXsPupRB-mB"
      },
      "source": [
        "## Prediction (IMPLEMENTATION)"
      ]
    },
    {
      "cell_type": "code",
      "execution_count": null,
      "metadata": {
        "id": "KK31GQ7nB-mB",
        "outputId": "64ee2a6d-0120-4f8d-8572-3ed0680f86ea",
        "colab": {
          "base_uri": "https://localhost:8080/"
        }
      },
      "outputs": [
        {
          "output_type": "stream",
          "name": "stdout",
          "text": [
            "Model: \"sequential_3\"\n",
            "_________________________________________________________________\n",
            " Layer (type)                Output Shape              Param #   \n",
            "=================================================================\n",
            " embedding_2 (Embedding)     (None, 15, 128)           25600     \n",
            "                                                                 \n",
            " bidirectional_2 (Bidirectio  (None, 256)              198144    \n",
            " nal)                                                            \n",
            "                                                                 \n",
            " repeat_vector_1 (RepeatVect  (None, 21, 256)          0         \n",
            " or)                                                             \n",
            "                                                                 \n",
            " bidirectional_3 (Bidirectio  (None, 21, 256)          296448    \n",
            " nal)                                                            \n",
            "                                                                 \n",
            " time_distributed_6 (TimeDis  (None, 21, 512)          131584    \n",
            " tributed)                                                       \n",
            "                                                                 \n",
            " dropout_3 (Dropout)         (None, 21, 512)           0         \n",
            "                                                                 \n",
            " time_distributed_7 (TimeDis  (None, 21, 345)          176985    \n",
            " tributed)                                                       \n",
            "                                                                 \n",
            "=================================================================\n",
            "Total params: 828,761\n",
            "Trainable params: 828,761\n",
            "Non-trainable params: 0\n",
            "_________________________________________________________________\n",
            "Epoch 1/25\n",
            "108/108 [==============================] - 12s 65ms/step - loss: 2.4995 - accuracy: 0.4767 - val_loss: 1.6110 - val_accuracy: 0.5852\n",
            "Epoch 2/25\n",
            "108/108 [==============================] - 6s 55ms/step - loss: 1.4558 - accuracy: 0.6156 - val_loss: 1.1900 - val_accuracy: 0.6685\n",
            "Epoch 3/25\n",
            "108/108 [==============================] - 6s 56ms/step - loss: 1.1560 - accuracy: 0.6759 - val_loss: 0.9983 - val_accuracy: 0.7072\n",
            "Epoch 4/25\n",
            "108/108 [==============================] - 6s 56ms/step - loss: 1.0116 - accuracy: 0.7078 - val_loss: 0.9619 - val_accuracy: 0.7192\n",
            "Epoch 5/25\n",
            "108/108 [==============================] - 6s 56ms/step - loss: 0.8664 - accuracy: 0.7396 - val_loss: 0.7044 - val_accuracy: 0.7819\n",
            "Epoch 6/25\n",
            "108/108 [==============================] - 6s 57ms/step - loss: 0.7431 - accuracy: 0.7693 - val_loss: 0.6022 - val_accuracy: 0.8085\n",
            "Epoch 7/25\n",
            "108/108 [==============================] - 6s 57ms/step - loss: 0.6150 - accuracy: 0.8043 - val_loss: 0.4989 - val_accuracy: 0.8428\n",
            "Epoch 8/25\n",
            "108/108 [==============================] - 6s 56ms/step - loss: 0.6256 - accuracy: 0.8036 - val_loss: 0.4782 - val_accuracy: 0.8502\n",
            "Epoch 9/25\n",
            "108/108 [==============================] - 6s 56ms/step - loss: 0.4724 - accuracy: 0.8487 - val_loss: 0.3457 - val_accuracy: 0.8948\n",
            "Epoch 10/25\n",
            "108/108 [==============================] - 6s 56ms/step - loss: 0.3841 - accuracy: 0.8779 - val_loss: 0.2921 - val_accuracy: 0.9108\n",
            "Epoch 11/25\n",
            "108/108 [==============================] - 6s 56ms/step - loss: 0.3284 - accuracy: 0.8972 - val_loss: 0.2416 - val_accuracy: 0.9298\n",
            "Epoch 12/25\n",
            "108/108 [==============================] - 6s 55ms/step - loss: 0.2790 - accuracy: 0.9169 - val_loss: 0.1903 - val_accuracy: 0.9476\n",
            "Epoch 13/25\n",
            "108/108 [==============================] - 6s 55ms/step - loss: 0.4095 - accuracy: 0.8772 - val_loss: 0.2026 - val_accuracy: 0.9450\n",
            "Epoch 14/25\n",
            "108/108 [==============================] - 6s 55ms/step - loss: 0.2349 - accuracy: 0.9319 - val_loss: 0.1636 - val_accuracy: 0.9541\n",
            "Epoch 15/25\n",
            "108/108 [==============================] - 6s 55ms/step - loss: 0.2019 - accuracy: 0.9414 - val_loss: 0.1471 - val_accuracy: 0.9579\n",
            "Epoch 16/25\n",
            "108/108 [==============================] - 6s 55ms/step - loss: 0.1788 - accuracy: 0.9482 - val_loss: 0.1369 - val_accuracy: 0.9614\n",
            "Epoch 17/25\n",
            "108/108 [==============================] - 6s 55ms/step - loss: 0.1639 - accuracy: 0.9523 - val_loss: 0.1234 - val_accuracy: 0.9661\n",
            "Epoch 18/25\n",
            "108/108 [==============================] - 6s 55ms/step - loss: 0.1494 - accuracy: 0.9565 - val_loss: 0.1143 - val_accuracy: 0.9677\n",
            "Epoch 19/25\n",
            "108/108 [==============================] - 6s 55ms/step - loss: 0.1503 - accuracy: 0.9564 - val_loss: 0.1312 - val_accuracy: 0.9624\n",
            "Epoch 20/25\n",
            "108/108 [==============================] - 6s 56ms/step - loss: 0.1408 - accuracy: 0.9591 - val_loss: 0.1115 - val_accuracy: 0.9672\n",
            "Epoch 21/25\n",
            "108/108 [==============================] - 6s 55ms/step - loss: 0.1377 - accuracy: 0.9598 - val_loss: 0.1312 - val_accuracy: 0.9622\n",
            "Epoch 22/25\n",
            "108/108 [==============================] - 6s 55ms/step - loss: 0.1375 - accuracy: 0.9595 - val_loss: 0.1064 - val_accuracy: 0.9696\n",
            "Epoch 23/25\n",
            "108/108 [==============================] - 6s 56ms/step - loss: 0.1260 - accuracy: 0.9635 - val_loss: 0.1082 - val_accuracy: 0.9693\n",
            "Epoch 24/25\n",
            "108/108 [==============================] - 6s 55ms/step - loss: 0.1425 - accuracy: 0.9587 - val_loss: 0.0979 - val_accuracy: 0.9722\n",
            "Epoch 25/25\n",
            "108/108 [==============================] - 6s 56ms/step - loss: 0.1065 - accuracy: 0.9688 - val_loss: 0.0885 - val_accuracy: 0.9761\n",
            "Sample 1:\n",
            "il a vu un vieux camion jaune <PAD> <PAD> <PAD> <PAD> <PAD> <PAD> <PAD> <PAD> <PAD> <PAD> <PAD> <PAD> <PAD> <PAD>\n",
            "Il a vu un vieux camion jaune\n",
            "Sample 2:\n",
            "new jersey est parfois calme pendant l' automne et il est neigeux en avril <PAD> <PAD> <PAD> <PAD> <PAD> <PAD> <PAD>\n",
            "new jersey est parfois calme pendant l' automne et il est neigeux en avril <PAD> <PAD> <PAD> <PAD> <PAD> <PAD> <PAD>\n"
          ]
        }
      ],
      "source": [
        "def final_predictions(x, y, x_tk, y_tk):\n",
        "    \"\"\"\n",
        "    Gets predictions using the final model\n",
        "    :param x: Preprocessed English data\n",
        "    :param y: Preprocessed French data\n",
        "    :param x_tk: English tokenizer\n",
        "    :param y_tk: French tokenizer\n",
        "    \"\"\"\n",
        "    # TODO: Train neural network using model_final\n",
        "    model = model_final(x.shape,y.shape[1],\n",
        "                        len(x_tk.word_index)+1,\n",
        "                        len(y_tk.word_index)+1)\n",
        "    model.summary()\n",
        "    model.fit(x, y, batch_size=1024, epochs=25, validation_split=0.2)\n",
        "\n",
        "    \n",
        "    ## DON'T EDIT ANYTHING BELOW THIS LINE\n",
        "    y_id_to_word = {value: key for key, value in y_tk.word_index.items()}\n",
        "    y_id_to_word[0] = '<PAD>'\n",
        "\n",
        "    sentence = 'he saw a old yellow truck'\n",
        "    sentence = [x_tk.word_index[word] for word in sentence.split()]\n",
        "    sentence = pad_sequences([sentence], maxlen=x.shape[-1], padding='post')\n",
        "    sentences = np.array([sentence[0], x[0]])\n",
        "    predictions = model.predict(sentences, len(sentences))\n",
        "\n",
        "    print('Sample 1:')\n",
        "    print(' '.join([y_id_to_word[np.argmax(x)] for x in predictions[0]]))\n",
        "    print('Il a vu un vieux camion jaune')\n",
        "    print('Sample 2:')\n",
        "    print(' '.join([y_id_to_word[np.argmax(x)] for x in predictions[1]]))\n",
        "    print(' '.join([y_id_to_word[np.max(x)] for x in y[0]]))\n",
        "\n",
        "\n",
        "final_predictions(preproc_english_sentences, preproc_french_sentences, english_tokenizer, french_tokenizer)"
      ]
    },
    {
      "cell_type": "markdown",
      "metadata": {
        "id": "yDRdffdQB-mB"
      },
      "source": [
        "## Submission\n",
        "When you're ready to submit, complete the following steps:\n",
        "1. Review the [rubric](https://review.udacity.com/#!/rubrics/1004/view) to ensure your submission meets all requirements to pass\n",
        "2. Generate an HTML version of this notebook\n",
        "\n",
        "  - Run the next cell to attempt automatic generation (this is the recommended method in Workspaces)\n",
        "  - Navigate to **FILE -> Download as -> HTML (.html)**\n",
        "  - Manually generate a copy using `nbconvert` from your shell terminal\n",
        "```\n",
        "$ pip install nbconvert\n",
        "$ python -m nbconvert machine_translation.ipynb\n",
        "```\n",
        "  \n",
        "3. Submit the project\n",
        "\n",
        "  - If you are in a Workspace, simply click the \"Submit Project\" button (bottom towards the right)\n",
        "  \n",
        "  - Otherwise, add the following files into a zip archive and submit them \n",
        "  - `helper.py`\n",
        "  - `machine_translation.ipynb`\n",
        "  - `machine_translation.html`\n",
        "    - You can export the notebook by navigating to **File -> Download as -> HTML (.html)**."
      ]
    },
    {
      "cell_type": "markdown",
      "metadata": {
        "id": "9RAm4YDGB-mB"
      },
      "source": [
        "### Generate the html\n",
        "\n",
        "**Save your notebook before running the next cell to generate the HTML output.** Then submit your project."
      ]
    },
    {
      "cell_type": "code",
      "execution_count": null,
      "metadata": {
        "id": "v8yTVxCGB-mC",
        "outputId": "f8a96fd6-8765-4f69-9f7a-703f023ba049"
      },
      "outputs": [
        {
          "data": {
            "text/plain": [
              "['[NbConvertApp] Converting notebook machine_translation.ipynb to html',\n",
              " '[NbConvertApp] Writing 360541 bytes to machine_translation.html',\n",
              " '[NbConvertApp] Converting notebook machine_translation_template.ipynb to html',\n",
              " '[NbConvertApp] Writing 306476 bytes to machine_translation_template.html']"
            ]
          },
          "execution_count": 21,
          "metadata": {},
          "output_type": "execute_result"
        }
      ],
      "source": [
        "# Save before you run this cell!\n",
        "!!jupyter nbconvert *.ipynb"
      ]
    },
    {
      "cell_type": "markdown",
      "metadata": {
        "id": "h6ENwTsjB-mC"
      },
      "source": [
        "## Optional Enhancements\n",
        "\n",
        "This project focuses on learning various network architectures for machine translation, but we don't evaluate the models according to best practices by splitting the data into separate test & training sets -- so the model accuracy is overstated. Use the [`sklearn.model_selection.train_test_split()`](http://scikit-learn.org/stable/modules/generated/sklearn.model_selection.train_test_split.html) function to create separate training & test datasets, then retrain each of the models using only the training set and evaluate the prediction accuracy using the hold out test set. Does the \"best\" model change?"
      ]
    }
  ],
  "metadata": {
    "kernelspec": {
      "display_name": "Python 3",
      "language": "python",
      "name": "python3"
    },
    "language_info": {
      "codemirror_mode": {
        "name": "ipython",
        "version": 3
      },
      "file_extension": ".py",
      "mimetype": "text/x-python",
      "name": "python",
      "nbconvert_exporter": "python",
      "pygments_lexer": "ipython3",
      "version": "3.6.3"
    },
    "colab": {
      "name": "Copie de machine_translation.ipynb",
      "provenance": [],
      "include_colab_link": true
    },
    "accelerator": "GPU"
  },
  "nbformat": 4,
  "nbformat_minor": 0
}