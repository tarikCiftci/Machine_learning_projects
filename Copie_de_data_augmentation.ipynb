{
  "nbformat": 4,
  "nbformat_minor": 0,
  "metadata": {
    "colab": {
      "name": "Copie de data_augmentation.ipynb",
      "provenance": [],
      "include_colab_link": true
    },
    "kernelspec": {
      "name": "python3",
      "display_name": "Python 3"
    },
    "language_info": {
      "name": "python"
    }
  },
  "cells": [
    {
      "cell_type": "markdown",
      "metadata": {
        "id": "view-in-github",
        "colab_type": "text"
      },
      "source": [
        "<a href=\"https://colab.research.google.com/github/tarikCiftci/Machine_learning_projects/blob/main/Copie_de_data_augmentation.ipynb\" target=\"_parent\"><img src=\"https://colab.research.google.com/assets/colab-badge.svg\" alt=\"Open In Colab\"/></a>"
      ]
    },
    {
      "cell_type": "code",
      "execution_count": null,
      "metadata": {
        "id": "h6WZhEmh4c4k"
      },
      "outputs": [],
      "source": [
        "# import the necessary packages\n",
        "from keras.preprocessing.image import ImageDataGenerator\n",
        "from keras.preprocessing.image import img_to_array\n",
        "from keras.preprocessing.image import load_img\n",
        "import numpy as np\n",
        "import os\n",
        "import glob\n"
      ]
    },
    {
      "cell_type": "code",
      "source": [
        "generated_dataset_path = 'generated_dataset'\n",
        "os.mkdir(generated_dataset_path)\n",
        "os.mkdir(generated_dataset_path+'/cats')\n",
        "os.mkdir(generated_dataset_path+'/dogs/')"
      ],
      "metadata": {
        "id": "f1dH5bJP5PJN"
      },
      "execution_count": null,
      "outputs": []
    },
    {
      "cell_type": "code",
      "source": [
        "image = load_img('dog.jpg')\n",
        "image = img_to_array(image)\n",
        "image = np.expand_dims(image, axis=0)\n",
        "\n",
        "# construct the image generator for data augmentation then\n",
        "# initialize the total number of images generated thus far\n",
        "aug = ImageDataGenerator(\n",
        "\trotation_range=30,\n",
        "\tzoom_range=0.15,\n",
        "\twidth_shift_range=0.2,\n",
        "\theight_shift_range=0.2,\n",
        "\tshear_range=0.15,\n",
        "\thorizontal_flip=True,\n",
        "\tfill_mode=\"nearest\")\n",
        "total = 0\n",
        "\n",
        "# construct the actual Python generator\n",
        "print(\"[INFO] generating images...\")\n",
        "imageGen = aug.flow(image, batch_size=1, save_to_dir=generated_dataset_path+'/dogs',\n",
        "\tsave_prefix=\"image\", save_format=\"jpg\")\n",
        "\n",
        "# loop over examples from our image data augmentation generator\n",
        "for image in imageGen:\n",
        "\t# increment our counter\n",
        "\ttotal += 1\n",
        "\n",
        "\t# if we have reached the specified number of examples, break\n",
        "\t# from the loop\n",
        "\tif total == 100:\n",
        "\t\tbreak"
      ],
      "metadata": {
        "id": "xs8FVwxN48e9"
      },
      "execution_count": null,
      "outputs": []
    }
  ]
}